{
 "cells": [
  {
   "cell_type": "markdown",
   "metadata": {},
   "source": [
    "# INITIAL TABLE ASSUMPTIONS\n",
    "\n",
    "```yaml\n",
    "TABLE:\n",
    "    - NAME: ZETA\n",
    "    - COLS:\n",
    "        - UID:\n",
    "            TYPE: PRIMARY KEY\n",
    "            DESC: UNIQUE ID\n",
    "        - ZID:\n",
    "            TYPE: INTEGER\n",
    "            DESC: ZETA USER ID\n",
    "        - ZDATE:\n",
    "            TYPE: DATE\n",
    "            DESC: ACT DATE\n",
    "            NOTE: ASCENDING\n",
    "```"
   ]
  },
  {
   "cell_type": "markdown",
   "metadata": {},
   "source": [
    "## SET VARIABLES\n",
    "*NOTE*: `DECLARE` statement is not available in `SQLite`; thus we \"pseudo-assign\" vars with a `TEMP TABLE`\n",
    "\n",
    "```sqlite\n",
    "CREATE TEMP TABLE IF NOT EXISTS VARS (NAME TEXT PRIMARY KEY, DVAL DATE, SVAL TEXT, IVAL INTEGER);\n",
    "INSERT OR REPLACE INTO VARS (NAME, DVAL) VALUES ('FROM', '2008-01-01');\n",
    "INSERT OR REPLACE INTO VARS (NAME, DVAL) VALUES ('UNTIL', '2008-05-01');\n",
    "INSERT OR REPLACE INTO VARS (NAME, SVAL, IVAL) VALUES ('CHURN', '+28 days', 28);\n",
    "-- SELECT * FROM VARS\n",
    "```"
   ]
  },
  {
   "cell_type": "markdown",
   "metadata": {},
   "source": [
    "## TABLE WITH THE DATES OF INTEREST\n",
    "\n",
    "```sqlite\n",
    "CREATE TEMP TABLE IF NOT EXISTS ZETA2 AS\n",
    "\tSELECT ZT.*\n",
    "\tFROM ZETA AS ZT\n",
    "\tWHERE ZT.ZDATE\n",
    "\t\tBETWEEN\n",
    "\t\t\t(SELECT DVAL FROM VARS WHERE NAME = 'FROM')\n",
    "\t\tAND\n",
    "\t\t\t(SELECT DVAL FROM VARS WHERE NAME = 'UNTIL');\n",
    "-- SELECT * FROM ZETA2\n",
    "```"
   ]
  },
  {
   "cell_type": "markdown",
   "metadata": {},
   "source": [
    "# QUERIES"
   ]
  },
  {
   "cell_type": "markdown",
   "metadata": {},
   "source": [
    "### 1. NEW USERS PER DAY\n",
    "\n",
    "```sqlite\n",
    "WITH NEW AS (\n",
    "--\tDATE (ASC): GROUP BY GIVES 1ST DATE PER USER\n",
    "\tSELECT UID\n",
    "\tFROM ZETA2\n",
    "\tGROUP BY ZID\n",
    ")\n",
    "-- SUM NEW USERS PER DAY\n",
    "SELECT\tZT.ZDATE AS \"DATE\",\n",
    "\t\tSUM(CASE\n",
    "\t\t\tWHEN ZT.UID IN (SELECT * FROM NEW) THEN 1\n",
    "\t\t\tELSE 0\n",
    "\t\t\tEND) AS \"NEW USERS\"\n",
    "FROM ZETA2 AS ZT\n",
    "GROUP BY ZT.ZDATE;\n",
    "```"
   ]
  },
  {
   "cell_type": "markdown",
   "metadata": {},
   "source": [
    "### 2. CHURN ACCOUNTS PER DAY\n",
    "\n",
    "```sqlite\n",
    "WITH\n",
    "UNTIL AS (\n",
    "--\tTO IMPROVE READABILITY\n",
    "\tSELECT DATE(DVAL, '-1 days') AS DVAL\n",
    "\tFROM VARS\n",
    "\tWHERE NAME = 'UNTIL'\n",
    "\tLIMIT 1\n",
    "),\n",
    "CHURN AS (\n",
    "--\tTO IMPROVE READABILITY\n",
    "\tSELECT IVAL, SVAL FROM VARS\n",
    "\tWHERE NAME = 'CHURN'\n",
    "\tLIMIT 1\n",
    "),\n",
    "DATES AS (\n",
    "--\tGET CHURN DATES\n",
    "\tSELECT\tZT.ZDATE,\n",
    "\t\t\tCASE\n",
    "\t\t\tWHEN\n",
    "\t\t\t\t--\tIF ZID IS THE SAME AND DATE DIFFERENCE IS OVER CHURN\n",
    "\t\t\t\t\t(ZT.ZID = LEAD(ZT.ZID) OVER (ORDER BY ZT.ZID)\n",
    "\t\t\t\t\tAND\n",
    "\t\t\t\t\tJULIANDAY(LEAD(ZT.ZDATE) OVER (ORDER BY ZT.ZID)) - JULIANDAY(ZT.ZDATE) >= (SELECT IVAL FROM CHURN))\n",
    "\t\t\t\tOR\n",
    "\t\t\t\t--\tIF LAST ZID AND DATE DIFFERENCE UNTIL END IS OVER CHURN\n",
    "\t\t\t\t\t(ZT.ZID <> LEAD(ZT.ZID) OVER (ORDER BY ZT.ZID)\n",
    "\t\t\t\t\tAND\n",
    "\t\t\t\t\tJULIANDAY((SELECT * FROM UNTIL)) - JULIANDAY(ZT.ZDATE) >= (SELECT IVAL FROM CHURN))\n",
    "\t\t\tTHEN DATE(ZT.ZDATE, (SELECT SVAL FROM CHURN))\n",
    "\t\t\tELSE NULL\n",
    "\t\t\tEND AS CDATE\n",
    "\tFROM ZETA2 AS ZT\n",
    ")\n",
    "--\tCOUNT CHURN USERS PER DAY\n",
    "SELECT\tDD.ZDATE AS \"DATE\",\n",
    "\t\tCASE\n",
    "\t\t--\tIF DATE IS IN CHURN DATES\n",
    "\t\tWHEN DD.ZDATE IN (SELECT K.CDATE FROM DATES K)\n",
    "\t\tTHEN (SELECT COUNT(CDATE) FROM DATES K WHERE CDATE = DD.ZDATE)\n",
    "\t\tELSE 0\n",
    "\t\tEND AS \"USERS CHURN\"\n",
    "FROM DATES AS DD\n",
    "GROUP BY DD.ZDATE;\n",
    "```"
   ]
  },
  {
   "cell_type": "markdown",
   "metadata": {},
   "source": [
    "### 3. REACTIVATED ACCOUNTS PER DAY\n",
    "\n",
    "```sqlite\n",
    "WITH\n",
    "_CHURN AS (\n",
    "--\tTO IMPROVE READABILITY\n",
    "\tSELECT IVAL FROM VARS\n",
    "\tWHERE NAME = 'CHURN'\n",
    "),\n",
    "_REACT AS (\n",
    "--\tDAYS WITH REACTIVATIONS\n",
    "\tSELECT\tZDATE,\n",
    "\t\t\tCASE\n",
    "\t\t\tWHEN\n",
    "\t\t\t--\tIF ZIDS ARE EQUAL AND THE DAY DIFF IS OVER CHURN\n",
    "\t\t\t\t(ZID = LAG(ZID) OVER (ORDER BY ZID))\n",
    "\t\t\t\tAND\n",
    "\t\t\t\t(JULIANDAY(ZDATE) - JULIANDAY(LAG(ZDATE) OVER (ORDER BY ZID)) >= (SELECT * FROM _CHURN))\n",
    "\t\t\tTHEN 1\n",
    "\t\t\tELSE 0\n",
    "\t\t\tEND AS DIFF\n",
    "\tFROM ZETA2\n",
    ")\n",
    "--\tSUM REACTIVATIONS PER DAY\n",
    "SELECT\tZDATE AS \"DATE\",\n",
    "\t\tSUM(DIFF) AS \"USERS REACTIVATED\"\n",
    "FROM _REACT\n",
    "GROUP BY ZDATE;\n",
    "```"
   ]
  }
 ],
 "metadata": {
  "kernelspec": {
   "display_name": "Python 3",
   "language": "python",
   "name": "python3"
  },
  "language_info": {
   "codemirror_mode": {
    "name": "ipython",
    "version": 3
   },
   "file_extension": ".py",
   "mimetype": "text/x-python",
   "name": "python",
   "nbconvert_exporter": "python",
   "pygments_lexer": "ipython3",
   "version": "3.8.5"
  }
 },
 "nbformat": 4,
 "nbformat_minor": 4
}
