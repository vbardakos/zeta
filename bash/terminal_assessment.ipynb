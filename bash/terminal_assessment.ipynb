{
 "cells": [
  {
   "cell_type": "markdown",
   "metadata": {},
   "source": [
    "# Terminal Assessment\n",
    "The files included are as follow\n",
    "```yaml\n",
    "main.sh: answers to the questions\n",
    "trycatch.sh: try/catch util; source is in the file\n",
    "histogram.sh: includes histogram func and dependencies to draw a histogram\n",
    "bridge_len.sh: executable, which provides total length given a type of bridge\n",
    "```\n",
    "\n",
    "> In this notebook, the scripts (ie `main.sh & histogram.sh`) have been split\n",
    "> accordingly to improve readability.\n",
    "> \n",
    "> Although, due to multiple cells we need to declare\n",
    "> vars multiple times"
   ]
  },
  {
   "cell_type": "code",
   "execution_count": 1,
   "metadata": {},
   "outputs": [
    {
     "name": "stdout",
     "output_type": "stream",
     "text": [
      "BashVersion: 3.2.57(1)-release\n",
      "ProductName: Mac OS X ProductVersion: 10.15.4 BuildVersion: 19E287\n"
     ]
    }
   ],
   "source": [
    "%%bash\n",
    "\n",
    "echo BashVersion: $BASH_VERSION\n",
    "echo $(sw_vers)"
   ]
  },
  {
   "cell_type": "markdown",
   "metadata": {},
   "source": [
    "### File Download"
   ]
  },
  {
   "cell_type": "code",
   "execution_count": 2,
   "metadata": {},
   "outputs": [
    {
     "name": "stdout",
     "output_type": "stream",
     "text": [
      "File 'bridges.data.version1' already exists\n"
     ]
    },
    {
     "name": "stderr",
     "output_type": "stream",
     "text": [
      "trycatch.sh: line 6: declare: -g: invalid option\n",
      "declare: usage: declare [-afFirtx] [-p] [name[=value] ...]\n"
     ]
    }
   ],
   "source": [
    "%%bash\n",
    "\n",
    "source trycatch.sh\n",
    "\n",
    "link=\"http://archive.ics.uci.edu/ml/machine-learning-databases/bridges/bridges.data.version1\"\n",
    "file=$(echo $link | tr '/' '\\n' | tail -1)  # original file name\n",
    "\n",
    "# download file if needed\n",
    "# shellcheck disable=SC1009\n",
    "if [ ! -f \"$file\" ]; then\n",
    "  try {\n",
    "    set +e\n",
    "    curl --url \"$link\" --output \"$file\";\n",
    "    echo \"File '$file' downloaded successfully!\";\n",
    "  } catch {\n",
    "    echo \"File '$file' failed to download\";\n",
    "  }\n",
    "else\n",
    "  echo \"File '$file' already exists\";\n",
    "fi\n"
   ]
  },
  {
   "cell_type": "markdown",
   "metadata": {},
   "source": [
    "### Add Column Names"
   ]
  },
  {
   "cell_type": "code",
   "execution_count": 3,
   "metadata": {},
   "outputs": [
    {
     "name": "stdout",
     "output_type": "stream",
     "text": [
      "column names are already added to bridges.data.version1\n",
      "\n",
      "\n",
      "FILE HEADER:\n",
      "\n",
      "IDENTIF,RIVER,LOCATION,ERECTED,PURPOSE,LENGTH,LANES,CLEAR-G,T-OR-D,MATERIAL,SPAN,REL-L,TYPE\n",
      "E1,M,3,1818,HIGHWAY,?,2,N,THROUGH,WOOD,SHORT,S,WOOD\n",
      "E2,A,25,1819,HIGHWAY,1037,2,N,THROUGH,WOOD,SHORT,S,WOOD\n"
     ]
    }
   ],
   "source": [
    "%%bash\n",
    "\n",
    "cols=\"IDENTIF,RIVER,LOCATION,ERECTED,PURPOSE,LENGTH,LANES,CLEAR-G,T-OR-D,MATERIAL,SPAN,REL-L,TYPE\"\n",
    "file=\"bridges.data.version1\"  # this var already exists\n",
    "\n",
    "# add column names if needed\n",
    "line=\"$(head -1 $file)\"\n",
    "if [[ ! $line == $cols ]]; then\n",
    "\n",
    "  echo \"adding column names to $file...\";\n",
    "  sed -i \"\" -e $'1 i\\\\\\n'\"$cols\" $file;  # this may not work in other operating systems\n",
    "\n",
    "else\n",
    "  echo \"column names are already added to $file\";\n",
    "fi\n",
    "\n",
    "printf \"\\n\\nFILE HEADER:\\n\\n\"\n",
    "\n",
    "sed -n 1,3p $file"
   ]
  },
  {
   "cell_type": "markdown",
   "metadata": {},
   "source": [
    "### Generate Histogram for \"PURPOSE\" & \"LENGTH\""
   ]
  },
  {
   "cell_type": "markdown",
   "metadata": {},
   "source": [
    "#### Create histogram function for multiple cases\n",
    "While \"length\" is numeric (int) and needs to be grouped within intervals, \"purpose\" is categorical and we cannot use bins.\n",
    "\n",
    "*Note: Bash and `histogram.sh` do not support floats. In this case it will not show the data within intervals. Sometimes the last interval exceeds the max array value, but this does not affect the results*"
   ]
  },
  {
   "cell_type": "code",
   "execution_count": 4,
   "metadata": {},
   "outputs": [
    {
     "name": "stdout",
     "output_type": "stream",
     "text": [
      "init: 10 9 8 7 6 5 4 3 2 1 0\n",
      "ints? true\n",
      "bins: 0 2 4 6 8 10\n"
     ]
    }
   ],
   "source": [
    "%%bash\n",
    "#!/usr/bin/env bash\n",
    "\n",
    "# shellcheck disable=SC2120\n",
    "function intervals() {\n",
    "  local Bin=$1\n",
    "  local Vec=(\"${@:2}\")\n",
    "  local uni=($(echo \"${Vec[@]}\" | tr \" \" \"\\n\" | sort -u)) # sort expects new lines\n",
    "  checker=true                                            # checker if Vec[@] are int\n",
    "\n",
    "  # if bins int & gt 0\n",
    "  if [ \"$Bin\" -gt 1 ] && [ \"$Bin\" -lt ${#Vec[@]} ]; then\n",
    "    for u in \"${uni[@]}\"; do\n",
    "      # if any observation not int\n",
    "      if ! [ \"$u\" -eq \"$u\" ]; then\n",
    "        checker=false\n",
    "        break\n",
    "      fi\n",
    "    done\n",
    "  else\n",
    "    checker=false\n",
    "  fi\n",
    "\n",
    "  if $checker; then\n",
    "    local M=${Vec[0]}\n",
    "    local m=${Vec[0]}\n",
    "\n",
    "    for n in \"${Vec[@]}\"; do\n",
    "      ((n > M)) && M=$n\n",
    "      ((n < m)) && m=$n\n",
    "    done\n",
    "    \n",
    "    local size=$(((M - m) / Bin))\n",
    "    # round bins accordingly\n",
    "    if (((M-m)%bin >= (bin+1)/2)); then\n",
    "        local size=$((size+1))\n",
    "    fi\n",
    "\n",
    "    for ((i = 0; i <= Bin; i++)); do\n",
    "      i_array+=($((m + i * size)))\n",
    "    done\n",
    "  else\n",
    "    i_array=(\"${uni[@]}\")\n",
    "  fi\n",
    "}\n",
    "\n",
    "# example\n",
    "bin=5\n",
    "arr=(10 9 8 7 6 5 4 3 2 1 0)\n",
    "intervals \"$bin\" \"${arr[@]}\"\n",
    "\n",
    "echo \"init: ${arr[@]}\"\n",
    "echo \"ints? $checker\"\n",
    "echo \"bins: ${i_array[@]}\"\n"
   ]
  },
  {
   "cell_type": "markdown",
   "metadata": {},
   "source": [
    "#### Histogram function\n",
    "It calls `intervals` and uses globals `i_array & checker` to determine the intervals and behaviour"
   ]
  },
  {
   "cell_type": "code",
   "execution_count": 5,
   "metadata": {},
   "outputs": [],
   "source": [
    "%%bash\n",
    "#!/usr/bin/env bash\n",
    "\n",
    "function histogram() {\n",
    "  local Bin=$2\n",
    "  local Vec=(\"${@:3}\")\n",
    "  intervals \"$Bin\" \"${Vec[@]}\"\n",
    "  declare -a hist\n",
    "\n",
    "  for n in \"${Vec[@]}\"; do\n",
    "    declare -i i=0\n",
    "    if $checker; then\n",
    "      while (($n >= ${i_array[i]})); do\n",
    "        i+=1\n",
    "      done\n",
    "    else\n",
    "      while [[ $n != \"${i_array[i]}\" ]]; do\n",
    "        i+=1\n",
    "      done\n",
    "    fi\n",
    "    hist[i]+=\"=\"\n",
    "  done\n",
    "\n",
    "  echo; echo \"TITLE: $1\"\n",
    "  for i in \"${!hist[@]}\"; do\n",
    "    if $checker; then\n",
    "      echo \"${i_array[i - 1]}\"-\"${i_array[i]}\": ${hist[i]}\n",
    "    else\n",
    "      echo \"${i_array[i]}\": \"${hist[i]}\"\n",
    "    fi\n",
    "  done\n",
    "}\n"
   ]
  },
  {
   "cell_type": "markdown",
   "metadata": {},
   "source": [
    "#### Get Column indices and names in an array"
   ]
  },
  {
   "cell_type": "code",
   "execution_count": 6,
   "metadata": {},
   "outputs": [
    {
     "name": "stdout",
     "output_type": "stream",
     "text": [
      "PURPOSE @ 5\n",
      "LENGTH @ 6\n"
     ]
    }
   ],
   "source": [
    "%%bash\n",
    "\n",
    "cols=\"IDENTIF,RIVER,LOCATION,ERECTED,PURPOSE,LENGTH,LANES,CLEAR-G,T-OR-D,MATERIAL,SPAN,REL-L,TYPE\"\n",
    "c_arr=($(echo $cols | tr ',' ' '))\n",
    "\n",
    "arr=(\"PURPOSE\" \"LENGTH\")\n",
    "\n",
    "# $i+1 is used because arrays start by 0\n",
    "# but `cut` starts by 1\n",
    "for col in \"${arr[@]}\"; do\n",
    "  for i in ${!c_arr[@]}; do\n",
    "    if [ \"${c_arr[i]}\" == \"$col\" ]; then\n",
    "      idx[$((i+1))]=$col\n",
    "      echo \"$col @ $((i+1))\"\n",
    "      break\n",
    "    fi\n",
    "  done\n",
    "done\n"
   ]
  },
  {
   "cell_type": "markdown",
   "metadata": {},
   "source": [
    "#### Nan_remover func & run histograms\n",
    "*Warning: if all vals are not `int` but works as expected* \n",
    "\n",
    "*Note: Each \"=\" is an occurence*"
   ]
  },
  {
   "cell_type": "code",
   "execution_count": 7,
   "metadata": {},
   "outputs": [
    {
     "name": "stdout",
     "output_type": "stream",
     "text": [
      "\n",
      "TITLE: PURPOSE\n",
      "AQUEDUCT: ====\n",
      "HIGHWAY: =======================================================================\n",
      "RR: ================================\n",
      "WALK: =\n",
      "\n",
      "TITLE: LENGTH\n",
      "804-1180: =================================\n",
      "1180-1556: ==================\n",
      "1556-1932: =========\n",
      "1932-2308: ===========\n",
      "2308-2684: =====\n",
      "2684-3060: ==\n",
      "3436-3812: =\n",
      "3812-4188: =\n",
      "4188-4564: =\n"
     ]
    },
    {
     "name": "stderr",
     "output_type": "stream",
     "text": [
      "histogram.sh: line 14: [: AQUEDUCT: integer expression expected\n"
     ]
    }
   ],
   "source": [
    "%%bash\n",
    "\n",
    "source histogram.sh\n",
    "\n",
    "file=\"bridges.data.version1\"\n",
    "declare -a idx=([5]=\"PURPOSE\" [6]=\"LENGTH\")  # this has gotten above\n",
    "\n",
    "# gets the array & the val to be removed ($1)\n",
    "function nan_remover() {\n",
    "  local Vec=(\"${@:2}\")\n",
    "  local Nan=$1\n",
    "\n",
    "  for val in \"${Vec[@]}\"; do\n",
    "    # shellcheck disable=SC2053\n",
    "    if [[ $val != $Nan ]]; then\n",
    "      new_arr+=(\"$val\")\n",
    "    fi\n",
    "  done\n",
    "  echo \"${new_arr[@]}\"\n",
    "}\n",
    "\n",
    "bin=10\n",
    "for i in \"${!idx[@]}\"; do\n",
    "  arr=($(cat $file | cut -d ',' -f\"$i\" | tail -n +2))  # start @ line 2\n",
    "  arr=($(nan_remover ? \"${arr[@]}\"))\n",
    "  histogram \"${idx[i]}\" \"$bin\" \"${arr[@]}\"  # args: title bin_num array\n",
    "done"
   ]
  },
  {
   "cell_type": "markdown",
   "metadata": {},
   "source": [
    "### Count # of Bridges with length over 1000\n",
    "\n",
    "> ***Notice***\n",
    "> \n",
    "> In this case, the result can be found with `histogram` func by using `bins=(max-min)/(1000-min)`.\n",
    "> \n",
    "> However, this methodology cannot be used in every possible case since `histogram` does not support\n",
    "> floats."
   ]
  },
  {
   "cell_type": "code",
   "execution_count": 8,
   "metadata": {},
   "outputs": [
    {
     "name": "stdout",
     "output_type": "stream",
     "text": [
      ">1000 Vals: 59\n",
      "Total Vals: 81\n"
     ]
    }
   ],
   "source": [
    "%%bash\n",
    "\n",
    "file=\"bridges.data.version1\"\n",
    "\n",
    "function nan_remover() {\n",
    "  local Vec=(\"${@:2}\")\n",
    "  local Nan=$1\n",
    "\n",
    "  for val in \"${Vec[@]}\"; do\n",
    "    # shellcheck disable=SC2053\n",
    "    if [[ $val != $Nan ]]; then\n",
    "      new_arr+=(\"$val\")\n",
    "    fi\n",
    "  done\n",
    "  echo \"${new_arr[@]}\"\n",
    "}\n",
    "\n",
    "\n",
    "arr=($(cat $file | cut -d ',' -f6 | tail -n +2))\n",
    "arr=($(nan_remover ? \"${arr[@]}\"))\n",
    "lim=1000\n",
    "\n",
    "declare -i total=0\n",
    "for i in \"${arr[@]}\"; do\n",
    "  if (( $i > $lim )); then\n",
    "    (( total++ ))\n",
    "  fi\n",
    "done\n",
    "\n",
    "echo \">$lim Vals: $total\"\n",
    "echo \"Total Vals: ${#arr[@]}\";\n"
   ]
  },
  {
   "cell_type": "markdown",
   "metadata": {},
   "source": [
    "### Replace `?` with `0` in Terminal"
   ]
  },
  {
   "cell_type": "code",
   "execution_count": 9,
   "metadata": {},
   "outputs": [
    {
     "name": "stdout",
     "output_type": "stream",
     "text": [
      "success\r\n"
     ]
    }
   ],
   "source": [
    "!tr ? 0 < bridges.data.version1 > bridges.data.new && echo success"
   ]
  },
  {
   "cell_type": "markdown",
   "metadata": {},
   "source": [
    "### Executable which takes `TYPE` and returns total `LENGTH` of `TYPE`"
   ]
  },
  {
   "cell_type": "markdown",
   "metadata": {},
   "source": [
    "#### bridge_len script"
   ]
  },
  {
   "cell_type": "code",
   "execution_count": 10,
   "metadata": {},
   "outputs": [
    {
     "name": "stdout",
     "output_type": "stream",
     "text": [
      "PLEASE INPUT 'TYPE' OF BRIDGE. Available types:\n",
      "0 ARCH CANTILEV CONT-T NIL SIMPLE-T SUSPEN WOOD "
     ]
    }
   ],
   "source": [
    "%%bash\n",
    "#!/usr/bin/env bash\n",
    "# bridge_len.sh\n",
    "\n",
    "my_var=$1\n",
    "file=\"bridges.data.new\"\n",
    "\n",
    "length=($(cat $file | cut -d ',' -f6 | tail -n +2))\n",
    "type=($(cat $file | cut -d ',' -f13 | tail -n +2))\n",
    "\n",
    "declare -i counter=0\n",
    "for i in \"${!type[@]}\"; do\n",
    "  if [[ \"${type[i]}\" == \"$my_var\" ]]; then\n",
    "    counter=$(( counter+length[i] ))\n",
    "  fi\n",
    "done\n",
    "\n",
    "if ((${#my_var})); then\n",
    "    echo \"TOTAL LENGTH OF $my_var BRIDGES: $counter\";\n",
    "else\n",
    "    echo \"PLEASE INPUT 'TYPE' OF BRIDGE. Available types:\"\n",
    "    echo \"${type[@]}\" | tr \" \" \"\\n\" | sort -u | tr \"\\n\" \" \"\n",
    "fi\n"
   ]
  },
  {
   "cell_type": "markdown",
   "metadata": {},
   "source": [
    "#### make it executable & run it"
   ]
  },
  {
   "cell_type": "code",
   "execution_count": 11,
   "metadata": {},
   "outputs": [
    {
     "name": "stdout",
     "output_type": "stream",
     "text": [
      "-rwxr-xr-x  1 vbardakos  staff  386 Dec 14 13:23 \u001b[31mbridge_len.sh\u001b[m\u001b[m\n",
      "\n",
      "TOTAL LENGTH OF WOOD BRIDGES: 9519\n"
     ]
    }
   ],
   "source": [
    "!chmod +x bridge_len.sh && ls -l bridge_len.sh && echo;\n",
    "!./bridge_len.sh WOOD"
   ]
  }
 ],
 "metadata": {
  "kernelspec": {
   "display_name": "Python 3",
   "language": "python",
   "name": "python3"
  },
  "language_info": {
   "codemirror_mode": {
    "name": "ipython",
    "version": 3
   },
   "file_extension": ".py",
   "mimetype": "text/x-python",
   "name": "python",
   "nbconvert_exporter": "python",
   "pygments_lexer": "ipython3",
   "version": "3.9.0"
  }
 },
 "nbformat": 4,
 "nbformat_minor": 4
}
