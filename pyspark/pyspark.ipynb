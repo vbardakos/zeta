{
 "cells": [
  {
   "cell_type": "markdown",
   "metadata": {
    "id": "xuYwGzOoh_IT"
   },
   "source": [
    "# PySpark Assessment\n",
    "\n",
    "## Setup Local Environment"
   ]
  },
  {
   "cell_type": "markdown",
   "metadata": {
    "pycharm": {
     "name": "#%% md\n"
    }
   },
   "source": [
    "### Windows\n",
    "---\n",
    "Prerequisites for the following the steps:\n",
    "\n",
    "    1. Windows OS\n",
    "    2. miniconda3\n",
    "        - install only for current User (to avoid system vars)\n",
    "        - use `include to PATH` during installation\n",
    "    3. Installation of Java JDK 8\n",
    "    4. winutils.exe\n",
    "        - can be found in github\n",
    "        - moved to sample dir `C:\\winutils\\bin\\winutils.exe`"
   ]
  },
  {
   "cell_type": "raw",
   "metadata": {
    "pycharm": {
     "name": "#%% raw\n"
    }
   },
   "source": [
    "C:\\Users\\SampleUser> rem // recheck whether Java is installed properly\n",
    "C:\\Users\\SampleUser> java -version\n",
    "java version \"1.8.0_271\"\n",
    "Java(TM) SE Runtime Environment (build 1.8.0_271-b09)\n",
    "Java HotSpot(TM) 64-Bit Server VM (build 25.271-b09, mixed mode)\n",
    "\n",
    "C:\\Users\\SampleUser> rem // add hadoop_home to User Environment Variables\n",
    "C:\\Users\\SampleUser> setx \"HADOOP_HOME\" \"C:\\winutils\"\n",
    "\n",
    "SUCCESS: Specified value was saved.\n",
    "\n",
    "C:\\Users\\SampleUser> rem // assuming conda is included in PATH, otherwise use Anaconda cmd\n",
    "C:\\Users\\SampleUser> rem // create environment pyspark\n",
    "C:\\Users\\SampleUser> conda create -n pyspark python=3.8\n",
    "\n",
    "C:\\Users\\SampleUser> conda activate pyspark\n",
    "\n",
    "(pyspark) C:\\Users\\SampleUser> python -V\n",
    "python 3.8.5\n",
    "\n",
    "(pyspark) C:\\Users\\SampleUser> rem // install pyspark from pip\n",
    "(pyspark) C:\\Users\\SampleUser> rem // alternative: conda install -c conda-forge pyspark\n",
    "(pyspark) C:\\Users\\SampleUser> pip install pyspark\n",
    "\n",
    "(pyspark) C:\\Users\\SampleUser> rem // packages that may be useful\n",
    "(pyspark) C:\\Users\\SampleUser> conda install numpy pandas\n",
    "\n",
    "(pyspark) C:\\Users\\SampleUser> rem // check pySpark\n",
    "(pyspark) C:\\Users\\SampleUser> pyspark\n",
    "\n",
    "Python 3.8.5 (default, Sep  3 2020, 21:29:08) [MSC v.1916 64 bit (AMD64)] :: Anaconda, Inc. on win32\n",
    "Type \"help\", \"copyright\", \"credits\" or \"license\" for more information.\n",
    "20/11/21 16:04:27 WARN NativeCodeLoader: Unable to load native-hadoop library for your platform... using builtin-java classes where applicable\n",
    "Using Spark's default log4j profile: org/apache/spark/log4j-defaults.properties\n",
    "Setting default log level to \"WARN\".\n",
    "To adjust logging level use sc.setLogLevel(newLevel). For SparkR, use setLogLevel(newLevel).\n",
    "Welcome to\n",
    "      ____              __\n",
    "     / __/__  ___ _____/ /__\n",
    "    _\\ \\/ _ \\/ _ `/ __/  '_/\n",
    "   /__ / .__/\\_,_/_/ /_/\\_\\   version 3.0.1\n",
    "      /_/\n",
    "\n",
    "Using Python version 3.8.5 (default, Sep  3 2020 21:29:08)\n",
    "SparkSession available as 'spark'."
   ]
  },
  {
   "cell_type": "markdown",
   "metadata": {
    "pycharm": {
     "name": "#%% md\n"
    }
   },
   "source": [
    "### Google Colab"
   ]
  },
  {
   "cell_type": "code",
   "execution_count": 1,
   "metadata": {
    "colab": {
     "base_uri": "https://localhost:8080/"
    },
    "id": "K6yqZ04gX9id",
    "outputId": "4177327c-01bd-4025-f436-e2681732aeab"
   },
   "outputs": [
    {
     "name": "stdout",
     "output_type": "stream",
     "text": [
      "Setup Skipped\n"
     ]
    }
   ],
   "source": [
    "from IPython import get_ipython\n",
    "\n",
    "if \"google.colab\" in str(get_ipython()):\n",
    "    import os\n",
    "    !pip install pyspark\n",
    "    !pip install -U -q PyDrive\n",
    "    !apt install openjdk-8-jdk-headless -qq\n",
    "    !pip install wget\n",
    "\n",
    "    os.environ[\"JAVA_HOME\"] = \"/usr/lib/jvm/java-8-openjdk-amd64\"\n",
    "else:\n",
    "    print(\"Setup Skipped\")"
   ]
  },
  {
   "cell_type": "code",
   "execution_count": 2,
   "metadata": {
    "pycharm": {
     "name": "#%%\n"
    },
    "scrolled": true
   },
   "outputs": [
    {
     "name": "stdout",
     "output_type": "stream",
     "text": [
      "Setup Skipped\n"
     ]
    }
   ],
   "source": [
    "if \"google.colab\" in str(get_ipython()):\n",
    "    !wget https://bin.equinox.io/c/4VmDzA7iaHb/ngrok-stable-linux-amd64.zip\n",
    "    !unzip ngrok-stable-linux-amd64.zip\n",
    "    get_ipython().system_raw('./ngrok http 4050 &')\n",
    "    !curl -s http://localhost:4040/api/tunnels | python3 -c \\\n",
    "        \"import sys, json; print(json.load(sys.stdin)['tunnels'][0]['public_url'])\"\n",
    "else:\n",
    "    print(\"Setup Skipped\")"
   ]
  },
  {
   "cell_type": "markdown",
   "metadata": {
    "pycharm": {
     "name": "#%% md\n"
    }
   },
   "source": [
    "---"
   ]
  },
  {
   "cell_type": "code",
   "execution_count": 3,
   "metadata": {
    "id": "xmXJRbTmgEnM"
   },
   "outputs": [],
   "source": [
    "import pandas as pd\n",
    "import numpy as np\n",
    "import matplotlib.pyplot as plt\n",
    "import pyspark\n",
    "\n",
    "from pyspark.sql import *\n",
    "from pyspark.sql.functions import *\n",
    "from pyspark.sql.dataframe import DataFrame\n",
    "from pyspark import SparkContext, SparkConf\n",
    "\n",
    "%matplotlib inline"
   ]
  },
  {
   "cell_type": "code",
   "execution_count": 4,
   "metadata": {
    "id": "ybOuE4umYRPG"
   },
   "outputs": [],
   "source": [
    "# create session\n",
    "conf = SparkConf().set(\"spark.ui.port\", \"4050\").setAppName('zeta')\n",
    "\n",
    "# create context\n",
    "sc = pyspark.SparkContext(conf=conf)\n",
    "spark = SparkSession.builder.getOrCreate()"
   ]
  },
  {
   "cell_type": "code",
   "execution_count": 5,
   "metadata": {
    "colab": {
     "base_uri": "https://localhost:8080/",
     "height": 216
    },
    "id": "omP-WC4shu-u",
    "outputId": "ab631124-8ae4-4869-de7e-c07b67766c28"
   },
   "outputs": [
    {
     "data": {
      "text/html": [
       "\n",
       "            <div>\n",
       "                <p><b>SparkSession - in-memory</b></p>\n",
       "                \n",
       "        <div>\n",
       "            <p><b>SparkContext</b></p>\n",
       "\n",
       "            <p><a href=\"http://DESKTOP-2BICOT7.lan:4050\">Spark UI</a></p>\n",
       "\n",
       "            <dl>\n",
       "              <dt>Version</dt>\n",
       "                <dd><code>v3.0.1</code></dd>\n",
       "              <dt>Master</dt>\n",
       "                <dd><code>local[*]</code></dd>\n",
       "              <dt>AppName</dt>\n",
       "                <dd><code>zeta</code></dd>\n",
       "            </dl>\n",
       "        </div>\n",
       "        \n",
       "            </div>\n",
       "        "
      ],
      "text/plain": [
       "<pyspark.sql.session.SparkSession at 0x27f70fdb2e0>"
      ]
     },
     "execution_count": 5,
     "metadata": {},
     "output_type": "execute_result"
    }
   ],
   "source": [
    "spark"
   ]
  },
  {
   "cell_type": "markdown",
   "metadata": {},
   "source": [
    "### Fix jupyter whitespace"
   ]
  },
  {
   "cell_type": "code",
   "execution_count": 6,
   "metadata": {},
   "outputs": [
    {
     "data": {
      "text/html": [
       "<style>\n",
       "div.output_area pre {\n",
       "    white-space: pre;\n",
       "}\n",
       "</style>\n"
      ],
      "text/plain": [
       "<IPython.core.display.HTML object>"
      ]
     },
     "metadata": {},
     "output_type": "display_data"
    }
   ],
   "source": [
    "%%html\n",
    "<style>\n",
    "div.output_area pre {\n",
    "    white-space: pre;\n",
    "}\n",
    "</style>"
   ]
  },
  {
   "cell_type": "markdown",
   "metadata": {
    "id": "IEDBIvh5iILK"
   },
   "source": [
    "## Download Census Income"
   ]
  },
  {
   "cell_type": "markdown",
   "metadata": {},
   "source": [
    "#### Input_fn"
   ]
  },
  {
   "cell_type": "code",
   "execution_count": 7,
   "metadata": {
    "id": "hD4HSq8fiMRj"
   },
   "outputs": [
    {
     "name": "stdout",
     "output_type": "stream",
     "text": [
      "+---+--------------------+---+---+--------------------+---+---------------+-------------+--------------------+--------------------+--------------------+---------+------+---------------+---------------+--------------------+----+----+----+-----------------+---------------+---------------+--------------------+--------------------+-------+----------+-----------+-----------+--------------------+---------------+----+--------------------+-------------+-------------+-------------+--------------------+----+---------------+----+----+----+--------+\n",
      "|_c0|                 _c1|_c2|_c3|                 _c4|_c5|            _c6|          _c7|                 _c8|                 _c9|                _c10|     _c11|  _c12|           _c13|           _c14|                _c15|_c16|_c17|_c18|             _c19|           _c20|           _c21|                _c22|                _c23|   _c24|      _c25|       _c26|       _c27|                _c28|           _c29|_c30|                _c31|         _c32|         _c33|         _c34|                _c35|_c36|           _c37|_c38|_c39|_c40|    _c41|\n",
      "+---+--------------------+---+---+--------------------+---+---------------+-------------+--------------------+--------------------+--------------------+---------+------+---------------+---------------+--------------------+----+----+----+-----------------+---------------+---------------+--------------------+--------------------+-------+----------+-----------+-----------+--------------------+---------------+----+--------------------+-------------+-------------+-------------+--------------------+----+---------------+----+----+----+--------+\n",
      "| 73|     Not in universe|  0|  0|High school graduate|  0|Not in universe|      Widowed|Not in universe o...|     Not in universe|               White|All other|Female|Not in universe|Not in universe|  Not in labor force|   0|   0|   0|         Nonfiler|Not in universe|Not in universe|Other Rel 18+ eve...|Other relative of...|1700.09|         ?|          ?|          ?|Not in universe u...|              ?|   0|     Not in universe|United-States|United-States|United-States|Native- Born in t...|   0|Not in universe|   2|   0|  95|- 50000.|\n",
      "| 58|Self-employed-not...|  4| 34|Some college but ...|  0|Not in universe|     Divorced|        Construction|Precision product...|               White|All other|  Male|Not in universe|Not in universe|Children or Armed...|   0|   0|   0|Head of household|          South|       Arkansas|         Householder|         Householder|1053.55|MSA to MSA|Same county|Same county|                  No|            Yes|   1|     Not in universe|United-States|United-States|United-States|Native- Born in t...|   0|Not in universe|   2|  52|  94|- 50000.|\n",
      "| 18|     Not in universe|  0|  0|          10th grade|  0|    High school|Never married|Not in universe o...|     Not in universe|Asian or Pacific ...|All other|Female|Not in universe|Not in universe|  Not in labor force|   0|   0|   0|         Nonfiler|Not in universe|Not in universe|Child 18+ never m...|   Child 18 or older| 991.95|         ?|          ?|          ?|Not in universe u...|              ?|   0|     Not in universe|      Vietnam|      Vietnam|      Vietnam|Foreign born- Not...|   0|Not in universe|   2|   0|  95|- 50000.|\n",
      "|  9|     Not in universe|  0|  0|            Children|  0|Not in universe|Never married|Not in universe o...|     Not in universe|               White|All other|Female|Not in universe|Not in universe|Children or Armed...|   0|   0|   0|         Nonfiler|Not in universe|Not in universe|Child <18 never m...|Child under 18 ne...|1758.14|  Nonmover|   Nonmover|   Nonmover|                 Yes|Not in universe|   0|Both parents present|United-States|United-States|United-States|Native- Born in t...|   0|Not in universe|   0|   0|  94|- 50000.|\n",
      "| 10|     Not in universe|  0|  0|            Children|  0|Not in universe|Never married|Not in universe o...|     Not in universe|               White|All other|Female|Not in universe|Not in universe|Children or Armed...|   0|   0|   0|         Nonfiler|Not in universe|Not in universe|Child <18 never m...|Child under 18 ne...|1069.16|  Nonmover|   Nonmover|   Nonmover|                 Yes|Not in universe|   0|Both parents present|United-States|United-States|United-States|Native- Born in t...|   0|Not in universe|   0|   0|  94|- 50000.|\n",
      "+---+--------------------+---+---+--------------------+---+---------------+-------------+--------------------+--------------------+--------------------+---------+------+---------------+---------------+--------------------+----+----+----+-----------------+---------------+---------------+--------------------+--------------------+-------+----------+-----------+-----------+--------------------+---------------+----+--------------------+-------------+-------------+-------------+--------------------+----+---------------+----+----+----+--------+\n",
      "only showing top 5 rows\n",
      "\n"
     ]
    }
   ],
   "source": [
    "import os\n",
    "\n",
    "\n",
    "my_path = \"../data/\"\n",
    "data_url = \"http://archive.ics.uci.edu/ml/machine-learning-databases/census-income-mld/census-income.data.gz\"\n",
    "\n",
    "def input_fn(url: str, file_path: str = os.path.abspath('.'), **kwargs):\n",
    "    f_path = os.path.join(file_path, url.split('/')[-1])\n",
    "    f_name = '.'.join(f_path.split('.')[:-1])\n",
    "\n",
    "    if not os.path.isfile(f_name):\n",
    "        import wget\n",
    "        import shutil\n",
    "        import gzip\n",
    "\n",
    "        wget.download(url)\n",
    "        with gzip.open(f_path, 'rb') as z:\n",
    "            with open(f_name, 'wb') as f:\n",
    "                shutil.copyfileobj(z, f)\n",
    "    \n",
    "    return spark.read.csv(f_name, **kwargs)\n",
    "\n",
    "\n",
    "df = input_fn(url=data_url, file_path=my_path, inferSchema=False)\n",
    "\n",
    "# trim in case of spaces\n",
    "for c in df.columns:\n",
    "    df = df.withColumn(c, trim(col(c)))\n",
    "\n",
    "df.show(5)"
   ]
  },
  {
   "cell_type": "markdown",
   "metadata": {
    "pycharm": {
     "name": "#%% md\n"
    }
   },
   "source": [
    "#### Fix Column Names"
   ]
  },
  {
   "cell_type": "code",
   "execution_count": 8,
   "metadata": {
    "pycharm": {
     "name": "#%%\n"
    }
   },
   "outputs": [],
   "source": [
    "# column name url\n",
    "name_url = \"http://archive.ics.uci.edu/ml/machine-learning-databases/census-income-mld/census-income.names\"\n",
    "\n",
    "\n",
    "def names_fn(url: str, file_path: str = os.path.abspath('.')):\n",
    "    f_name = os.path.join(file_path, url.split('/')[-1])\n",
    "\n",
    "    if not os.path.isfile(f_name):\n",
    "        import wget\n",
    "        wget.download(url)\n",
    "\n",
    "    with open(f_name, 'rb') as f:\n",
    "        return f.readlines()\n",
    "\n",
    "def names_to_headers(lines: list):\n",
    "    def mapper(l):\n",
    "        l = l.decode('utf-8').strip()\n",
    "        if l and l[0].isalpha():\n",
    "            return l.split(': ')\n",
    "        else:\n",
    "            return None\n",
    "\n",
    "    lines = map(mapper, lines)\n",
    "    lines = filter(lambda l: l, lines)\n",
    "    return list(lines)"
   ]
  },
  {
   "cell_type": "code",
   "execution_count": 9,
   "metadata": {
    "pycharm": {
     "name": "#%%\n"
    }
   },
   "outputs": [
    {
     "name": "stdout",
     "output_type": "stream",
     "text": [
      "42\n"
     ]
    }
   ],
   "source": [
    "info = names_fn(name_url)\n",
    "head = names_to_headers(info)\n",
    "\n",
    "# bool +/- 50k missing\n",
    "head.append(['over 50k', \">50k, <50k\"])\n",
    "\n",
    "print(len(head), sep='\\n')"
   ]
  },
  {
   "cell_type": "code",
   "execution_count": 10,
   "metadata": {
    "pycharm": {
     "name": "#%%\n"
    }
   },
   "outputs": [],
   "source": [
    "def _mapper(x):\n",
    "    x[0] = x[0].replace(' ', '_')\n",
    "    x[1] = x[1].strip('.').split(', ')\n",
    "    return x\n",
    "\n",
    "def change_headers(dataframe: DataFrame, headers: list):\n",
    "    for c, (h, _) in zip(df.columns, headers):\n",
    "        dataframe = dataframe.withColumnRenamed(c, h)\n",
    "    return dataframe"
   ]
  },
  {
   "cell_type": "code",
   "execution_count": 11,
   "metadata": {
    "pycharm": {
     "name": "#%%\n"
    }
   },
   "outputs": [
    {
     "name": "stdout",
     "output_type": "stream",
     "text": [
      "+---+--------------------+------------------------+--------------------------+--------------------+-------------+--------------------------+-------------+--------------------+---------------------+--------------------+---------------+------+-----------------------+-----------------------+---------------------------------+-------------+--------------+---------------------+-----------------+----------------------------+---------------------------+----------------------------------+---------------------------------------+---------------+----------------------------+----------------------------+------------------------------+-----------------------------+-----------------------------+-------------------------------+-----------------------+-----------------------+-----------------------+---------------------+--------------------+-----------------------------+------------------------------------------+-----------------+--------------------+----+--------+\n",
      "|age|     class_of_worker|detailed_industry_recode|detailed_occupation_recode|           education|wage_per_hour|enroll_in_edu_inst_last_wk| marital_stat| major_industry_code|major_occupation_code|                race|hispanic_origin|   sex|member_of_a_labor_union|reason_for_unemployment|full_or_part_time_employment_stat|capital_gains|capital_losses|dividends_from_stocks|   tax_filer_stat|region_of_previous_residence|state_of_previous_residence|detailed_household_and_family_stat|detailed_household_summary_in_household|instance_weight|migration_code-change_in_msa|migration_code-change_in_reg|migration_code-move_within_reg|live_in_this_house_1_year_ago|migration_prev_res_in_sunbelt|num_persons_worked_for_employer|family_members_under_18|country_of_birth_father|country_of_birth_mother|country_of_birth_self|         citizenship|own_business_or_self_employed|fill_inc_questionnaire_for_veteran's_admin|veterans_benefits|weeks_worked_in_year|year|over_50k|\n",
      "+---+--------------------+------------------------+--------------------------+--------------------+-------------+--------------------------+-------------+--------------------+---------------------+--------------------+---------------+------+-----------------------+-----------------------+---------------------------------+-------------+--------------+---------------------+-----------------+----------------------------+---------------------------+----------------------------------+---------------------------------------+---------------+----------------------------+----------------------------+------------------------------+-----------------------------+-----------------------------+-------------------------------+-----------------------+-----------------------+-----------------------+---------------------+--------------------+-----------------------------+------------------------------------------+-----------------+--------------------+----+--------+\n",
      "| 73|     Not in universe|                       0|                         0|High school graduate|            0|           Not in universe|      Widowed|Not in universe o...|      Not in universe|               White|      All other|Female|        Not in universe|        Not in universe|               Not in labor force|            0|             0|                    0|         Nonfiler|             Not in universe|            Not in universe|              Other Rel 18+ eve...|                   Other relative of...|        1700.09|                           ?|                           ?|                             ?|         Not in universe u...|                            ?|                              0|        Not in universe|          United-States|          United-States|        United-States|Native- Born in t...|                            0|                           Not in universe|                2|                   0|  95|- 50000.|\n",
      "| 58|Self-employed-not...|                       4|                        34|Some college but ...|            0|           Not in universe|     Divorced|        Construction| Precision product...|               White|      All other|  Male|        Not in universe|        Not in universe|             Children or Armed...|            0|             0|                    0|Head of household|                       South|                   Arkansas|                       Householder|                            Householder|        1053.55|                  MSA to MSA|                 Same county|                   Same county|                           No|                          Yes|                              1|        Not in universe|          United-States|          United-States|        United-States|Native- Born in t...|                            0|                           Not in universe|                2|                  52|  94|- 50000.|\n",
      "| 18|     Not in universe|                       0|                         0|          10th grade|            0|               High school|Never married|Not in universe o...|      Not in universe|Asian or Pacific ...|      All other|Female|        Not in universe|        Not in universe|               Not in labor force|            0|             0|                    0|         Nonfiler|             Not in universe|            Not in universe|              Child 18+ never m...|                      Child 18 or older|         991.95|                           ?|                           ?|                             ?|         Not in universe u...|                            ?|                              0|        Not in universe|                Vietnam|                Vietnam|              Vietnam|Foreign born- Not...|                            0|                           Not in universe|                2|                   0|  95|- 50000.|\n",
      "|  9|     Not in universe|                       0|                         0|            Children|            0|           Not in universe|Never married|Not in universe o...|      Not in universe|               White|      All other|Female|        Not in universe|        Not in universe|             Children or Armed...|            0|             0|                    0|         Nonfiler|             Not in universe|            Not in universe|              Child <18 never m...|                   Child under 18 ne...|        1758.14|                    Nonmover|                    Nonmover|                      Nonmover|                          Yes|              Not in universe|                              0|   Both parents present|          United-States|          United-States|        United-States|Native- Born in t...|                            0|                           Not in universe|                0|                   0|  94|- 50000.|\n",
      "| 10|     Not in universe|                       0|                         0|            Children|            0|           Not in universe|Never married|Not in universe o...|      Not in universe|               White|      All other|Female|        Not in universe|        Not in universe|             Children or Armed...|            0|             0|                    0|         Nonfiler|             Not in universe|            Not in universe|              Child <18 never m...|                   Child under 18 ne...|        1069.16|                    Nonmover|                    Nonmover|                      Nonmover|                          Yes|              Not in universe|                              0|   Both parents present|          United-States|          United-States|        United-States|Native- Born in t...|                            0|                           Not in universe|                0|                   0|  94|- 50000.|\n",
      "+---+--------------------+------------------------+--------------------------+--------------------+-------------+--------------------------+-------------+--------------------+---------------------+--------------------+---------------+------+-----------------------+-----------------------+---------------------------------+-------------+--------------+---------------------+-----------------+----------------------------+---------------------------+----------------------------------+---------------------------------------+---------------+----------------------------+----------------------------+------------------------------+-----------------------------+-----------------------------+-------------------------------+-----------------------+-----------------------+-----------------------+---------------------+--------------------+-----------------------------+------------------------------------------+-----------------+--------------------+----+--------+\n",
      "only showing top 5 rows\n",
      "\n"
     ]
    }
   ],
   "source": [
    "head = list(map(_mapper, head))\n",
    "df = change_headers(df, head)\n",
    "head = {k: v for k, v in head}\n",
    "\n",
    "df.show(5)"
   ]
  },
  {
   "cell_type": "markdown",
   "metadata": {
    "pycharm": {
     "name": "#%% md\n"
    }
   },
   "source": [
    "#### Expected Distinct Vals"
   ]
  },
  {
   "cell_type": "code",
   "execution_count": 12,
   "metadata": {
    "pycharm": {
     "name": "#%%\n"
    }
   },
   "outputs": [
    {
     "data": {
      "text/html": [
       "<div>\n",
       "<style scoped>\n",
       "    .dataframe tbody tr th:only-of-type {\n",
       "        vertical-align: middle;\n",
       "    }\n",
       "\n",
       "    .dataframe tbody tr th {\n",
       "        vertical-align: top;\n",
       "    }\n",
       "\n",
       "    .dataframe thead th {\n",
       "        text-align: right;\n",
       "    }\n",
       "</style>\n",
       "<table border=\"1\" class=\"dataframe\">\n",
       "  <thead>\n",
       "    <tr style=\"text-align: right;\">\n",
       "      <th></th>\n",
       "      <th>0</th>\n",
       "      <th>1</th>\n",
       "      <th>2</th>\n",
       "      <th>3</th>\n",
       "      <th>4</th>\n",
       "      <th>5</th>\n",
       "      <th>6</th>\n",
       "      <th>7</th>\n",
       "      <th>8</th>\n",
       "      <th>9</th>\n",
       "      <th>...</th>\n",
       "      <th>42</th>\n",
       "      <th>43</th>\n",
       "      <th>44</th>\n",
       "      <th>45</th>\n",
       "      <th>46</th>\n",
       "      <th>47</th>\n",
       "      <th>48</th>\n",
       "      <th>49</th>\n",
       "      <th>50</th>\n",
       "      <th>51</th>\n",
       "    </tr>\n",
       "  </thead>\n",
       "  <tbody>\n",
       "    <tr>\n",
       "      <th>age</th>\n",
       "      <td>continuous</td>\n",
       "      <td>None</td>\n",
       "      <td>None</td>\n",
       "      <td>None</td>\n",
       "      <td>None</td>\n",
       "      <td>None</td>\n",
       "      <td>None</td>\n",
       "      <td>None</td>\n",
       "      <td>None</td>\n",
       "      <td>None</td>\n",
       "      <td>...</td>\n",
       "      <td>None</td>\n",
       "      <td>None</td>\n",
       "      <td>None</td>\n",
       "      <td>None</td>\n",
       "      <td>None</td>\n",
       "      <td>None</td>\n",
       "      <td>None</td>\n",
       "      <td>None</td>\n",
       "      <td>None</td>\n",
       "      <td>None</td>\n",
       "    </tr>\n",
       "    <tr>\n",
       "      <th>class_of_worker</th>\n",
       "      <td>Not in universe</td>\n",
       "      <td>Federal government</td>\n",
       "      <td>Local government</td>\n",
       "      <td>Never worked</td>\n",
       "      <td>Private</td>\n",
       "      <td>Self-employed-incorporated</td>\n",
       "      <td>Self-employed-not incorporated</td>\n",
       "      <td>State government</td>\n",
       "      <td>Without pay</td>\n",
       "      <td>None</td>\n",
       "      <td>...</td>\n",
       "      <td>None</td>\n",
       "      <td>None</td>\n",
       "      <td>None</td>\n",
       "      <td>None</td>\n",
       "      <td>None</td>\n",
       "      <td>None</td>\n",
       "      <td>None</td>\n",
       "      <td>None</td>\n",
       "      <td>None</td>\n",
       "      <td>None</td>\n",
       "    </tr>\n",
       "    <tr>\n",
       "      <th>detailed_industry_recode</th>\n",
       "      <td>0</td>\n",
       "      <td>40</td>\n",
       "      <td>44</td>\n",
       "      <td>2</td>\n",
       "      <td>43</td>\n",
       "      <td>47</td>\n",
       "      <td>48</td>\n",
       "      <td>1</td>\n",
       "      <td>11</td>\n",
       "      <td>19</td>\n",
       "      <td>...</td>\n",
       "      <td>23</td>\n",
       "      <td>26</td>\n",
       "      <td>6</td>\n",
       "      <td>7</td>\n",
       "      <td>9</td>\n",
       "      <td>49</td>\n",
       "      <td>27</td>\n",
       "      <td>8</td>\n",
       "      <td>10</td>\n",
       "      <td>20</td>\n",
       "    </tr>\n",
       "    <tr>\n",
       "      <th>detailed_occupation_recode</th>\n",
       "      <td>0</td>\n",
       "      <td>12</td>\n",
       "      <td>31</td>\n",
       "      <td>44</td>\n",
       "      <td>19</td>\n",
       "      <td>32</td>\n",
       "      <td>10</td>\n",
       "      <td>23</td>\n",
       "      <td>26</td>\n",
       "      <td>28</td>\n",
       "      <td>...</td>\n",
       "      <td>6</td>\n",
       "      <td>5</td>\n",
       "      <td>1</td>\n",
       "      <td>11</td>\n",
       "      <td>7</td>\n",
       "      <td>None</td>\n",
       "      <td>None</td>\n",
       "      <td>None</td>\n",
       "      <td>None</td>\n",
       "      <td>None</td>\n",
       "    </tr>\n",
       "    <tr>\n",
       "      <th>education</th>\n",
       "      <td>Children</td>\n",
       "      <td>7th and 8th grade</td>\n",
       "      <td>9th grade</td>\n",
       "      <td>10th grade</td>\n",
       "      <td>High school graduate</td>\n",
       "      <td>11th grade</td>\n",
       "      <td>12th grade no diploma</td>\n",
       "      <td>5th or 6th grade</td>\n",
       "      <td>Less than 1st grade</td>\n",
       "      <td>Bachelors degree(BA AB BS)</td>\n",
       "      <td>...</td>\n",
       "      <td>None</td>\n",
       "      <td>None</td>\n",
       "      <td>None</td>\n",
       "      <td>None</td>\n",
       "      <td>None</td>\n",
       "      <td>None</td>\n",
       "      <td>None</td>\n",
       "      <td>None</td>\n",
       "      <td>None</td>\n",
       "      <td>None</td>\n",
       "    </tr>\n",
       "    <tr>\n",
       "      <th>wage_per_hour</th>\n",
       "      <td>continuous</td>\n",
       "      <td>None</td>\n",
       "      <td>None</td>\n",
       "      <td>None</td>\n",
       "      <td>None</td>\n",
       "      <td>None</td>\n",
       "      <td>None</td>\n",
       "      <td>None</td>\n",
       "      <td>None</td>\n",
       "      <td>None</td>\n",
       "      <td>...</td>\n",
       "      <td>None</td>\n",
       "      <td>None</td>\n",
       "      <td>None</td>\n",
       "      <td>None</td>\n",
       "      <td>None</td>\n",
       "      <td>None</td>\n",
       "      <td>None</td>\n",
       "      <td>None</td>\n",
       "      <td>None</td>\n",
       "      <td>None</td>\n",
       "    </tr>\n",
       "    <tr>\n",
       "      <th>enroll_in_edu_inst_last_wk</th>\n",
       "      <td>Not in universe</td>\n",
       "      <td>High school</td>\n",
       "      <td>College or university</td>\n",
       "      <td>None</td>\n",
       "      <td>None</td>\n",
       "      <td>None</td>\n",
       "      <td>None</td>\n",
       "      <td>None</td>\n",
       "      <td>None</td>\n",
       "      <td>None</td>\n",
       "      <td>...</td>\n",
       "      <td>None</td>\n",
       "      <td>None</td>\n",
       "      <td>None</td>\n",
       "      <td>None</td>\n",
       "      <td>None</td>\n",
       "      <td>None</td>\n",
       "      <td>None</td>\n",
       "      <td>None</td>\n",
       "      <td>None</td>\n",
       "      <td>None</td>\n",
       "    </tr>\n",
       "    <tr>\n",
       "      <th>marital_stat</th>\n",
       "      <td>Never married</td>\n",
       "      <td>Married-civilian spouse present</td>\n",
       "      <td>Married-spouse absent</td>\n",
       "      <td>Separated</td>\n",
       "      <td>Divorced</td>\n",
       "      <td>Widowed</td>\n",
       "      <td>Married-A F spouse present</td>\n",
       "      <td>None</td>\n",
       "      <td>None</td>\n",
       "      <td>None</td>\n",
       "      <td>...</td>\n",
       "      <td>None</td>\n",
       "      <td>None</td>\n",
       "      <td>None</td>\n",
       "      <td>None</td>\n",
       "      <td>None</td>\n",
       "      <td>None</td>\n",
       "      <td>None</td>\n",
       "      <td>None</td>\n",
       "      <td>None</td>\n",
       "      <td>None</td>\n",
       "    </tr>\n",
       "    <tr>\n",
       "      <th>major_industry_code</th>\n",
       "      <td>Not in universe or children</td>\n",
       "      <td>Entertainment</td>\n",
       "      <td>Social services</td>\n",
       "      <td>Agriculture</td>\n",
       "      <td>Education</td>\n",
       "      <td>Public administration</td>\n",
       "      <td>Manufacturing-durable goods</td>\n",
       "      <td>Manufacturing-nondurable goods</td>\n",
       "      <td>Wholesale trade</td>\n",
       "      <td>Retail trade</td>\n",
       "      <td>...</td>\n",
       "      <td>None</td>\n",
       "      <td>None</td>\n",
       "      <td>None</td>\n",
       "      <td>None</td>\n",
       "      <td>None</td>\n",
       "      <td>None</td>\n",
       "      <td>None</td>\n",
       "      <td>None</td>\n",
       "      <td>None</td>\n",
       "      <td>None</td>\n",
       "    </tr>\n",
       "    <tr>\n",
       "      <th>major_occupation_code</th>\n",
       "      <td>Not in universe</td>\n",
       "      <td>Professional specialty</td>\n",
       "      <td>Other service</td>\n",
       "      <td>Farming forestry and fishing</td>\n",
       "      <td>Sales</td>\n",
       "      <td>Adm support including clerical</td>\n",
       "      <td>Protective services</td>\n",
       "      <td>Handlers equip cleaners etc</td>\n",
       "      <td>Precision production craft &amp; repair</td>\n",
       "      <td>Technicians and related support</td>\n",
       "      <td>...</td>\n",
       "      <td>None</td>\n",
       "      <td>None</td>\n",
       "      <td>None</td>\n",
       "      <td>None</td>\n",
       "      <td>None</td>\n",
       "      <td>None</td>\n",
       "      <td>None</td>\n",
       "      <td>None</td>\n",
       "      <td>None</td>\n",
       "      <td>None</td>\n",
       "    </tr>\n",
       "    <tr>\n",
       "      <th>race</th>\n",
       "      <td>White</td>\n",
       "      <td>Black</td>\n",
       "      <td>Other</td>\n",
       "      <td>Amer Indian Aleut or Eskimo</td>\n",
       "      <td>Asian or Pacific Islander</td>\n",
       "      <td>None</td>\n",
       "      <td>None</td>\n",
       "      <td>None</td>\n",
       "      <td>None</td>\n",
       "      <td>None</td>\n",
       "      <td>...</td>\n",
       "      <td>None</td>\n",
       "      <td>None</td>\n",
       "      <td>None</td>\n",
       "      <td>None</td>\n",
       "      <td>None</td>\n",
       "      <td>None</td>\n",
       "      <td>None</td>\n",
       "      <td>None</td>\n",
       "      <td>None</td>\n",
       "      <td>None</td>\n",
       "    </tr>\n",
       "    <tr>\n",
       "      <th>hispanic_origin</th>\n",
       "      <td>Mexican (Mexicano)</td>\n",
       "      <td>Mexican-American</td>\n",
       "      <td>Puerto Rican</td>\n",
       "      <td>Central or South American</td>\n",
       "      <td>All other</td>\n",
       "      <td>Other Spanish</td>\n",
       "      <td>Chicano</td>\n",
       "      <td>Cuban</td>\n",
       "      <td>Do not know</td>\n",
       "      <td>NA</td>\n",
       "      <td>...</td>\n",
       "      <td>None</td>\n",
       "      <td>None</td>\n",
       "      <td>None</td>\n",
       "      <td>None</td>\n",
       "      <td>None</td>\n",
       "      <td>None</td>\n",
       "      <td>None</td>\n",
       "      <td>None</td>\n",
       "      <td>None</td>\n",
       "      <td>None</td>\n",
       "    </tr>\n",
       "    <tr>\n",
       "      <th>sex</th>\n",
       "      <td>Female</td>\n",
       "      <td>Male</td>\n",
       "      <td>None</td>\n",
       "      <td>None</td>\n",
       "      <td>None</td>\n",
       "      <td>None</td>\n",
       "      <td>None</td>\n",
       "      <td>None</td>\n",
       "      <td>None</td>\n",
       "      <td>None</td>\n",
       "      <td>...</td>\n",
       "      <td>None</td>\n",
       "      <td>None</td>\n",
       "      <td>None</td>\n",
       "      <td>None</td>\n",
       "      <td>None</td>\n",
       "      <td>None</td>\n",
       "      <td>None</td>\n",
       "      <td>None</td>\n",
       "      <td>None</td>\n",
       "      <td>None</td>\n",
       "    </tr>\n",
       "    <tr>\n",
       "      <th>member_of_a_labor_union</th>\n",
       "      <td>Not in universe</td>\n",
       "      <td>No</td>\n",
       "      <td>Yes</td>\n",
       "      <td>None</td>\n",
       "      <td>None</td>\n",
       "      <td>None</td>\n",
       "      <td>None</td>\n",
       "      <td>None</td>\n",
       "      <td>None</td>\n",
       "      <td>None</td>\n",
       "      <td>...</td>\n",
       "      <td>None</td>\n",
       "      <td>None</td>\n",
       "      <td>None</td>\n",
       "      <td>None</td>\n",
       "      <td>None</td>\n",
       "      <td>None</td>\n",
       "      <td>None</td>\n",
       "      <td>None</td>\n",
       "      <td>None</td>\n",
       "      <td>None</td>\n",
       "    </tr>\n",
       "    <tr>\n",
       "      <th>reason_for_unemployment</th>\n",
       "      <td>Not in universe</td>\n",
       "      <td>Re-entrant</td>\n",
       "      <td>Job loser - on layoff</td>\n",
       "      <td>New entrant</td>\n",
       "      <td>Job leaver</td>\n",
       "      <td>Other job loser</td>\n",
       "      <td>None</td>\n",
       "      <td>None</td>\n",
       "      <td>None</td>\n",
       "      <td>None</td>\n",
       "      <td>...</td>\n",
       "      <td>None</td>\n",
       "      <td>None</td>\n",
       "      <td>None</td>\n",
       "      <td>None</td>\n",
       "      <td>None</td>\n",
       "      <td>None</td>\n",
       "      <td>None</td>\n",
       "      <td>None</td>\n",
       "      <td>None</td>\n",
       "      <td>None</td>\n",
       "    </tr>\n",
       "    <tr>\n",
       "      <th>full_or_part_time_employment_stat</th>\n",
       "      <td>Children or Armed Forces</td>\n",
       "      <td>Full-time schedules</td>\n",
       "      <td>Unemployed part- time</td>\n",
       "      <td>Not in labor force</td>\n",
       "      <td>Unemployed full-time</td>\n",
       "      <td>PT for non-econ reasons usually FT</td>\n",
       "      <td>PT for econ reasons usually PT</td>\n",
       "      <td>PT for econ reasons usually FT</td>\n",
       "      <td>None</td>\n",
       "      <td>None</td>\n",
       "      <td>...</td>\n",
       "      <td>None</td>\n",
       "      <td>None</td>\n",
       "      <td>None</td>\n",
       "      <td>None</td>\n",
       "      <td>None</td>\n",
       "      <td>None</td>\n",
       "      <td>None</td>\n",
       "      <td>None</td>\n",
       "      <td>None</td>\n",
       "      <td>None</td>\n",
       "    </tr>\n",
       "    <tr>\n",
       "      <th>capital_gains</th>\n",
       "      <td>continuous</td>\n",
       "      <td>None</td>\n",
       "      <td>None</td>\n",
       "      <td>None</td>\n",
       "      <td>None</td>\n",
       "      <td>None</td>\n",
       "      <td>None</td>\n",
       "      <td>None</td>\n",
       "      <td>None</td>\n",
       "      <td>None</td>\n",
       "      <td>...</td>\n",
       "      <td>None</td>\n",
       "      <td>None</td>\n",
       "      <td>None</td>\n",
       "      <td>None</td>\n",
       "      <td>None</td>\n",
       "      <td>None</td>\n",
       "      <td>None</td>\n",
       "      <td>None</td>\n",
       "      <td>None</td>\n",
       "      <td>None</td>\n",
       "    </tr>\n",
       "    <tr>\n",
       "      <th>capital_losses</th>\n",
       "      <td>continuous</td>\n",
       "      <td>None</td>\n",
       "      <td>None</td>\n",
       "      <td>None</td>\n",
       "      <td>None</td>\n",
       "      <td>None</td>\n",
       "      <td>None</td>\n",
       "      <td>None</td>\n",
       "      <td>None</td>\n",
       "      <td>None</td>\n",
       "      <td>...</td>\n",
       "      <td>None</td>\n",
       "      <td>None</td>\n",
       "      <td>None</td>\n",
       "      <td>None</td>\n",
       "      <td>None</td>\n",
       "      <td>None</td>\n",
       "      <td>None</td>\n",
       "      <td>None</td>\n",
       "      <td>None</td>\n",
       "      <td>None</td>\n",
       "    </tr>\n",
       "    <tr>\n",
       "      <th>dividends_from_stocks</th>\n",
       "      <td>continuous</td>\n",
       "      <td>None</td>\n",
       "      <td>None</td>\n",
       "      <td>None</td>\n",
       "      <td>None</td>\n",
       "      <td>None</td>\n",
       "      <td>None</td>\n",
       "      <td>None</td>\n",
       "      <td>None</td>\n",
       "      <td>None</td>\n",
       "      <td>...</td>\n",
       "      <td>None</td>\n",
       "      <td>None</td>\n",
       "      <td>None</td>\n",
       "      <td>None</td>\n",
       "      <td>None</td>\n",
       "      <td>None</td>\n",
       "      <td>None</td>\n",
       "      <td>None</td>\n",
       "      <td>None</td>\n",
       "      <td>None</td>\n",
       "    </tr>\n",
       "    <tr>\n",
       "      <th>tax_filer_stat</th>\n",
       "      <td>Nonfiler</td>\n",
       "      <td>Joint one under 65 &amp; one 65+</td>\n",
       "      <td>Joint both under 65</td>\n",
       "      <td>Single</td>\n",
       "      <td>Head of household</td>\n",
       "      <td>Joint both 65+</td>\n",
       "      <td>None</td>\n",
       "      <td>None</td>\n",
       "      <td>None</td>\n",
       "      <td>None</td>\n",
       "      <td>...</td>\n",
       "      <td>None</td>\n",
       "      <td>None</td>\n",
       "      <td>None</td>\n",
       "      <td>None</td>\n",
       "      <td>None</td>\n",
       "      <td>None</td>\n",
       "      <td>None</td>\n",
       "      <td>None</td>\n",
       "      <td>None</td>\n",
       "      <td>None</td>\n",
       "    </tr>\n",
       "    <tr>\n",
       "      <th>region_of_previous_residence</th>\n",
       "      <td>Not in universe</td>\n",
       "      <td>South</td>\n",
       "      <td>Northeast</td>\n",
       "      <td>West</td>\n",
       "      <td>Midwest</td>\n",
       "      <td>Abroad</td>\n",
       "      <td>None</td>\n",
       "      <td>None</td>\n",
       "      <td>None</td>\n",
       "      <td>None</td>\n",
       "      <td>...</td>\n",
       "      <td>None</td>\n",
       "      <td>None</td>\n",
       "      <td>None</td>\n",
       "      <td>None</td>\n",
       "      <td>None</td>\n",
       "      <td>None</td>\n",
       "      <td>None</td>\n",
       "      <td>None</td>\n",
       "      <td>None</td>\n",
       "      <td>None</td>\n",
       "    </tr>\n",
       "    <tr>\n",
       "      <th>state_of_previous_residence</th>\n",
       "      <td>Not in universe</td>\n",
       "      <td>Utah</td>\n",
       "      <td>Michigan</td>\n",
       "      <td>North Carolina</td>\n",
       "      <td>North Dakota</td>\n",
       "      <td>Virginia</td>\n",
       "      <td>Vermont</td>\n",
       "      <td>Wyoming</td>\n",
       "      <td>West Virginia</td>\n",
       "      <td>Pennsylvania</td>\n",
       "      <td>...</td>\n",
       "      <td>Missouri</td>\n",
       "      <td>Kansas</td>\n",
       "      <td>Connecticut</td>\n",
       "      <td>Louisiana</td>\n",
       "      <td>Alabama</td>\n",
       "      <td>Massachusetts</td>\n",
       "      <td>Idaho</td>\n",
       "      <td>New Jersey</td>\n",
       "      <td>None</td>\n",
       "      <td>None</td>\n",
       "    </tr>\n",
       "    <tr>\n",
       "      <th>detailed_household_and_family_stat</th>\n",
       "      <td>Child &lt;18 never marr not in subfamily</td>\n",
       "      <td>Other Rel &lt;18 never marr child of subfamily RP</td>\n",
       "      <td>Other Rel &lt;18 never marr not in subfamily</td>\n",
       "      <td>Grandchild &lt;18 never marr child of subfamily RP</td>\n",
       "      <td>Grandchild &lt;18 never marr not in subfamily</td>\n",
       "      <td>Secondary individual</td>\n",
       "      <td>In group quarters</td>\n",
       "      <td>Child under 18 of RP of unrel subfamily</td>\n",
       "      <td>RP of unrelated subfamily</td>\n",
       "      <td>Spouse of householder</td>\n",
       "      <td>...</td>\n",
       "      <td>None</td>\n",
       "      <td>None</td>\n",
       "      <td>None</td>\n",
       "      <td>None</td>\n",
       "      <td>None</td>\n",
       "      <td>None</td>\n",
       "      <td>None</td>\n",
       "      <td>None</td>\n",
       "      <td>None</td>\n",
       "      <td>None</td>\n",
       "    </tr>\n",
       "    <tr>\n",
       "      <th>detailed_household_summary_in_household</th>\n",
       "      <td>Child under 18 never married</td>\n",
       "      <td>Other relative of householder</td>\n",
       "      <td>Nonrelative of householder</td>\n",
       "      <td>Spouse of householder</td>\n",
       "      <td>Householder</td>\n",
       "      <td>Child under 18 ever married</td>\n",
       "      <td>Group Quarters- Secondary individual</td>\n",
       "      <td>Child 18 or older</td>\n",
       "      <td>None</td>\n",
       "      <td>None</td>\n",
       "      <td>...</td>\n",
       "      <td>None</td>\n",
       "      <td>None</td>\n",
       "      <td>None</td>\n",
       "      <td>None</td>\n",
       "      <td>None</td>\n",
       "      <td>None</td>\n",
       "      <td>None</td>\n",
       "      <td>None</td>\n",
       "      <td>None</td>\n",
       "      <td>None</td>\n",
       "    </tr>\n",
       "    <tr>\n",
       "      <th>instance_weight</th>\n",
       "      <td>continuous</td>\n",
       "      <td>None</td>\n",
       "      <td>None</td>\n",
       "      <td>None</td>\n",
       "      <td>None</td>\n",
       "      <td>None</td>\n",
       "      <td>None</td>\n",
       "      <td>None</td>\n",
       "      <td>None</td>\n",
       "      <td>None</td>\n",
       "      <td>...</td>\n",
       "      <td>None</td>\n",
       "      <td>None</td>\n",
       "      <td>None</td>\n",
       "      <td>None</td>\n",
       "      <td>None</td>\n",
       "      <td>None</td>\n",
       "      <td>None</td>\n",
       "      <td>None</td>\n",
       "      <td>None</td>\n",
       "      <td>None</td>\n",
       "    </tr>\n",
       "    <tr>\n",
       "      <th>migration_code-change_in_msa</th>\n",
       "      <td>Not in universe</td>\n",
       "      <td>Nonmover</td>\n",
       "      <td>MSA to MSA</td>\n",
       "      <td>NonMSA to nonMSA</td>\n",
       "      <td>MSA to nonMSA</td>\n",
       "      <td>NonMSA to MSA</td>\n",
       "      <td>Abroad to MSA</td>\n",
       "      <td>Not identifiable</td>\n",
       "      <td>Abroad to nonMSA</td>\n",
       "      <td>None</td>\n",
       "      <td>...</td>\n",
       "      <td>None</td>\n",
       "      <td>None</td>\n",
       "      <td>None</td>\n",
       "      <td>None</td>\n",
       "      <td>None</td>\n",
       "      <td>None</td>\n",
       "      <td>None</td>\n",
       "      <td>None</td>\n",
       "      <td>None</td>\n",
       "      <td>None</td>\n",
       "    </tr>\n",
       "    <tr>\n",
       "      <th>migration_code-change_in_reg</th>\n",
       "      <td>Not in universe</td>\n",
       "      <td>Nonmover</td>\n",
       "      <td>Same county</td>\n",
       "      <td>Different county same state</td>\n",
       "      <td>Different state same division</td>\n",
       "      <td>Abroad</td>\n",
       "      <td>Different region</td>\n",
       "      <td>Different division same region</td>\n",
       "      <td>None</td>\n",
       "      <td>None</td>\n",
       "      <td>...</td>\n",
       "      <td>None</td>\n",
       "      <td>None</td>\n",
       "      <td>None</td>\n",
       "      <td>None</td>\n",
       "      <td>None</td>\n",
       "      <td>None</td>\n",
       "      <td>None</td>\n",
       "      <td>None</td>\n",
       "      <td>None</td>\n",
       "      <td>None</td>\n",
       "    </tr>\n",
       "    <tr>\n",
       "      <th>migration_code-move_within_reg</th>\n",
       "      <td>Not in universe</td>\n",
       "      <td>Nonmover</td>\n",
       "      <td>Same county</td>\n",
       "      <td>Different county same state</td>\n",
       "      <td>Different state in West</td>\n",
       "      <td>Abroad</td>\n",
       "      <td>Different state in Midwest</td>\n",
       "      <td>Different state in South</td>\n",
       "      <td>Different state in Northeast</td>\n",
       "      <td>None</td>\n",
       "      <td>...</td>\n",
       "      <td>None</td>\n",
       "      <td>None</td>\n",
       "      <td>None</td>\n",
       "      <td>None</td>\n",
       "      <td>None</td>\n",
       "      <td>None</td>\n",
       "      <td>None</td>\n",
       "      <td>None</td>\n",
       "      <td>None</td>\n",
       "      <td>None</td>\n",
       "    </tr>\n",
       "    <tr>\n",
       "      <th>live_in_this_house_1_year_ago</th>\n",
       "      <td>Not in universe under 1 year old</td>\n",
       "      <td>Yes</td>\n",
       "      <td>No</td>\n",
       "      <td>None</td>\n",
       "      <td>None</td>\n",
       "      <td>None</td>\n",
       "      <td>None</td>\n",
       "      <td>None</td>\n",
       "      <td>None</td>\n",
       "      <td>None</td>\n",
       "      <td>...</td>\n",
       "      <td>None</td>\n",
       "      <td>None</td>\n",
       "      <td>None</td>\n",
       "      <td>None</td>\n",
       "      <td>None</td>\n",
       "      <td>None</td>\n",
       "      <td>None</td>\n",
       "      <td>None</td>\n",
       "      <td>None</td>\n",
       "      <td>None</td>\n",
       "    </tr>\n",
       "    <tr>\n",
       "      <th>migration_prev_res_in_sunbelt</th>\n",
       "      <td>Not in universe</td>\n",
       "      <td>Yes</td>\n",
       "      <td>No</td>\n",
       "      <td>None</td>\n",
       "      <td>None</td>\n",
       "      <td>None</td>\n",
       "      <td>None</td>\n",
       "      <td>None</td>\n",
       "      <td>None</td>\n",
       "      <td>None</td>\n",
       "      <td>...</td>\n",
       "      <td>None</td>\n",
       "      <td>None</td>\n",
       "      <td>None</td>\n",
       "      <td>None</td>\n",
       "      <td>None</td>\n",
       "      <td>None</td>\n",
       "      <td>None</td>\n",
       "      <td>None</td>\n",
       "      <td>None</td>\n",
       "      <td>None</td>\n",
       "    </tr>\n",
       "    <tr>\n",
       "      <th>num_persons_worked_for_employer</th>\n",
       "      <td>continuous</td>\n",
       "      <td>None</td>\n",
       "      <td>None</td>\n",
       "      <td>None</td>\n",
       "      <td>None</td>\n",
       "      <td>None</td>\n",
       "      <td>None</td>\n",
       "      <td>None</td>\n",
       "      <td>None</td>\n",
       "      <td>None</td>\n",
       "      <td>...</td>\n",
       "      <td>None</td>\n",
       "      <td>None</td>\n",
       "      <td>None</td>\n",
       "      <td>None</td>\n",
       "      <td>None</td>\n",
       "      <td>None</td>\n",
       "      <td>None</td>\n",
       "      <td>None</td>\n",
       "      <td>None</td>\n",
       "      <td>None</td>\n",
       "    </tr>\n",
       "    <tr>\n",
       "      <th>family_members_under_18</th>\n",
       "      <td>Both parents present</td>\n",
       "      <td>Neither parent present</td>\n",
       "      <td>Mother only present</td>\n",
       "      <td>Father only present</td>\n",
       "      <td>Not in universe</td>\n",
       "      <td>None</td>\n",
       "      <td>None</td>\n",
       "      <td>None</td>\n",
       "      <td>None</td>\n",
       "      <td>None</td>\n",
       "      <td>...</td>\n",
       "      <td>None</td>\n",
       "      <td>None</td>\n",
       "      <td>None</td>\n",
       "      <td>None</td>\n",
       "      <td>None</td>\n",
       "      <td>None</td>\n",
       "      <td>None</td>\n",
       "      <td>None</td>\n",
       "      <td>None</td>\n",
       "      <td>None</td>\n",
       "    </tr>\n",
       "    <tr>\n",
       "      <th>country_of_birth_father</th>\n",
       "      <td>Mexico</td>\n",
       "      <td>United-States</td>\n",
       "      <td>Puerto-Rico</td>\n",
       "      <td>Dominican-Republic</td>\n",
       "      <td>Jamaica</td>\n",
       "      <td>Cuba</td>\n",
       "      <td>Portugal</td>\n",
       "      <td>Nicaragua</td>\n",
       "      <td>Peru</td>\n",
       "      <td>Ecuador</td>\n",
       "      <td>...</td>\n",
       "      <td>None</td>\n",
       "      <td>None</td>\n",
       "      <td>None</td>\n",
       "      <td>None</td>\n",
       "      <td>None</td>\n",
       "      <td>None</td>\n",
       "      <td>None</td>\n",
       "      <td>None</td>\n",
       "      <td>None</td>\n",
       "      <td>None</td>\n",
       "    </tr>\n",
       "    <tr>\n",
       "      <th>country_of_birth_mother</th>\n",
       "      <td>India</td>\n",
       "      <td>Mexico</td>\n",
       "      <td>United-States</td>\n",
       "      <td>Puerto-Rico</td>\n",
       "      <td>Dominican-Republic</td>\n",
       "      <td>England</td>\n",
       "      <td>Honduras</td>\n",
       "      <td>Peru</td>\n",
       "      <td>Guatemala</td>\n",
       "      <td>Columbia</td>\n",
       "      <td>...</td>\n",
       "      <td>None</td>\n",
       "      <td>None</td>\n",
       "      <td>None</td>\n",
       "      <td>None</td>\n",
       "      <td>None</td>\n",
       "      <td>None</td>\n",
       "      <td>None</td>\n",
       "      <td>None</td>\n",
       "      <td>None</td>\n",
       "      <td>None</td>\n",
       "    </tr>\n",
       "    <tr>\n",
       "      <th>country_of_birth_self</th>\n",
       "      <td>United-States</td>\n",
       "      <td>Mexico</td>\n",
       "      <td>Puerto-Rico</td>\n",
       "      <td>Peru</td>\n",
       "      <td>Canada</td>\n",
       "      <td>South Korea</td>\n",
       "      <td>India</td>\n",
       "      <td>Japan</td>\n",
       "      <td>Haiti</td>\n",
       "      <td>El-Salvador</td>\n",
       "      <td>...</td>\n",
       "      <td>None</td>\n",
       "      <td>None</td>\n",
       "      <td>None</td>\n",
       "      <td>None</td>\n",
       "      <td>None</td>\n",
       "      <td>None</td>\n",
       "      <td>None</td>\n",
       "      <td>None</td>\n",
       "      <td>None</td>\n",
       "      <td>None</td>\n",
       "    </tr>\n",
       "    <tr>\n",
       "      <th>citizenship</th>\n",
       "      <td>Native- Born in the United States</td>\n",
       "      <td>Foreign born- Not a citizen of U S</td>\n",
       "      <td>Native- Born in Puerto Rico or U S Outlying</td>\n",
       "      <td>Native- Born abroad of American Parent(s)</td>\n",
       "      <td>Foreign born- U S citizen by naturalization</td>\n",
       "      <td>None</td>\n",
       "      <td>None</td>\n",
       "      <td>None</td>\n",
       "      <td>None</td>\n",
       "      <td>None</td>\n",
       "      <td>...</td>\n",
       "      <td>None</td>\n",
       "      <td>None</td>\n",
       "      <td>None</td>\n",
       "      <td>None</td>\n",
       "      <td>None</td>\n",
       "      <td>None</td>\n",
       "      <td>None</td>\n",
       "      <td>None</td>\n",
       "      <td>None</td>\n",
       "      <td>None</td>\n",
       "    </tr>\n",
       "    <tr>\n",
       "      <th>own_business_or_self_employed</th>\n",
       "      <td>0</td>\n",
       "      <td>2</td>\n",
       "      <td>1</td>\n",
       "      <td>None</td>\n",
       "      <td>None</td>\n",
       "      <td>None</td>\n",
       "      <td>None</td>\n",
       "      <td>None</td>\n",
       "      <td>None</td>\n",
       "      <td>None</td>\n",
       "      <td>...</td>\n",
       "      <td>None</td>\n",
       "      <td>None</td>\n",
       "      <td>None</td>\n",
       "      <td>None</td>\n",
       "      <td>None</td>\n",
       "      <td>None</td>\n",
       "      <td>None</td>\n",
       "      <td>None</td>\n",
       "      <td>None</td>\n",
       "      <td>None</td>\n",
       "    </tr>\n",
       "    <tr>\n",
       "      <th>fill_inc_questionnaire_for_veteran's_admin</th>\n",
       "      <td>Not in universe</td>\n",
       "      <td>Yes</td>\n",
       "      <td>No</td>\n",
       "      <td>None</td>\n",
       "      <td>None</td>\n",
       "      <td>None</td>\n",
       "      <td>None</td>\n",
       "      <td>None</td>\n",
       "      <td>None</td>\n",
       "      <td>None</td>\n",
       "      <td>...</td>\n",
       "      <td>None</td>\n",
       "      <td>None</td>\n",
       "      <td>None</td>\n",
       "      <td>None</td>\n",
       "      <td>None</td>\n",
       "      <td>None</td>\n",
       "      <td>None</td>\n",
       "      <td>None</td>\n",
       "      <td>None</td>\n",
       "      <td>None</td>\n",
       "    </tr>\n",
       "    <tr>\n",
       "      <th>veterans_benefits</th>\n",
       "      <td>0</td>\n",
       "      <td>2</td>\n",
       "      <td>1</td>\n",
       "      <td>None</td>\n",
       "      <td>None</td>\n",
       "      <td>None</td>\n",
       "      <td>None</td>\n",
       "      <td>None</td>\n",
       "      <td>None</td>\n",
       "      <td>None</td>\n",
       "      <td>...</td>\n",
       "      <td>None</td>\n",
       "      <td>None</td>\n",
       "      <td>None</td>\n",
       "      <td>None</td>\n",
       "      <td>None</td>\n",
       "      <td>None</td>\n",
       "      <td>None</td>\n",
       "      <td>None</td>\n",
       "      <td>None</td>\n",
       "      <td>None</td>\n",
       "    </tr>\n",
       "    <tr>\n",
       "      <th>weeks_worked_in_year</th>\n",
       "      <td>continuous</td>\n",
       "      <td>None</td>\n",
       "      <td>None</td>\n",
       "      <td>None</td>\n",
       "      <td>None</td>\n",
       "      <td>None</td>\n",
       "      <td>None</td>\n",
       "      <td>None</td>\n",
       "      <td>None</td>\n",
       "      <td>None</td>\n",
       "      <td>...</td>\n",
       "      <td>None</td>\n",
       "      <td>None</td>\n",
       "      <td>None</td>\n",
       "      <td>None</td>\n",
       "      <td>None</td>\n",
       "      <td>None</td>\n",
       "      <td>None</td>\n",
       "      <td>None</td>\n",
       "      <td>None</td>\n",
       "      <td>None</td>\n",
       "    </tr>\n",
       "    <tr>\n",
       "      <th>year</th>\n",
       "      <td>94</td>\n",
       "      <td>95</td>\n",
       "      <td>None</td>\n",
       "      <td>None</td>\n",
       "      <td>None</td>\n",
       "      <td>None</td>\n",
       "      <td>None</td>\n",
       "      <td>None</td>\n",
       "      <td>None</td>\n",
       "      <td>None</td>\n",
       "      <td>...</td>\n",
       "      <td>None</td>\n",
       "      <td>None</td>\n",
       "      <td>None</td>\n",
       "      <td>None</td>\n",
       "      <td>None</td>\n",
       "      <td>None</td>\n",
       "      <td>None</td>\n",
       "      <td>None</td>\n",
       "      <td>None</td>\n",
       "      <td>None</td>\n",
       "    </tr>\n",
       "    <tr>\n",
       "      <th>over_50k</th>\n",
       "      <td>&gt;50k</td>\n",
       "      <td>&lt;50k</td>\n",
       "      <td>None</td>\n",
       "      <td>None</td>\n",
       "      <td>None</td>\n",
       "      <td>None</td>\n",
       "      <td>None</td>\n",
       "      <td>None</td>\n",
       "      <td>None</td>\n",
       "      <td>None</td>\n",
       "      <td>...</td>\n",
       "      <td>None</td>\n",
       "      <td>None</td>\n",
       "      <td>None</td>\n",
       "      <td>None</td>\n",
       "      <td>None</td>\n",
       "      <td>None</td>\n",
       "      <td>None</td>\n",
       "      <td>None</td>\n",
       "      <td>None</td>\n",
       "      <td>None</td>\n",
       "    </tr>\n",
       "  </tbody>\n",
       "</table>\n",
       "<p>42 rows × 52 columns</p>\n",
       "</div>"
      ],
      "text/plain": [
       "                                                                               0   \\\n",
       "age                                                                    continuous   \n",
       "class_of_worker                                                   Not in universe   \n",
       "detailed_industry_recode                                                        0   \n",
       "detailed_occupation_recode                                                      0   \n",
       "education                                                                Children   \n",
       "wage_per_hour                                                          continuous   \n",
       "enroll_in_edu_inst_last_wk                                        Not in universe   \n",
       "marital_stat                                                        Never married   \n",
       "major_industry_code                                   Not in universe or children   \n",
       "major_occupation_code                                             Not in universe   \n",
       "race                                                                        White   \n",
       "hispanic_origin                                                Mexican (Mexicano)   \n",
       "sex                                                                        Female   \n",
       "member_of_a_labor_union                                           Not in universe   \n",
       "reason_for_unemployment                                           Not in universe   \n",
       "full_or_part_time_employment_stat                        Children or Armed Forces   \n",
       "capital_gains                                                          continuous   \n",
       "capital_losses                                                         continuous   \n",
       "dividends_from_stocks                                                  continuous   \n",
       "tax_filer_stat                                                           Nonfiler   \n",
       "region_of_previous_residence                                      Not in universe   \n",
       "state_of_previous_residence                                       Not in universe   \n",
       "detailed_household_and_family_stat          Child <18 never marr not in subfamily   \n",
       "detailed_household_summary_in_household              Child under 18 never married   \n",
       "instance_weight                                                        continuous   \n",
       "migration_code-change_in_msa                                      Not in universe   \n",
       "migration_code-change_in_reg                                      Not in universe   \n",
       "migration_code-move_within_reg                                    Not in universe   \n",
       "live_in_this_house_1_year_ago                    Not in universe under 1 year old   \n",
       "migration_prev_res_in_sunbelt                                     Not in universe   \n",
       "num_persons_worked_for_employer                                        continuous   \n",
       "family_members_under_18                                      Both parents present   \n",
       "country_of_birth_father                                                    Mexico   \n",
       "country_of_birth_mother                                                     India   \n",
       "country_of_birth_self                                               United-States   \n",
       "citizenship                                     Native- Born in the United States   \n",
       "own_business_or_self_employed                                                   0   \n",
       "fill_inc_questionnaire_for_veteran's_admin                        Not in universe   \n",
       "veterans_benefits                                                               0   \n",
       "weeks_worked_in_year                                                   continuous   \n",
       "year                                                                           94   \n",
       "over_50k                                                                     >50k   \n",
       "\n",
       "                                                                                        1   \\\n",
       "age                                                                                   None   \n",
       "class_of_worker                                                         Federal government   \n",
       "detailed_industry_recode                                                                40   \n",
       "detailed_occupation_recode                                                              12   \n",
       "education                                                                7th and 8th grade   \n",
       "wage_per_hour                                                                         None   \n",
       "enroll_in_edu_inst_last_wk                                                     High school   \n",
       "marital_stat                                               Married-civilian spouse present   \n",
       "major_industry_code                                                          Entertainment   \n",
       "major_occupation_code                                               Professional specialty   \n",
       "race                                                                                 Black   \n",
       "hispanic_origin                                                           Mexican-American   \n",
       "sex                                                                                   Male   \n",
       "member_of_a_labor_union                                                                 No   \n",
       "reason_for_unemployment                                                         Re-entrant   \n",
       "full_or_part_time_employment_stat                                      Full-time schedules   \n",
       "capital_gains                                                                         None   \n",
       "capital_losses                                                                        None   \n",
       "dividends_from_stocks                                                                 None   \n",
       "tax_filer_stat                                                Joint one under 65 & one 65+   \n",
       "region_of_previous_residence                                                         South   \n",
       "state_of_previous_residence                                                           Utah   \n",
       "detailed_household_and_family_stat          Other Rel <18 never marr child of subfamily RP   \n",
       "detailed_household_summary_in_household                      Other relative of householder   \n",
       "instance_weight                                                                       None   \n",
       "migration_code-change_in_msa                                                      Nonmover   \n",
       "migration_code-change_in_reg                                                      Nonmover   \n",
       "migration_code-move_within_reg                                                    Nonmover   \n",
       "live_in_this_house_1_year_ago                                                          Yes   \n",
       "migration_prev_res_in_sunbelt                                                          Yes   \n",
       "num_persons_worked_for_employer                                                       None   \n",
       "family_members_under_18                                             Neither parent present   \n",
       "country_of_birth_father                                                      United-States   \n",
       "country_of_birth_mother                                                             Mexico   \n",
       "country_of_birth_self                                                               Mexico   \n",
       "citizenship                                            Foreign born- Not a citizen of U S    \n",
       "own_business_or_self_employed                                                            2   \n",
       "fill_inc_questionnaire_for_veteran's_admin                                             Yes   \n",
       "veterans_benefits                                                                        2   \n",
       "weeks_worked_in_year                                                                  None   \n",
       "year                                                                                    95   \n",
       "over_50k                                                                              <50k   \n",
       "\n",
       "                                                                                     2   \\\n",
       "age                                                                                None   \n",
       "class_of_worker                                                        Local government   \n",
       "detailed_industry_recode                                                             44   \n",
       "detailed_occupation_recode                                                           31   \n",
       "education                                                                     9th grade   \n",
       "wage_per_hour                                                                      None   \n",
       "enroll_in_edu_inst_last_wk                                        College or university   \n",
       "marital_stat                                                      Married-spouse absent   \n",
       "major_industry_code                                                     Social services   \n",
       "major_occupation_code                                                     Other service   \n",
       "race                                                                              Other   \n",
       "hispanic_origin                                                            Puerto Rican   \n",
       "sex                                                                                None   \n",
       "member_of_a_labor_union                                                             Yes   \n",
       "reason_for_unemployment                                           Job loser - on layoff   \n",
       "full_or_part_time_employment_stat                                 Unemployed part- time   \n",
       "capital_gains                                                                      None   \n",
       "capital_losses                                                                     None   \n",
       "dividends_from_stocks                                                              None   \n",
       "tax_filer_stat                                                      Joint both under 65   \n",
       "region_of_previous_residence                                                  Northeast   \n",
       "state_of_previous_residence                                                    Michigan   \n",
       "detailed_household_and_family_stat            Other Rel <18 never marr not in subfamily   \n",
       "detailed_household_summary_in_household                      Nonrelative of householder   \n",
       "instance_weight                                                                    None   \n",
       "migration_code-change_in_msa                                                 MSA to MSA   \n",
       "migration_code-change_in_reg                                                Same county   \n",
       "migration_code-move_within_reg                                              Same county   \n",
       "live_in_this_house_1_year_ago                                                        No   \n",
       "migration_prev_res_in_sunbelt                                                        No   \n",
       "num_persons_worked_for_employer                                                    None   \n",
       "family_members_under_18                                             Mother only present   \n",
       "country_of_birth_father                                                     Puerto-Rico   \n",
       "country_of_birth_mother                                                   United-States   \n",
       "country_of_birth_self                                                       Puerto-Rico   \n",
       "citizenship                                 Native- Born in Puerto Rico or U S Outlying   \n",
       "own_business_or_self_employed                                                         1   \n",
       "fill_inc_questionnaire_for_veteran's_admin                                           No   \n",
       "veterans_benefits                                                                     1   \n",
       "weeks_worked_in_year                                                               None   \n",
       "year                                                                               None   \n",
       "over_50k                                                                           None   \n",
       "\n",
       "                                                                                         3   \\\n",
       "age                                                                                    None   \n",
       "class_of_worker                                                                Never worked   \n",
       "detailed_industry_recode                                                                  2   \n",
       "detailed_occupation_recode                                                               44   \n",
       "education                                                                        10th grade   \n",
       "wage_per_hour                                                                          None   \n",
       "enroll_in_edu_inst_last_wk                                                             None   \n",
       "marital_stat                                                                      Separated   \n",
       "major_industry_code                                                             Agriculture   \n",
       "major_occupation_code                                          Farming forestry and fishing   \n",
       "race                                                            Amer Indian Aleut or Eskimo   \n",
       "hispanic_origin                                                   Central or South American   \n",
       "sex                                                                                    None   \n",
       "member_of_a_labor_union                                                                None   \n",
       "reason_for_unemployment                                                         New entrant   \n",
       "full_or_part_time_employment_stat                                        Not in labor force   \n",
       "capital_gains                                                                          None   \n",
       "capital_losses                                                                         None   \n",
       "dividends_from_stocks                                                                  None   \n",
       "tax_filer_stat                                                                       Single   \n",
       "region_of_previous_residence                                                           West   \n",
       "state_of_previous_residence                                                  North Carolina   \n",
       "detailed_household_and_family_stat          Grandchild <18 never marr child of subfamily RP   \n",
       "detailed_household_summary_in_household                               Spouse of householder   \n",
       "instance_weight                                                                        None   \n",
       "migration_code-change_in_msa                                               NonMSA to nonMSA   \n",
       "migration_code-change_in_reg                                    Different county same state   \n",
       "migration_code-move_within_reg                                  Different county same state   \n",
       "live_in_this_house_1_year_ago                                                          None   \n",
       "migration_prev_res_in_sunbelt                                                          None   \n",
       "num_persons_worked_for_employer                                                        None   \n",
       "family_members_under_18                                                 Father only present   \n",
       "country_of_birth_father                                                  Dominican-Republic   \n",
       "country_of_birth_mother                                                         Puerto-Rico   \n",
       "country_of_birth_self                                                                  Peru   \n",
       "citizenship                                       Native- Born abroad of American Parent(s)   \n",
       "own_business_or_self_employed                                                          None   \n",
       "fill_inc_questionnaire_for_veteran's_admin                                             None   \n",
       "veterans_benefits                                                                      None   \n",
       "weeks_worked_in_year                                                                   None   \n",
       "year                                                                                   None   \n",
       "over_50k                                                                               None   \n",
       "\n",
       "                                                                                     4   \\\n",
       "age                                                                                None   \n",
       "class_of_worker                                                                 Private   \n",
       "detailed_industry_recode                                                             43   \n",
       "detailed_occupation_recode                                                           19   \n",
       "education                                                          High school graduate   \n",
       "wage_per_hour                                                                      None   \n",
       "enroll_in_edu_inst_last_wk                                                         None   \n",
       "marital_stat                                                                   Divorced   \n",
       "major_industry_code                                                           Education   \n",
       "major_occupation_code                                                             Sales   \n",
       "race                                                          Asian or Pacific Islander   \n",
       "hispanic_origin                                                               All other   \n",
       "sex                                                                                None   \n",
       "member_of_a_labor_union                                                            None   \n",
       "reason_for_unemployment                                                      Job leaver   \n",
       "full_or_part_time_employment_stat                                  Unemployed full-time   \n",
       "capital_gains                                                                      None   \n",
       "capital_losses                                                                     None   \n",
       "dividends_from_stocks                                                              None   \n",
       "tax_filer_stat                                                        Head of household   \n",
       "region_of_previous_residence                                                    Midwest   \n",
       "state_of_previous_residence                                                North Dakota   \n",
       "detailed_household_and_family_stat           Grandchild <18 never marr not in subfamily   \n",
       "detailed_household_summary_in_household                                     Householder   \n",
       "instance_weight                                                                    None   \n",
       "migration_code-change_in_msa                                              MSA to nonMSA   \n",
       "migration_code-change_in_reg                              Different state same division   \n",
       "migration_code-move_within_reg                                  Different state in West   \n",
       "live_in_this_house_1_year_ago                                                      None   \n",
       "migration_prev_res_in_sunbelt                                                      None   \n",
       "num_persons_worked_for_employer                                                    None   \n",
       "family_members_under_18                                                 Not in universe   \n",
       "country_of_birth_father                                                         Jamaica   \n",
       "country_of_birth_mother                                              Dominican-Republic   \n",
       "country_of_birth_self                                                            Canada   \n",
       "citizenship                                 Foreign born- U S citizen by naturalization   \n",
       "own_business_or_self_employed                                                      None   \n",
       "fill_inc_questionnaire_for_veteran's_admin                                         None   \n",
       "veterans_benefits                                                                  None   \n",
       "weeks_worked_in_year                                                               None   \n",
       "year                                                                               None   \n",
       "over_50k                                                                           None   \n",
       "\n",
       "                                                                            5   \\\n",
       "age                                                                       None   \n",
       "class_of_worker                                     Self-employed-incorporated   \n",
       "detailed_industry_recode                                                    47   \n",
       "detailed_occupation_recode                                                  32   \n",
       "education                                                           11th grade   \n",
       "wage_per_hour                                                             None   \n",
       "enroll_in_edu_inst_last_wk                                                None   \n",
       "marital_stat                                                           Widowed   \n",
       "major_industry_code                                      Public administration   \n",
       "major_occupation_code                           Adm support including clerical   \n",
       "race                                                                      None   \n",
       "hispanic_origin                                                  Other Spanish   \n",
       "sex                                                                       None   \n",
       "member_of_a_labor_union                                                   None   \n",
       "reason_for_unemployment                                        Other job loser   \n",
       "full_or_part_time_employment_stat           PT for non-econ reasons usually FT   \n",
       "capital_gains                                                             None   \n",
       "capital_losses                                                            None   \n",
       "dividends_from_stocks                                                     None   \n",
       "tax_filer_stat                                                  Joint both 65+   \n",
       "region_of_previous_residence                                            Abroad   \n",
       "state_of_previous_residence                                           Virginia   \n",
       "detailed_household_and_family_stat                        Secondary individual   \n",
       "detailed_household_summary_in_household            Child under 18 ever married   \n",
       "instance_weight                                                           None   \n",
       "migration_code-change_in_msa                                     NonMSA to MSA   \n",
       "migration_code-change_in_reg                                            Abroad   \n",
       "migration_code-move_within_reg                                          Abroad   \n",
       "live_in_this_house_1_year_ago                                             None   \n",
       "migration_prev_res_in_sunbelt                                             None   \n",
       "num_persons_worked_for_employer                                           None   \n",
       "family_members_under_18                                                   None   \n",
       "country_of_birth_father                                                   Cuba   \n",
       "country_of_birth_mother                                                England   \n",
       "country_of_birth_self                                              South Korea   \n",
       "citizenship                                                               None   \n",
       "own_business_or_self_employed                                             None   \n",
       "fill_inc_questionnaire_for_veteran's_admin                                None   \n",
       "veterans_benefits                                                         None   \n",
       "weeks_worked_in_year                                                      None   \n",
       "year                                                                      None   \n",
       "over_50k                                                                  None   \n",
       "\n",
       "                                                                              6   \\\n",
       "age                                                                         None   \n",
       "class_of_worker                                   Self-employed-not incorporated   \n",
       "detailed_industry_recode                                                      48   \n",
       "detailed_occupation_recode                                                    10   \n",
       "education                                                  12th grade no diploma   \n",
       "wage_per_hour                                                               None   \n",
       "enroll_in_edu_inst_last_wk                                                  None   \n",
       "marital_stat                                          Married-A F spouse present   \n",
       "major_industry_code                                  Manufacturing-durable goods   \n",
       "major_occupation_code                                        Protective services   \n",
       "race                                                                        None   \n",
       "hispanic_origin                                                          Chicano   \n",
       "sex                                                                         None   \n",
       "member_of_a_labor_union                                                     None   \n",
       "reason_for_unemployment                                                     None   \n",
       "full_or_part_time_employment_stat                 PT for econ reasons usually PT   \n",
       "capital_gains                                                               None   \n",
       "capital_losses                                                              None   \n",
       "dividends_from_stocks                                                       None   \n",
       "tax_filer_stat                                                              None   \n",
       "region_of_previous_residence                                                None   \n",
       "state_of_previous_residence                                              Vermont   \n",
       "detailed_household_and_family_stat                             In group quarters   \n",
       "detailed_household_summary_in_household     Group Quarters- Secondary individual   \n",
       "instance_weight                                                             None   \n",
       "migration_code-change_in_msa                                       Abroad to MSA   \n",
       "migration_code-change_in_reg                                    Different region   \n",
       "migration_code-move_within_reg                        Different state in Midwest   \n",
       "live_in_this_house_1_year_ago                                               None   \n",
       "migration_prev_res_in_sunbelt                                               None   \n",
       "num_persons_worked_for_employer                                             None   \n",
       "family_members_under_18                                                     None   \n",
       "country_of_birth_father                                                 Portugal   \n",
       "country_of_birth_mother                                                 Honduras   \n",
       "country_of_birth_self                                                      India   \n",
       "citizenship                                                                 None   \n",
       "own_business_or_self_employed                                               None   \n",
       "fill_inc_questionnaire_for_veteran's_admin                                  None   \n",
       "veterans_benefits                                                           None   \n",
       "weeks_worked_in_year                                                        None   \n",
       "year                                                                        None   \n",
       "over_50k                                                                    None   \n",
       "\n",
       "                                                                                 7   \\\n",
       "age                                                                            None   \n",
       "class_of_worker                                                    State government   \n",
       "detailed_industry_recode                                                          1   \n",
       "detailed_occupation_recode                                                       23   \n",
       "education                                                          5th or 6th grade   \n",
       "wage_per_hour                                                                  None   \n",
       "enroll_in_edu_inst_last_wk                                                     None   \n",
       "marital_stat                                                                   None   \n",
       "major_industry_code                                  Manufacturing-nondurable goods   \n",
       "major_occupation_code                                  Handlers equip cleaners etc    \n",
       "race                                                                           None   \n",
       "hispanic_origin                                                               Cuban   \n",
       "sex                                                                            None   \n",
       "member_of_a_labor_union                                                        None   \n",
       "reason_for_unemployment                                                        None   \n",
       "full_or_part_time_employment_stat                    PT for econ reasons usually FT   \n",
       "capital_gains                                                                  None   \n",
       "capital_losses                                                                 None   \n",
       "dividends_from_stocks                                                          None   \n",
       "tax_filer_stat                                                                 None   \n",
       "region_of_previous_residence                                                   None   \n",
       "state_of_previous_residence                                                 Wyoming   \n",
       "detailed_household_and_family_stat          Child under 18 of RP of unrel subfamily   \n",
       "detailed_household_summary_in_household                           Child 18 or older   \n",
       "instance_weight                                                                None   \n",
       "migration_code-change_in_msa                                       Not identifiable   \n",
       "migration_code-change_in_reg                         Different division same region   \n",
       "migration_code-move_within_reg                             Different state in South   \n",
       "live_in_this_house_1_year_ago                                                  None   \n",
       "migration_prev_res_in_sunbelt                                                  None   \n",
       "num_persons_worked_for_employer                                                None   \n",
       "family_members_under_18                                                        None   \n",
       "country_of_birth_father                                                   Nicaragua   \n",
       "country_of_birth_mother                                                        Peru   \n",
       "country_of_birth_self                                                         Japan   \n",
       "citizenship                                                                    None   \n",
       "own_business_or_self_employed                                                  None   \n",
       "fill_inc_questionnaire_for_veteran's_admin                                     None   \n",
       "veterans_benefits                                                              None   \n",
       "weeks_worked_in_year                                                           None   \n",
       "year                                                                           None   \n",
       "over_50k                                                                       None   \n",
       "\n",
       "                                                                             8   \\\n",
       "age                                                                        None   \n",
       "class_of_worker                                                     Without pay   \n",
       "detailed_industry_recode                                                     11   \n",
       "detailed_occupation_recode                                                   26   \n",
       "education                                                   Less than 1st grade   \n",
       "wage_per_hour                                                              None   \n",
       "enroll_in_edu_inst_last_wk                                                 None   \n",
       "marital_stat                                                               None   \n",
       "major_industry_code                                             Wholesale trade   \n",
       "major_occupation_code                       Precision production craft & repair   \n",
       "race                                                                       None   \n",
       "hispanic_origin                                                     Do not know   \n",
       "sex                                                                        None   \n",
       "member_of_a_labor_union                                                    None   \n",
       "reason_for_unemployment                                                    None   \n",
       "full_or_part_time_employment_stat                                          None   \n",
       "capital_gains                                                              None   \n",
       "capital_losses                                                             None   \n",
       "dividends_from_stocks                                                      None   \n",
       "tax_filer_stat                                                             None   \n",
       "region_of_previous_residence                                               None   \n",
       "state_of_previous_residence                                       West Virginia   \n",
       "detailed_household_and_family_stat                    RP of unrelated subfamily   \n",
       "detailed_household_summary_in_household                                    None   \n",
       "instance_weight                                                            None   \n",
       "migration_code-change_in_msa                                   Abroad to nonMSA   \n",
       "migration_code-change_in_reg                                               None   \n",
       "migration_code-move_within_reg                     Different state in Northeast   \n",
       "live_in_this_house_1_year_ago                                              None   \n",
       "migration_prev_res_in_sunbelt                                              None   \n",
       "num_persons_worked_for_employer                                            None   \n",
       "family_members_under_18                                                    None   \n",
       "country_of_birth_father                                                    Peru   \n",
       "country_of_birth_mother                                               Guatemala   \n",
       "country_of_birth_self                                                     Haiti   \n",
       "citizenship                                                                None   \n",
       "own_business_or_self_employed                                              None   \n",
       "fill_inc_questionnaire_for_veteran's_admin                                 None   \n",
       "veterans_benefits                                                          None   \n",
       "weeks_worked_in_year                                                       None   \n",
       "year                                                                       None   \n",
       "over_50k                                                                   None   \n",
       "\n",
       "                                                                         9   \\\n",
       "age                                                                    None   \n",
       "class_of_worker                                                        None   \n",
       "detailed_industry_recode                                                 19   \n",
       "detailed_occupation_recode                                               28   \n",
       "education                                        Bachelors degree(BA AB BS)   \n",
       "wage_per_hour                                                          None   \n",
       "enroll_in_edu_inst_last_wk                                             None   \n",
       "marital_stat                                                           None   \n",
       "major_industry_code                                            Retail trade   \n",
       "major_occupation_code                       Technicians and related support   \n",
       "race                                                                   None   \n",
       "hispanic_origin                                                          NA   \n",
       "sex                                                                    None   \n",
       "member_of_a_labor_union                                                None   \n",
       "reason_for_unemployment                                                None   \n",
       "full_or_part_time_employment_stat                                      None   \n",
       "capital_gains                                                          None   \n",
       "capital_losses                                                         None   \n",
       "dividends_from_stocks                                                  None   \n",
       "tax_filer_stat                                                         None   \n",
       "region_of_previous_residence                                           None   \n",
       "state_of_previous_residence                                    Pennsylvania   \n",
       "detailed_household_and_family_stat                    Spouse of householder   \n",
       "detailed_household_summary_in_household                                None   \n",
       "instance_weight                                                        None   \n",
       "migration_code-change_in_msa                                           None   \n",
       "migration_code-change_in_reg                                           None   \n",
       "migration_code-move_within_reg                                         None   \n",
       "live_in_this_house_1_year_ago                                          None   \n",
       "migration_prev_res_in_sunbelt                                          None   \n",
       "num_persons_worked_for_employer                                        None   \n",
       "family_members_under_18                                                None   \n",
       "country_of_birth_father                                             Ecuador   \n",
       "country_of_birth_mother                                            Columbia   \n",
       "country_of_birth_self                                           El-Salvador   \n",
       "citizenship                                                            None   \n",
       "own_business_or_self_employed                                          None   \n",
       "fill_inc_questionnaire_for_veteran's_admin                             None   \n",
       "veterans_benefits                                                      None   \n",
       "weeks_worked_in_year                                                   None   \n",
       "year                                                                   None   \n",
       "over_50k                                                               None   \n",
       "\n",
       "                                            ...        42      43  \\\n",
       "age                                         ...      None    None   \n",
       "class_of_worker                             ...      None    None   \n",
       "detailed_industry_recode                    ...        23      26   \n",
       "detailed_occupation_recode                  ...         6       5   \n",
       "education                                   ...      None    None   \n",
       "wage_per_hour                               ...      None    None   \n",
       "enroll_in_edu_inst_last_wk                  ...      None    None   \n",
       "marital_stat                                ...      None    None   \n",
       "major_industry_code                         ...      None    None   \n",
       "major_occupation_code                       ...      None    None   \n",
       "race                                        ...      None    None   \n",
       "hispanic_origin                             ...      None    None   \n",
       "sex                                         ...      None    None   \n",
       "member_of_a_labor_union                     ...      None    None   \n",
       "reason_for_unemployment                     ...      None    None   \n",
       "full_or_part_time_employment_stat           ...      None    None   \n",
       "capital_gains                               ...      None    None   \n",
       "capital_losses                              ...      None    None   \n",
       "dividends_from_stocks                       ...      None    None   \n",
       "tax_filer_stat                              ...      None    None   \n",
       "region_of_previous_residence                ...      None    None   \n",
       "state_of_previous_residence                 ...  Missouri  Kansas   \n",
       "detailed_household_and_family_stat          ...      None    None   \n",
       "detailed_household_summary_in_household     ...      None    None   \n",
       "instance_weight                             ...      None    None   \n",
       "migration_code-change_in_msa                ...      None    None   \n",
       "migration_code-change_in_reg                ...      None    None   \n",
       "migration_code-move_within_reg              ...      None    None   \n",
       "live_in_this_house_1_year_ago               ...      None    None   \n",
       "migration_prev_res_in_sunbelt               ...      None    None   \n",
       "num_persons_worked_for_employer             ...      None    None   \n",
       "family_members_under_18                     ...      None    None   \n",
       "country_of_birth_father                     ...      None    None   \n",
       "country_of_birth_mother                     ...      None    None   \n",
       "country_of_birth_self                       ...      None    None   \n",
       "citizenship                                 ...      None    None   \n",
       "own_business_or_self_employed               ...      None    None   \n",
       "fill_inc_questionnaire_for_veteran's_admin  ...      None    None   \n",
       "veterans_benefits                           ...      None    None   \n",
       "weeks_worked_in_year                        ...      None    None   \n",
       "year                                        ...      None    None   \n",
       "over_50k                                    ...      None    None   \n",
       "\n",
       "                                                     44         45       46  \\\n",
       "age                                                None       None     None   \n",
       "class_of_worker                                    None       None     None   \n",
       "detailed_industry_recode                              6          7        9   \n",
       "detailed_occupation_recode                            1         11        7   \n",
       "education                                          None       None     None   \n",
       "wage_per_hour                                      None       None     None   \n",
       "enroll_in_edu_inst_last_wk                         None       None     None   \n",
       "marital_stat                                       None       None     None   \n",
       "major_industry_code                                None       None     None   \n",
       "major_occupation_code                              None       None     None   \n",
       "race                                               None       None     None   \n",
       "hispanic_origin                                    None       None     None   \n",
       "sex                                                None       None     None   \n",
       "member_of_a_labor_union                            None       None     None   \n",
       "reason_for_unemployment                            None       None     None   \n",
       "full_or_part_time_employment_stat                  None       None     None   \n",
       "capital_gains                                      None       None     None   \n",
       "capital_losses                                     None       None     None   \n",
       "dividends_from_stocks                              None       None     None   \n",
       "tax_filer_stat                                     None       None     None   \n",
       "region_of_previous_residence                       None       None     None   \n",
       "state_of_previous_residence                 Connecticut  Louisiana  Alabama   \n",
       "detailed_household_and_family_stat                 None       None     None   \n",
       "detailed_household_summary_in_household            None       None     None   \n",
       "instance_weight                                    None       None     None   \n",
       "migration_code-change_in_msa                       None       None     None   \n",
       "migration_code-change_in_reg                       None       None     None   \n",
       "migration_code-move_within_reg                     None       None     None   \n",
       "live_in_this_house_1_year_ago                      None       None     None   \n",
       "migration_prev_res_in_sunbelt                      None       None     None   \n",
       "num_persons_worked_for_employer                    None       None     None   \n",
       "family_members_under_18                            None       None     None   \n",
       "country_of_birth_father                            None       None     None   \n",
       "country_of_birth_mother                            None       None     None   \n",
       "country_of_birth_self                              None       None     None   \n",
       "citizenship                                        None       None     None   \n",
       "own_business_or_self_employed                      None       None     None   \n",
       "fill_inc_questionnaire_for_veteran's_admin         None       None     None   \n",
       "veterans_benefits                                  None       None     None   \n",
       "weeks_worked_in_year                               None       None     None   \n",
       "year                                               None       None     None   \n",
       "over_50k                                           None       None     None   \n",
       "\n",
       "                                                       47     48          49  \\\n",
       "age                                                  None   None        None   \n",
       "class_of_worker                                      None   None        None   \n",
       "detailed_industry_recode                               49     27           8   \n",
       "detailed_occupation_recode                           None   None        None   \n",
       "education                                            None   None        None   \n",
       "wage_per_hour                                        None   None        None   \n",
       "enroll_in_edu_inst_last_wk                           None   None        None   \n",
       "marital_stat                                         None   None        None   \n",
       "major_industry_code                                  None   None        None   \n",
       "major_occupation_code                                None   None        None   \n",
       "race                                                 None   None        None   \n",
       "hispanic_origin                                      None   None        None   \n",
       "sex                                                  None   None        None   \n",
       "member_of_a_labor_union                              None   None        None   \n",
       "reason_for_unemployment                              None   None        None   \n",
       "full_or_part_time_employment_stat                    None   None        None   \n",
       "capital_gains                                        None   None        None   \n",
       "capital_losses                                       None   None        None   \n",
       "dividends_from_stocks                                None   None        None   \n",
       "tax_filer_stat                                       None   None        None   \n",
       "region_of_previous_residence                         None   None        None   \n",
       "state_of_previous_residence                 Massachusetts  Idaho  New Jersey   \n",
       "detailed_household_and_family_stat                   None   None        None   \n",
       "detailed_household_summary_in_household              None   None        None   \n",
       "instance_weight                                      None   None        None   \n",
       "migration_code-change_in_msa                         None   None        None   \n",
       "migration_code-change_in_reg                         None   None        None   \n",
       "migration_code-move_within_reg                       None   None        None   \n",
       "live_in_this_house_1_year_ago                        None   None        None   \n",
       "migration_prev_res_in_sunbelt                        None   None        None   \n",
       "num_persons_worked_for_employer                      None   None        None   \n",
       "family_members_under_18                              None   None        None   \n",
       "country_of_birth_father                              None   None        None   \n",
       "country_of_birth_mother                              None   None        None   \n",
       "country_of_birth_self                                None   None        None   \n",
       "citizenship                                          None   None        None   \n",
       "own_business_or_self_employed                        None   None        None   \n",
       "fill_inc_questionnaire_for_veteran's_admin           None   None        None   \n",
       "veterans_benefits                                    None   None        None   \n",
       "weeks_worked_in_year                                 None   None        None   \n",
       "year                                                 None   None        None   \n",
       "over_50k                                             None   None        None   \n",
       "\n",
       "                                              50    51  \n",
       "age                                         None  None  \n",
       "class_of_worker                             None  None  \n",
       "detailed_industry_recode                      10    20  \n",
       "detailed_occupation_recode                  None  None  \n",
       "education                                   None  None  \n",
       "wage_per_hour                               None  None  \n",
       "enroll_in_edu_inst_last_wk                  None  None  \n",
       "marital_stat                                None  None  \n",
       "major_industry_code                         None  None  \n",
       "major_occupation_code                       None  None  \n",
       "race                                        None  None  \n",
       "hispanic_origin                             None  None  \n",
       "sex                                         None  None  \n",
       "member_of_a_labor_union                     None  None  \n",
       "reason_for_unemployment                     None  None  \n",
       "full_or_part_time_employment_stat           None  None  \n",
       "capital_gains                               None  None  \n",
       "capital_losses                              None  None  \n",
       "dividends_from_stocks                       None  None  \n",
       "tax_filer_stat                              None  None  \n",
       "region_of_previous_residence                None  None  \n",
       "state_of_previous_residence                 None  None  \n",
       "detailed_household_and_family_stat          None  None  \n",
       "detailed_household_summary_in_household     None  None  \n",
       "instance_weight                             None  None  \n",
       "migration_code-change_in_msa                None  None  \n",
       "migration_code-change_in_reg                None  None  \n",
       "migration_code-move_within_reg              None  None  \n",
       "live_in_this_house_1_year_ago               None  None  \n",
       "migration_prev_res_in_sunbelt               None  None  \n",
       "num_persons_worked_for_employer             None  None  \n",
       "family_members_under_18                     None  None  \n",
       "country_of_birth_father                     None  None  \n",
       "country_of_birth_mother                     None  None  \n",
       "country_of_birth_self                       None  None  \n",
       "citizenship                                 None  None  \n",
       "own_business_or_self_employed               None  None  \n",
       "fill_inc_questionnaire_for_veteran's_admin  None  None  \n",
       "veterans_benefits                           None  None  \n",
       "weeks_worked_in_year                        None  None  \n",
       "year                                        None  None  \n",
       "over_50k                                    None  None  \n",
       "\n",
       "[42 rows x 52 columns]"
      ]
     },
     "execution_count": 12,
     "metadata": {},
     "output_type": "execute_result"
    }
   ],
   "source": [
    "pd.DataFrame.from_dict(head, orient='index')"
   ]
  },
  {
   "cell_type": "code",
   "execution_count": 13,
   "metadata": {
    "id": "RDMMqLL8wUqR"
   },
   "outputs": [],
   "source": [
    "def val_to_null(dataframe: DataFrame, values: (list, tuple)):\n",
    "    \n",
    "    for v in values:\n",
    "        for c in dataframe.columns:\n",
    "            dataframe = dataframe.withColumn(c,\n",
    "                                             when(col(c).contains(v), None)\n",
    "                                             .otherwise(col(c))\n",
    "                                             )\n",
    "    return dataframe"
   ]
  },
  {
   "cell_type": "code",
   "execution_count": 14,
   "metadata": {
    "colab": {
     "base_uri": "https://localhost:8080/"
    },
    "id": "3HjAVtxoyNoG",
    "outputId": "4e6d026c-c1e2-48ad-c21b-238f601f8c9f"
   },
   "outputs": [
    {
     "name": "stdout",
     "output_type": "stream",
     "text": [
      "+---+--------------------+------------------------+--------------------------+--------------------+-------------+--------------------------+-------------+-------------------+---------------------+--------------------+---------------+------+-----------------------+-----------------------+---------------------------------+-------------+--------------+---------------------+-----------------+----------------------------+---------------------------+----------------------------------+---------------------------------------+---------------+----------------------------+----------------------------+------------------------------+-----------------------------+-----------------------------+-------------------------------+-----------------------+-----------------------+-----------------------+---------------------+--------------------+-----------------------------+------------------------------------------+-----------------+--------------------+----+--------+\n",
      "|age|     class_of_worker|detailed_industry_recode|detailed_occupation_recode|           education|wage_per_hour|enroll_in_edu_inst_last_wk| marital_stat|major_industry_code|major_occupation_code|                race|hispanic_origin|   sex|member_of_a_labor_union|reason_for_unemployment|full_or_part_time_employment_stat|capital_gains|capital_losses|dividends_from_stocks|   tax_filer_stat|region_of_previous_residence|state_of_previous_residence|detailed_household_and_family_stat|detailed_household_summary_in_household|instance_weight|migration_code-change_in_msa|migration_code-change_in_reg|migration_code-move_within_reg|live_in_this_house_1_year_ago|migration_prev_res_in_sunbelt|num_persons_worked_for_employer|family_members_under_18|country_of_birth_father|country_of_birth_mother|country_of_birth_self|         citizenship|own_business_or_self_employed|fill_inc_questionnaire_for_veteran's_admin|veterans_benefits|weeks_worked_in_year|year|over_50k|\n",
      "+---+--------------------+------------------------+--------------------------+--------------------+-------------+--------------------------+-------------+-------------------+---------------------+--------------------+---------------+------+-----------------------+-----------------------+---------------------------------+-------------+--------------+---------------------+-----------------+----------------------------+---------------------------+----------------------------------+---------------------------------------+---------------+----------------------------+----------------------------+------------------------------+-----------------------------+-----------------------------+-------------------------------+-----------------------+-----------------------+-----------------------+---------------------+--------------------+-----------------------------+------------------------------------------+-----------------+--------------------+----+--------+\n",
      "| 73|                null|                       0|                         0|High school graduate|            0|                      null|      Widowed|               null|                 null|               White|      All other|Female|                   null|                   null|               Not in labor force|            0|             0|                    0|         Nonfiler|                        null|                       null|              Other Rel 18+ eve...|                   Other relative of...|        1700.09|                        null|                        null|                          null|                         null|                         null|                              0|                   null|          United-States|          United-States|        United-States|Native- Born in t...|                            0|                                      null|                2|                   0|  95|- 50000.|\n",
      "| 58|Self-employed-not...|                       4|                        34|Some college but ...|            0|                      null|     Divorced|       Construction| Precision product...|               White|      All other|  Male|                   null|                   null|             Children or Armed...|            0|             0|                    0|Head of household|                       South|                   Arkansas|                       Householder|                            Householder|        1053.55|                  MSA to MSA|                 Same county|                   Same county|                           No|                          Yes|                              1|                   null|          United-States|          United-States|        United-States|Native- Born in t...|                            0|                                      null|                2|                  52|  94|- 50000.|\n",
      "| 18|                null|                       0|                         0|          10th grade|            0|               High school|Never married|               null|                 null|Asian or Pacific ...|      All other|Female|                   null|                   null|               Not in labor force|            0|             0|                    0|         Nonfiler|                        null|                       null|              Child 18+ never m...|                      Child 18 or older|         991.95|                        null|                        null|                          null|                         null|                         null|                              0|                   null|                Vietnam|                Vietnam|              Vietnam|Foreign born- Not...|                            0|                                      null|                2|                   0|  95|- 50000.|\n",
      "|  9|                null|                       0|                         0|            Children|            0|                      null|Never married|               null|                 null|               White|      All other|Female|                   null|                   null|             Children or Armed...|            0|             0|                    0|         Nonfiler|                        null|                       null|              Child <18 never m...|                   Child under 18 ne...|        1758.14|                    Nonmover|                    Nonmover|                      Nonmover|                          Yes|                         null|                              0|   Both parents present|          United-States|          United-States|        United-States|Native- Born in t...|                            0|                                      null|                0|                   0|  94|- 50000.|\n",
      "| 10|                null|                       0|                         0|            Children|            0|                      null|Never married|               null|                 null|               White|      All other|Female|                   null|                   null|             Children or Armed...|            0|             0|                    0|         Nonfiler|                        null|                       null|              Child <18 never m...|                   Child under 18 ne...|        1069.16|                    Nonmover|                    Nonmover|                      Nonmover|                          Yes|                         null|                              0|   Both parents present|          United-States|          United-States|        United-States|Native- Born in t...|                            0|                                      null|                0|                   0|  94|- 50000.|\n",
      "+---+--------------------+------------------------+--------------------------+--------------------+-------------+--------------------------+-------------+-------------------+---------------------+--------------------+---------------+------+-----------------------+-----------------------+---------------------------------+-------------+--------------+---------------------+-----------------+----------------------------+---------------------------+----------------------------------+---------------------------------------+---------------+----------------------------+----------------------------+------------------------------+-----------------------------+-----------------------------+-------------------------------+-----------------------+-----------------------+-----------------------+---------------------+--------------------+-----------------------------+------------------------------------------+-----------------+--------------------+----+--------+\n",
      "only showing top 5 rows\n",
      "\n"
     ]
    }
   ],
   "source": [
    "to_null_list = ['Not in universe', '?']\n",
    "df = val_to_null(df, to_null_list)\n",
    "\n",
    "df.show(5)"
   ]
  },
  {
   "cell_type": "markdown",
   "metadata": {},
   "source": [
    "> *NOTE*\n",
    ">\n",
    "> sometimes `'not in universe'` indicates different behavioural patterns than `null`;\n",
    "but these attributes don't seem to, given the semantics of the dataset"
   ]
  },
  {
   "cell_type": "markdown",
   "metadata": {
    "pycharm": {
     "name": "#%% md\n"
    }
   },
   "source": [
    "### Schema & Summary\n",
    "#### Change to Nominal Vals and Numeric Types wherever is needed\n",
    "\n",
    "df includes both nominal and numerical values."
   ]
  },
  {
   "cell_type": "code",
   "execution_count": 15,
   "metadata": {
    "pycharm": {
     "name": "#%%\n"
    }
   },
   "outputs": [],
   "source": [
    "# numeric columns\n",
    "numeric = filter(lambda kv: len(kv[1]) == 1, head.items())\n",
    "numeric = list(map(lambda kv: kv[0], numeric))\n",
    "\n",
    "# nominal columns\n",
    "nominal = list(filter(lambda c: c not in numeric, df.columns))"
   ]
  },
  {
   "cell_type": "code",
   "execution_count": 16,
   "metadata": {
    "pycharm": {
     "name": "#%%\n"
    },
    "scrolled": true
   },
   "outputs": [
    {
     "name": "stdout",
     "output_type": "stream",
     "text": [
      "+-------+---------------+------------------------+--------------------------+---------+--------------------------+------------+-------------------+---------------------+----+---------------+----+-----------------------+-----------------------+---------------------------------+--------------+----------------------------+---------------------------+----------------------------------+---------------------------------------+----------------------------+----------------------------+------------------------------+-----------------------------+-----------------------------+-----------------------+-----------------------+-----------------------+---------------------+-----------+-----------------------------+------------------------------------------+------------------+-----------------+--------+\n",
      "|summary|class_of_worker|detailed_industry_recode|detailed_occupation_recode|education|enroll_in_edu_inst_last_wk|marital_stat|major_industry_code|major_occupation_code|race|hispanic_origin| sex|member_of_a_labor_union|reason_for_unemployment|full_or_part_time_employment_stat|tax_filer_stat|region_of_previous_residence|state_of_previous_residence|detailed_household_and_family_stat|detailed_household_summary_in_household|migration_code-change_in_msa|migration_code-change_in_reg|migration_code-move_within_reg|live_in_this_house_1_year_ago|migration_prev_res_in_sunbelt|family_members_under_18|country_of_birth_father|country_of_birth_mother|country_of_birth_self|citizenship|own_business_or_self_employed|fill_inc_questionnaire_for_veteran's_admin| veterans_benefits|             year|over_50k|\n",
      "+-------+---------------+------------------------+--------------------------+---------+--------------------------+------------+-------------------+---------------------+----+---------------+----+-----------------------+-----------------------+---------------------------------+--------------+----------------------------+---------------------------+----------------------------------+---------------------------------------+----------------------------+----------------------------+------------------------------+-----------------------------+-----------------------------+-----------------------+-----------------------+-----------------------+---------------------+-----------+-----------------------------+------------------------------------------+------------------+-----------------+--------+\n",
      "|   mean|           null|      15.352320283877047|        11.306556136385279|     null|                      null|        null|               null|                 null|null|           null|null|                   null|                   null|                             null|          null|                        null|                       null|                              null|                                   null|                        null|                        null|                          null|                         null|                         null|                   null|                   null|                   null|                 null|       null|          0.17543842063321022|                                      null|1.5148328764102383|94.49967171704515|    null|\n",
      "+-------+---------------+------------------------+--------------------------+---------+--------------------------+------------+-------------------+---------------------+----+---------------+----+-----------------------+-----------------------+---------------------------------+--------------+----------------------------+---------------------------+----------------------------------+---------------------------------------+----------------------------+----------------------------+------------------------------+-----------------------------+-----------------------------+-----------------------+-----------------------+-----------------------+---------------------+-----------+-----------------------------+------------------------------------------+------------------+-----------------+--------+\n",
      "\n"
     ]
    }
   ],
   "source": [
    "# nominals with a mean are already numeric e.g. industry code or year\n",
    "# however, we can still use the indexer\n",
    "df.select(*nominal).summary(\"mean\").show()"
   ]
  },
  {
   "cell_type": "markdown",
   "metadata": {},
   "source": [
    "#### Change Numeric Types"
   ]
  },
  {
   "cell_type": "code",
   "execution_count": 17,
   "metadata": {
    "pycharm": {
     "name": "#%%\n"
    }
   },
   "outputs": [],
   "source": [
    "types = ('tinyint', 'smallint', 'smallint', 'smallint', 'smallint', 'double', 'tinyint', 'tinyint')\n",
    "\n",
    "\n",
    "def numeric_fn(dataframe: DataFrame, cols: list, new_types: list, alt_type: (str, type) = ''):\n",
    "    for c, t in zip(cols, new_types):\n",
    "        if alt_type:\n",
    "            new = 'int' if 'int' in t else t\n",
    "            alt = 'int' if 'int' in alt_type else alt_type\n",
    "\n",
    "            val = df.toPandas()[c].unique()\n",
    "            if any(np.not_equal(val.astype(new), val.astype(alt))):\n",
    "                t = alt_type\n",
    "\n",
    "        dataframe = dataframe.withColumn(c, col(c).cast(t))\n",
    "    return dataframe"
   ]
  },
  {
   "cell_type": "markdown",
   "metadata": {},
   "source": [
    "#### Numeric Columns' Schema"
   ]
  },
  {
   "cell_type": "code",
   "execution_count": 18,
   "metadata": {
    "pycharm": {
     "name": "#%%\n"
    }
   },
   "outputs": [
    {
     "name": "stdout",
     "output_type": "stream",
     "text": [
      "root\n",
      " |-- age: byte (nullable = true)\n",
      " |-- wage_per_hour: short (nullable = true)\n",
      " |-- capital_gains: short (nullable = true)\n",
      " |-- capital_losses: short (nullable = true)\n",
      " |-- dividends_from_stocks: short (nullable = true)\n",
      " |-- instance_weight: double (nullable = true)\n",
      " |-- num_persons_worked_for_employer: byte (nullable = true)\n",
      " |-- weeks_worked_in_year: byte (nullable = true)\n",
      "\n"
     ]
    }
   ],
   "source": [
    "df = numeric_fn(df, cols=numeric, new_types=types, alt_type='double')\n",
    "\n",
    "df.select(*numeric).printSchema()"
   ]
  },
  {
   "cell_type": "markdown",
   "metadata": {
    "id": "cbrgRW-us1wi",
    "pycharm": {
     "name": "#%% md\n"
    }
   },
   "source": [
    "#### Change Nominals"
   ]
  },
  {
   "cell_type": "code",
   "execution_count": 19,
   "metadata": {
    "pycharm": {
     "name": "#%%\n"
    }
   },
   "outputs": [],
   "source": [
    "from pyspark.ml.feature import StringIndexer\n",
    "from typing import List\n",
    "\n",
    "\n",
    "new_nom = list(map(lambda c: c + \"_idx\", nominal))\n",
    "\n",
    "\n",
    "def nominal_fn(dataframe: DataFrame, cols: list, new_cols: list):\n",
    "    idx = StringIndexer(inputCols=cols, outputCols=new_cols, handleInvalid=\"keep\")\n",
    "    return idx.fit(dataframe).transform(dataframe)\n",
    "\n",
    "\n",
    "def idx_values(dataframe: DataFrame, column: str):\n",
    "    \"\"\"\n",
    "    IndexToString is much slower than collecting\n",
    "    index metas\n",
    "    \"\"\"\n",
    "    for f in dataframe.schema.fields:\n",
    "        if f.name == column:\n",
    "            vals = f.metadata['ml_attr']['vals']\n",
    "            mx = dataframe.select(column).summary(\"max\").collect()[0][1]\n",
    "            # remove __unknown if needed\n",
    "            if len(vals) > float(mx) + 1:\n",
    "                vals.pop(-1)\n",
    "                \n",
    "            return vals\n",
    "        \n",
    "\n",
    "# it is possible to change types and save space, but afterwards it will be\n",
    "# impossible to get back the strings through IndexToString function\n",
    "def nominal_type_fn(dataframe: DataFrame, cols: list, check_bool: bool = False):\n",
    "    if check_bool:\n",
    "        distinct = dataframe.select(*cols).toPandas().nunique().values\n",
    "    else:\n",
    "        distinct = np.empty_like(shape=[len(cols)], prototype=0)\n",
    "\n",
    "    for dst, c in zip(distinct, cols):\n",
    "        if dst == 2:\n",
    "            dataframe = dataframe.withColumn(c, col(c).cast('boolean'))\n",
    "        else:\n",
    "            dataframe = dataframe.withColumn(c, col(c).cast('tinyint'))\n",
    "\n",
    "    return dataframe"
   ]
  },
  {
   "cell_type": "markdown",
   "metadata": {},
   "source": [
    "#### Nominal Columns' Schema"
   ]
  },
  {
   "cell_type": "code",
   "execution_count": 20,
   "metadata": {
    "pycharm": {
     "name": "#%%\n"
    }
   },
   "outputs": [
    {
     "name": "stdout",
     "output_type": "stream",
     "text": [
      "root\n",
      " |-- class_of_worker_idx: double (nullable = false)\n",
      " |-- detailed_industry_recode_idx: double (nullable = false)\n",
      " |-- detailed_occupation_recode_idx: double (nullable = false)\n",
      " |-- education_idx: double (nullable = false)\n",
      " |-- enroll_in_edu_inst_last_wk_idx: double (nullable = false)\n",
      " |-- marital_stat_idx: double (nullable = false)\n",
      " |-- major_industry_code_idx: double (nullable = false)\n",
      " |-- major_occupation_code_idx: double (nullable = false)\n",
      " |-- race_idx: double (nullable = false)\n",
      " |-- hispanic_origin_idx: double (nullable = false)\n",
      " |-- sex_idx: double (nullable = false)\n",
      " |-- member_of_a_labor_union_idx: double (nullable = false)\n",
      " |-- reason_for_unemployment_idx: double (nullable = false)\n",
      " |-- full_or_part_time_employment_stat_idx: double (nullable = false)\n",
      " |-- tax_filer_stat_idx: double (nullable = false)\n",
      " |-- region_of_previous_residence_idx: double (nullable = false)\n",
      " |-- state_of_previous_residence_idx: double (nullable = false)\n",
      " |-- detailed_household_and_family_stat_idx: double (nullable = false)\n",
      " |-- detailed_household_summary_in_household_idx: double (nullable = false)\n",
      " |-- migration_code-change_in_msa_idx: double (nullable = false)\n",
      " |-- migration_code-change_in_reg_idx: double (nullable = false)\n",
      " |-- migration_code-move_within_reg_idx: double (nullable = false)\n",
      " |-- live_in_this_house_1_year_ago_idx: double (nullable = false)\n",
      " |-- migration_prev_res_in_sunbelt_idx: double (nullable = false)\n",
      " |-- family_members_under_18_idx: double (nullable = false)\n",
      " |-- country_of_birth_father_idx: double (nullable = false)\n",
      " |-- country_of_birth_mother_idx: double (nullable = false)\n",
      " |-- country_of_birth_self_idx: double (nullable = false)\n",
      " |-- citizenship_idx: double (nullable = false)\n",
      " |-- own_business_or_self_employed_idx: double (nullable = false)\n",
      " |-- fill_inc_questionnaire_for_veteran's_admin_idx: double (nullable = false)\n",
      " |-- veterans_benefits_idx: double (nullable = false)\n",
      " |-- year_idx: double (nullable = false)\n",
      " |-- over_50k_idx: double (nullable = false)\n",
      "\n"
     ]
    }
   ],
   "source": [
    "from pyspark.sql.utils import IllegalArgumentException\n",
    "\n",
    "\n",
    "try:\n",
    "    df = nominal_fn(df, cols=nominal, new_cols=new_nom)\n",
    "except IllegalArgumentException:\n",
    "    print('output column already exists')\n",
    "\n",
    "# df = nominal_type_fn(df, cols=new_nom, check_bool=False)\n",
    "\n",
    "df.select(*new_nom).printSchema()"
   ]
  },
  {
   "cell_type": "markdown",
   "metadata": {
    "pycharm": {
     "name": "#%% md\n"
    }
   },
   "source": [
    "#### Remove Duplicates"
   ]
  },
  {
   "cell_type": "code",
   "execution_count": 21,
   "metadata": {
    "pycharm": {
     "name": "#%%\n"
    }
   },
   "outputs": [],
   "source": [
    "from typing import Any\n",
    "\n",
    "\n",
    "def duplicate_fn(dataframe: DataFrame, subset: Any = None):\n",
    "    init = dataframe.count()\n",
    "    dataframe = dataframe.dropDuplicates(subset=subset)\n",
    "\n",
    "    print(f'{init - dataframe.count()} duplicates were removed from a total of {init} entries')\n",
    "\n",
    "    return dataframe"
   ]
  },
  {
   "cell_type": "code",
   "execution_count": 22,
   "metadata": {
    "pycharm": {
     "name": "#%%\n"
    }
   },
   "outputs": [
    {
     "name": "stdout",
     "output_type": "stream",
     "text": [
      "3229 duplicates were removed from a total of 199523 entries\n"
     ]
    }
   ],
   "source": [
    "df = duplicate_fn(df.select(*numeric, *new_nom), None)"
   ]
  },
  {
   "cell_type": "markdown",
   "metadata": {},
   "source": [
    "#### Dataframe Summary, Total Rows & Columns"
   ]
  },
  {
   "cell_type": "code",
   "execution_count": 23,
   "metadata": {
    "pycharm": {
     "name": "#%%\n"
    }
   },
   "outputs": [
    {
     "name": "stdout",
     "output_type": "stream",
     "text": [
      "TOTAL ENTRIES: 196294\tTOTAL COLUMNS: 42\n",
      "+-------+-----------------+-----------------+------------------+-----------------+---------------------+------------------+-------------------------------+--------------------+-------------------+----------------------------+------------------------------+------------------+------------------------------+------------------+-----------------------+-------------------------+------------------+-------------------+------------------+---------------------------+---------------------------+-------------------------------------+------------------+--------------------------------+-------------------------------+--------------------------------------+-------------------------------------------+--------------------------------+--------------------------------+----------------------------------+---------------------------------+---------------------------------+---------------------------+---------------------------+---------------------------+-------------------------+------------------+---------------------------------+----------------------------------------------+---------------------+-------------------+-------------------+\n",
      "|summary|              age|    wage_per_hour|     capital_gains|   capital_losses|dividends_from_stocks|   instance_weight|num_persons_worked_for_employer|weeks_worked_in_year|class_of_worker_idx|detailed_industry_recode_idx|detailed_occupation_recode_idx|     education_idx|enroll_in_edu_inst_last_wk_idx|  marital_stat_idx|major_industry_code_idx|major_occupation_code_idx|          race_idx|hispanic_origin_idx|           sex_idx|member_of_a_labor_union_idx|reason_for_unemployment_idx|full_or_part_time_employment_stat_idx|tax_filer_stat_idx|region_of_previous_residence_idx|state_of_previous_residence_idx|detailed_household_and_family_stat_idx|detailed_household_summary_in_household_idx|migration_code-change_in_msa_idx|migration_code-change_in_reg_idx|migration_code-move_within_reg_idx|live_in_this_house_1_year_ago_idx|migration_prev_res_in_sunbelt_idx|family_members_under_18_idx|country_of_birth_father_idx|country_of_birth_mother_idx|country_of_birth_self_idx|   citizenship_idx|own_business_or_self_employed_idx|fill_inc_questionnaire_for_veteran's_admin_idx|veterans_benefits_idx|           year_idx|       over_50k_idx|\n",
      "+-------+-----------------+-----------------+------------------+-----------------+---------------------+------------------+-------------------------------+--------------------+-------------------+----------------------------+------------------------------+------------------+------------------------------+------------------+-----------------------+-------------------------+------------------+-------------------+------------------+---------------------------+---------------------------+-------------------------------------+------------------+--------------------------------+-------------------------------+--------------------------------------+-------------------------------------------+--------------------------------+--------------------------------+----------------------------------+---------------------------------+---------------------------------+---------------------------+---------------------------+---------------------------+-------------------------+------------------+---------------------------------+----------------------------------------------+---------------------+-------------------+-------------------+\n",
      "|  count|           196294|           196294|            195891|           196294|               196167|            196294|                         196294|              196294|             196294|                      196294|                        196294|            196294|                        196294|            196294|                 196294|                   196294|            196294|             196294|            196294|                     196294|                     196294|                               196294|            196294|                          196294|                         196294|                                196294|                                     196294|                          196294|                          196294|                            196294|                           196294|                           196294|                     196294|                     196294|                     196294|                   196294|            196294|                           196294|                                        196294|               196294|             196294|             196294|\n",
      "|   mean|34.92946804283371|56.33650544591276|241.35443690623867|37.92759330392167|    162.7855041877584|1743.2675840830593|              1.988104577827137|  23.553888554922718| 4.3016342832689745|           5.701891040989536|             6.653473870826414| 3.054306295658553|             1.901245071168757|0.8476418026022191|     14.444776712482296|          8.7895605571235| 0.263640253904857| 0.3958042528044668|0.4783335201279713|          1.821217153861045|          4.883725432259774|                   0.6528880149164009| 1.101322506036863|               4.708325267201239|               46.3122662944359|                    2.1938673622219733|                         1.2816693327355906|               4.186704636922168|              3.6899905244174556|                 4.204957869318472|                 1.09325807207556|               1.8691197897032004|          3.045518457008365|          2.924144395651421|          2.785469754551846|       1.6083120217632734|0.1855482082997952|              0.10976901993947853|                            1.9817773339990015|  0.24606967100369853|0.49932753930328994|0.06307885111108846|\n",
      "| stddev|22.21000076195638|277.0543328536735|1618.2519299528785|274.0811743889581|   1200.0488313467115| 996.9459845542957|              2.371017669678453|   24.42858834375195|  3.779815783874626|           9.647166678627295|            10.124512022321571|3.5720902708584372|            0.3985310999987007|1.0226815025175304|       9.28828292084878|       5.5871713197718105|0.7084630198750181|  1.200709750010141|0.4995316154806813|         0.5569272274674968|         0.6853441269150924|                   1.0516147713415764|1.1711844181661504|              1.0432132091865922|             10.034183073334344|                    3.0701041118822774|                         1.3774617372138096|               3.904246916182847|              3.4057495266780693|                3.9011895660645375|               0.9545483148214591|               0.4639201665049935|          1.628632715547377|          8.934438079528695|          8.657559981346065|        6.684148957799151|0.5976455051820087|              0.35384996573030025|                           0.18472014015928823|  0.45358021584627845| 0.5000008213999255| 0.2431053490437035|\n",
      "|    min|                0|                0|                 0|                0|                    0|             37.87|                              0|                   0|                0.0|                         0.0|                           0.0|               0.0|                           0.0|               0.0|                    0.0|                      0.0|               0.0|                0.0|               0.0|                        0.0|                        0.0|                                  0.0|               0.0|                             0.0|                            0.0|                                   0.0|                                        0.0|                             0.0|                             0.0|                               0.0|                              0.0|                              0.0|                        0.0|                        0.0|                        0.0|                      0.0|               0.0|                              0.0|                                           0.0|                  0.0|                0.0|                0.0|\n",
      "|    25%|               16|                0|                 0|                0|                    0|           1061.53|                              0|                   0|                0.0|                         0.0|                           0.0|               1.0|                           2.0|               0.0|                    5.0|                      3.0|               0.0|                0.0|               0.0|                        2.0|                        5.0|                                  0.0|               0.0|                             5.0|                           49.0|                                   0.0|                                        0.0|                             0.0|                             0.0|                               0.0|                              0.0|                              2.0|                        2.0|                        0.0|                        0.0|                      0.0|               0.0|                              0.0|                                           2.0|                  0.0|                0.0|                0.0|\n",
      "|    50%|               34|                0|                 0|                0|                    0|           1620.14|                              1|                  12|                5.0|                         1.0|                           1.0|               2.0|                           2.0|               1.0|                   20.0|                     12.0|               0.0|                0.0|               0.0|                        2.0|                        5.0|                                  0.0|               1.0|                             5.0|                           49.0|                                   1.0|                                        1.0|                             8.0|                             7.0|                               8.0|                              2.0|                              2.0|                        4.0|                        0.0|                        0.0|                      0.0|               0.0|                              0.0|                                           2.0|                  0.0|                0.0|                0.0|\n",
      "|    75%|               50|                0|                 0|                0|                    0|           2194.06|                              4|                  52|                8.0|                         8.0|                          11.0|               4.0|                           2.0|               1.0|                   23.0|                     14.0|               0.0|                0.0|               1.0|                        2.0|                        5.0|                                  1.0|               2.0|                             5.0|                           49.0|                                   3.0|                                        2.0|                             8.0|                             7.0|                               8.0|                              2.0|                              2.0|                        4.0|                        0.0|                        0.0|                      0.0|               0.0|                              0.0|                                           2.0|                  0.0|                1.0|                0.0|\n",
      "|    max|               90|             9999|             27828|             4608|                32000|           18656.3|                              6|                  52|                8.0|                        51.0|                          46.0|              16.0|                           2.0|               6.0|                   23.0|                     14.0|               4.0|                9.0|               1.0|                        2.0|                        5.0|                                  7.0|               5.0|                             5.0|                           49.0|                                  37.0|                                        7.0|                             8.0|                             7.0|                               8.0|                              2.0|                              2.0|                        4.0|                       42.0|                       42.0|                     42.0|               4.0|                              2.0|                                           2.0|                  2.0|                1.0|                1.0|\n",
      "+-------+-----------------+-----------------+------------------+-----------------+---------------------+------------------+-------------------------------+--------------------+-------------------+----------------------------+------------------------------+------------------+------------------------------+------------------+-----------------------+-------------------------+------------------+-------------------+------------------+---------------------------+---------------------------+-------------------------------------+------------------+--------------------------------+-------------------------------+--------------------------------------+-------------------------------------------+--------------------------------+--------------------------------+----------------------------------+---------------------------------+---------------------------------+---------------------------+---------------------------+---------------------------+-------------------------+------------------+---------------------------------+----------------------------------------------+---------------------+-------------------+-------------------+\n",
      "\n"
     ]
    }
   ],
   "source": [
    "print(f\"TOTAL ENTRIES: {df.count()}\",\n",
    "      f\"TOTAL COLUMNS: {len(df.columns)}\",\n",
    "      sep='\\t')\n",
    "\n",
    "df.summary().show()"
   ]
  },
  {
   "cell_type": "markdown",
   "metadata": {
    "pycharm": {
     "name": "#%% md\n"
    }
   },
   "source": [
    "### Aggregate Table with Distinct Values"
   ]
  },
  {
   "cell_type": "code",
   "execution_count": 24,
   "metadata": {
    "pycharm": {
     "name": "#%%\n"
    }
   },
   "outputs": [
    {
     "name": "stdout",
     "output_type": "stream",
     "text": [
      "+---+-------------+-------------+--------------+---------------------+---------------+-------------------------------+--------------------+-------------------+----------------------------+------------------------------+-------------+------------------------------+----------------+-----------------------+-------------------------+--------+-------------------+-------+---------------------------+---------------------------+-------------------------------------+------------------+--------------------------------+-------------------------------+--------------------------------------+-------------------------------------------+--------------------------------+--------------------------------+----------------------------------+---------------------------------+---------------------------------+---------------------------+---------------------------+---------------------------+-------------------------+---------------+---------------------------------+----------------------------------------------+---------------------+--------+------------+\n",
      "|age|wage_per_hour|capital_gains|capital_losses|dividends_from_stocks|instance_weight|num_persons_worked_for_employer|weeks_worked_in_year|class_of_worker_idx|detailed_industry_recode_idx|detailed_occupation_recode_idx|education_idx|enroll_in_edu_inst_last_wk_idx|marital_stat_idx|major_industry_code_idx|major_occupation_code_idx|race_idx|hispanic_origin_idx|sex_idx|member_of_a_labor_union_idx|reason_for_unemployment_idx|full_or_part_time_employment_stat_idx|tax_filer_stat_idx|region_of_previous_residence_idx|state_of_previous_residence_idx|detailed_household_and_family_stat_idx|detailed_household_summary_in_household_idx|migration_code-change_in_msa_idx|migration_code-change_in_reg_idx|migration_code-move_within_reg_idx|live_in_this_house_1_year_ago_idx|migration_prev_res_in_sunbelt_idx|family_members_under_18_idx|country_of_birth_father_idx|country_of_birth_mother_idx|country_of_birth_self_idx|citizenship_idx|own_business_or_self_employed_idx|fill_inc_questionnaire_for_veteran's_admin_idx|veterans_benefits_idx|year_idx|over_50k_idx|\n",
      "+---+-------------+-------------+--------------+---------------------+---------------+-------------------------------+--------------------+-------------------+----------------------------+------------------------------+-------------+------------------------------+----------------+-----------------------+-------------------------+--------+-------------------+-------+---------------------------+---------------------------+-------------------------------------+------------------+--------------------------------+-------------------------------+--------------------------------------+-------------------------------------------+--------------------------------+--------------------------------+----------------------------------+---------------------------------+---------------------------------+---------------------------+---------------------------+---------------------------+-------------------------+---------------+---------------------------------+----------------------------------------------+---------------------+--------+------------+\n",
      "| 91|         1240|          129|           113|                 1448|          99800|                              7|                  53|                  9|                          52|                            47|           17|                             3|               7|                     24|                       15|       5|                 10|      2|                          3|                          6|                                    8|                 6|                               6|                             50|                                    38|                                          8|                               9|                               8|                                 9|                                3|                                3|                          5|                         43|                         43|                       43|              5|                                3|                                             3|                    3|       2|           2|\n",
      "+---+-------------+-------------+--------------+---------------------+---------------+-------------------------------+--------------------+-------------------+----------------------------+------------------------------+-------------+------------------------------+----------------+-----------------------+-------------------------+--------+-------------------+-------+---------------------------+---------------------------+-------------------------------------+------------------+--------------------------------+-------------------------------+--------------------------------------+-------------------------------------------+--------------------------------+--------------------------------+----------------------------------+---------------------------------+---------------------------------+---------------------------+---------------------------+---------------------------+-------------------------+---------------+---------------------------------+----------------------------------------------+---------------------+--------+------------+\n",
      "\n"
     ]
    }
   ],
   "source": [
    "dist_fn = lambda columns: (countDistinct(c).alias(c) for c in columns)\n",
    "\n",
    "df.agg(*dist_fn(df.columns)).show()"
   ]
  },
  {
   "cell_type": "markdown",
   "metadata": {
    "pycharm": {
     "name": "#%% md\n"
    }
   },
   "source": [
    "### Explanatory analysis\n",
    "*note: dataset should have been cleaned more carefully before (eg `9999` vals in wage/hr)*"
   ]
  },
  {
   "cell_type": "markdown",
   "metadata": {},
   "source": [
    "#### Count NAs"
   ]
  },
  {
   "cell_type": "code",
   "execution_count": 25,
   "metadata": {},
   "outputs": [
    {
     "name": "stdout",
     "output_type": "stream",
     "text": [
      "0\t(0.0%)\t Nulls @ age\n",
      "0\t(0.0%)\t Nulls @ wage_per_hour\n",
      "403\t(0.2%)\t Nulls @ capital_gains\n",
      "0\t(0.0%)\t Nulls @ capital_losses\n",
      "127\t(0.1%)\t Nulls @ dividends_from_stocks\n",
      "0\t(0.0%)\t Nulls @ instance_weight\n",
      "0\t(0.0%)\t Nulls @ num_persons_worked_for_employer\n",
      "0\t(0.0%)\t Nulls @ weeks_worked_in_year\n",
      "97029\t(49.4%)\t Nulls @ class_of_worker_idx\n",
      "183762\t(93.6%)\t Nulls @ enroll_in_edu_inst_last_wk_idx\n",
      "97467\t(49.7%)\t Nulls @ major_industry_code_idx\n",
      "97467\t(49.7%)\t Nulls @ major_occupation_code_idx\n",
      "177232\t(90.3%)\t Nulls @ member_of_a_labor_union_idx\n",
      "190226\t(96.9%)\t Nulls @ reason_for_unemployment_idx\n",
      "180562\t(92.0%)\t Nulls @ region_of_previous_residence_idx\n",
      "181269\t(92.3%)\t Nulls @ state_of_previous_residence_idx\n",
      "99434\t(50.7%)\t Nulls @ migration_code-change_in_msa_idx\n",
      "99434\t(50.7%)\t Nulls @ migration_code-change_in_reg_idx\n",
      "99434\t(50.7%)\t Nulls @ migration_code-move_within_reg_idx\n",
      "99434\t(50.7%)\t Nulls @ live_in_this_house_1_year_ago_idx\n",
      "180562\t(92.0%)\t Nulls @ migration_prev_res_in_sunbelt_idx\n",
      "144161\t(73.4%)\t Nulls @ family_members_under_18_idx\n",
      "6703\t(3.4%)\t Nulls @ country_of_birth_father_idx\n",
      "6107\t(3.1%)\t Nulls @ country_of_birth_mother_idx\n",
      "3389\t(1.7%)\t Nulls @ country_of_birth_self_idx\n",
      "194310\t(99.0%)\t Nulls @ fill_inc_questionnaire_for_veteran's_admin_idx\n"
     ]
    }
   ],
   "source": [
    "perc = df.count()\n",
    "\n",
    "for c in df.columns:\n",
    "    if c in numeric:\n",
    "        counter = df.filter(col(c).isNull()).count()\n",
    "    else:\n",
    "        vals = idx_values(df, c)\n",
    "        if vals[-1] == \"__unknown\":\n",
    "            counter = df.select(c).where(col(c) == len(vals)-1).count()\n",
    "        else:\n",
    "            continue\n",
    "    \n",
    "    print(counter, \"({:.1f}%)\".format(100*counter/perc), f\" Nulls @ {c}\", sep=\"\\t\")"
   ]
  },
  {
   "cell_type": "markdown",
   "metadata": {},
   "source": [
    "---\n",
    "***It is clear that there are several nominal values with minimal explanatory power due to the total amount of unknown values. (This concept is discussed under the assumption that we are discussing about data analysis and machine learning methodologies, where quanbtity comes over quality)***\n",
    "\n",
    "***Also, the difference in null values between numeric and nominal columns is suspicious***"
   ]
  },
  {
   "cell_type": "code",
   "execution_count": 26,
   "metadata": {},
   "outputs": [
    {
     "data": {
      "text/plain": [
       "2643"
      ]
     },
     "execution_count": 26,
     "metadata": {},
     "output_type": "execute_result"
    }
   ],
   "source": [
    "df.filter(col(\"age\") == 0).count()"
   ]
  },
  {
   "cell_type": "markdown",
   "metadata": {},
   "source": [
    "***Some numeric columns include 0 as Null***"
   ]
  },
  {
   "cell_type": "code",
   "execution_count": 27,
   "metadata": {},
   "outputs": [
    {
     "name": "stdout",
     "output_type": "stream",
     "text": [
      "2643\t(1.3%)\t Zeros & Nulls @ age\n",
      "184991\t(94.2%)\t Zeros & Nulls @ wage_per_hour\n",
      "189318\t(96.4%)\t Zeros & Nulls @ capital_gains\n",
      "192388\t(98.0%)\t Zeros & Nulls @ capital_losses\n",
      "175283\t(89.3%)\t Zeros & Nulls @ dividends_from_stocks\n",
      "0\t(0.0%)\t Zeros & Nulls @ instance_weight\n",
      "92770\t(47.3%)\t Zeros & Nulls @ num_persons_worked_for_employer\n",
      "92770\t(47.3%)\t Zeros & Nulls @ weeks_worked_in_year\n"
     ]
    }
   ],
   "source": [
    "for c in numeric:\n",
    "    counter = df.filter(col(c) == 0).count() + df.filter(col(c).isNull()).count()\n",
    "    print(counter, \"({:.1f}%)\".format(100*counter/perc), f\" Zeros & Nulls @ {c}\", sep=\"\\t\")"
   ]
  },
  {
   "cell_type": "markdown",
   "metadata": {},
   "source": [
    "***check Zeros & Nulls over 50k***"
   ]
  },
  {
   "cell_type": "code",
   "execution_count": 29,
   "metadata": {},
   "outputs": [
    {
     "name": "stdout",
     "output_type": "stream",
     "text": [
      "0\t(0.0%)\t Zeros & Nulls @ age\n",
      "11826\t(95.5%)\t Zeros & Nulls @ wage_per_hour\n",
      "10314\t(83.3%)\t Zeros & Nulls @ capital_gains\n",
      "11213\t(90.6%)\t Zeros & Nulls @ capital_losses\n",
      "7192\t(58.1%)\t Zeros & Nulls @ dividends_from_stocks\n",
      "0\t(0.0%)\t Zeros & Nulls @ instance_weight\n",
      "596\t(4.8%)\t Zeros & Nulls @ num_persons_worked_for_employer\n",
      "596\t(4.8%)\t Zeros & Nulls @ weeks_worked_in_year\n"
     ]
    }
   ],
   "source": [
    "target = \"over_50k_idx\"\n",
    "\n",
    "temp = df.filter(col(target) == 1)\n",
    "temp = temp.select(*numeric)\n",
    "perc = temp.count()\n",
    "\n",
    "for c in temp.columns:\n",
    "    counter = temp.filter(col(c) == 0).count() + temp.filter(col(c).isNull()).count()\n",
    "    print(counter, \"({:.1f}%)\".format(100*counter/perc), f\" Zeros & Nulls @ {c}\", sep=\"\\t\")"
   ]
  },
  {
   "cell_type": "markdown",
   "metadata": {},
   "source": [
    "---\n",
    "***Depending the distribution of nulls in respect with our response variable, some might be useful in some special cases; but in general, most of them do not hold enough explanatory power to describe our dataset in respect with its initial purpose, which is the prediction of income (`over_50k_idx`). However, `dividends` seems to be an exception.***\n",
    "\n",
    "#### Save and Drop Columns with Nulls > 90%\n",
    "*note: helps with total cpu/memory usage*"
   ]
  },
  {
   "cell_type": "code",
   "execution_count": 30,
   "metadata": {},
   "outputs": [
    {
     "name": "stdout",
     "output_type": "stream",
     "text": [
      "total 11 columns were dropped out of 43\n"
     ]
    }
   ],
   "source": [
    "to_drop = [\n",
    "    \"enroll_in_edu_inst_last_wk_idx\", \"member_of_a_labor_union_idx\", \"reason_for_unemployment_idx\",\n",
    "    \"region_of_previous_residence_idx\", \"state_of_previous_residence_idx\", \"migration_prev_res_in_sunbelt_idx\", \n",
    "    \"fill_inc_questionnaire_for_veteran's_admin_idx\", \"wage_per_hour\", \"capital_gains\", \"capital_losses\"\n",
    "]\n",
    "\n",
    "if 'alt_df' not in locals():\n",
    "    alt_df = df.select(*to_drop, \"over_50k_idx\")\n",
    "    df = df.drop(*to_drop)\n",
    "    \n",
    "    nominal = [c for c in df.columns if \"idx\" in c]  # new categorical\n",
    "    numeric = [c for c in df.columns if \"idx\" not in c]  # new numeric\n",
    "    \n",
    "\n",
    "print(f\"total {len(alt_df.columns)} columns were dropped out of {len(df.columns)+len(alt_df.columns)}\")"
   ]
  },
  {
   "cell_type": "code",
   "execution_count": 31,
   "metadata": {
    "pycharm": {
     "name": "#%%\n"
    }
   },
   "outputs": [
    {
     "name": "stdout",
     "output_type": "stream",
     "text": [
      "TOTAL >50k: 12382\n",
      "TOTAL <50k: 183912\n"
     ]
    }
   ],
   "source": [
    "my_col = \"over_50k_idx\"\n",
    "\n",
    "_count = df.select(my_col).filter(col(my_col) == 1).count()\n",
    "\n",
    "print(f\"TOTAL >50k: {_count}\",\n",
    "      f\"TOTAL <50k: {df.count() - _count}\",\n",
    "      sep=\"\\n\")"
   ]
  },
  {
   "cell_type": "code",
   "execution_count": 32,
   "metadata": {},
   "outputs": [
    {
     "name": "stdout",
     "output_type": "stream",
     "text": [
      "+-------+-----------------+---------------------+------------------+-------------------------------+--------------------+-------------------+----------------------------+------------------------------+------------------+------------------+-----------------------+-------------------------+------------------+-------------------+------------------+-------------------------------------+------------------+--------------------------------------+-------------------------------------------+--------------------------------+--------------------------------+----------------------------------+---------------------------------+---------------------------+---------------------------+---------------------------+-------------------------+------------------+---------------------------------+---------------------+-------------------+-------------------+\n",
      "|summary|              age|dividends_from_stocks|   instance_weight|num_persons_worked_for_employer|weeks_worked_in_year|class_of_worker_idx|detailed_industry_recode_idx|detailed_occupation_recode_idx|     education_idx|  marital_stat_idx|major_industry_code_idx|major_occupation_code_idx|          race_idx|hispanic_origin_idx|           sex_idx|full_or_part_time_employment_stat_idx|tax_filer_stat_idx|detailed_household_and_family_stat_idx|detailed_household_summary_in_household_idx|migration_code-change_in_msa_idx|migration_code-change_in_reg_idx|migration_code-move_within_reg_idx|live_in_this_house_1_year_ago_idx|family_members_under_18_idx|country_of_birth_father_idx|country_of_birth_mother_idx|country_of_birth_self_idx|   citizenship_idx|own_business_or_self_employed_idx|veterans_benefits_idx|           year_idx|       over_50k_idx|\n",
      "+-------+-----------------+---------------------+------------------+-------------------------------+--------------------+-------------------+----------------------------+------------------------------+------------------+------------------+-----------------------+-------------------------+------------------+-------------------+------------------+-------------------------------------+------------------+--------------------------------------+-------------------------------------------+--------------------------------+--------------------------------+----------------------------------+---------------------------------+---------------------------+---------------------------+---------------------------+-------------------------+------------------+---------------------------------+---------------------+-------------------+-------------------+\n",
      "|  count|           196294|               196167|            196294|                         196294|              196294|             196294|                      196294|                        196294|            196294|            196294|                 196294|                   196294|            196294|             196294|            196294|                               196294|            196294|                                196294|                                     196294|                          196294|                          196294|                            196294|                           196294|                     196294|                     196294|                     196294|                   196294|            196294|                           196294|               196294|             196294|             196294|\n",
      "|   mean|34.92946804283371|    162.7855041877584|1743.2675840830593|              1.988104577827137|  23.553888554922718| 4.3016342832689745|           5.701891040989536|             6.653473870826414| 3.054306295658553|0.8476418026022191|     14.444776712482296|          8.7895605571235| 0.263640253904857| 0.3958042528044668|0.4783335201279713|                   0.6528880149164009| 1.101322506036863|                    2.1938673622219733|                         1.2816693327355906|               4.186704636922168|              3.6899905244174556|                 4.204957869318472|                 1.09325807207556|          3.045518457008365|          2.924144395651421|          2.785469754551846|       1.6083120217632734|0.1855482082997952|              0.10976901993947853|  0.24606967100369853|0.49932753930328994|0.06307885111108846|\n",
      "| stddev|22.21000076195638|   1200.0488313467115| 996.9459845542957|              2.371017669678453|   24.42858834375195|  3.779815783874626|           9.647166678627295|            10.124512022321571|3.5720902708584372|1.0226815025175304|       9.28828292084878|       5.5871713197718105|0.7084630198750181|  1.200709750010141|0.4995316154806813|                   1.0516147713415764|1.1711844181661504|                    3.0701041118822774|                         1.3774617372138096|               3.904246916182847|              3.4057495266780693|                3.9011895660645375|               0.9545483148214591|          1.628632715547377|          8.934438079528695|          8.657559981346065|        6.684148957799151|0.5976455051820087|              0.35384996573030025|  0.45358021584627845| 0.5000008213999255| 0.2431053490437035|\n",
      "|    min|                0|                    0|             37.87|                              0|                   0|                0.0|                         0.0|                           0.0|               0.0|               0.0|                    0.0|                      0.0|               0.0|                0.0|               0.0|                                  0.0|               0.0|                                   0.0|                                        0.0|                             0.0|                             0.0|                               0.0|                              0.0|                        0.0|                        0.0|                        0.0|                      0.0|               0.0|                              0.0|                  0.0|                0.0|                0.0|\n",
      "|    25%|               16|                    0|           1061.53|                              0|                   0|                0.0|                         0.0|                           0.0|               1.0|               0.0|                    5.0|                      3.0|               0.0|                0.0|               0.0|                                  0.0|               0.0|                                   0.0|                                        0.0|                             0.0|                             0.0|                               0.0|                              0.0|                        2.0|                        0.0|                        0.0|                      0.0|               0.0|                              0.0|                  0.0|                0.0|                0.0|\n",
      "|    50%|               34|                    0|           1620.14|                              1|                  12|                5.0|                         1.0|                           1.0|               2.0|               1.0|                   20.0|                     12.0|               0.0|                0.0|               0.0|                                  0.0|               1.0|                                   1.0|                                        1.0|                             8.0|                             7.0|                               8.0|                              2.0|                        4.0|                        0.0|                        0.0|                      0.0|               0.0|                              0.0|                  0.0|                0.0|                0.0|\n",
      "|    75%|               50|                    0|           2194.06|                              4|                  52|                8.0|                         8.0|                          11.0|               4.0|               1.0|                   23.0|                     14.0|               0.0|                0.0|               1.0|                                  1.0|               2.0|                                   3.0|                                        2.0|                             8.0|                             7.0|                               8.0|                              2.0|                        4.0|                        0.0|                        0.0|                      0.0|               0.0|                              0.0|                  0.0|                1.0|                0.0|\n",
      "|    max|               90|                32000|           18656.3|                              6|                  52|                8.0|                        51.0|                          46.0|              16.0|               6.0|                   23.0|                     14.0|               4.0|                9.0|               1.0|                                  7.0|               5.0|                                  37.0|                                        7.0|                             8.0|                             7.0|                               8.0|                              2.0|                        4.0|                       42.0|                       42.0|                     42.0|               4.0|                              2.0|                  2.0|                1.0|                1.0|\n",
      "+-------+-----------------+---------------------+------------------+-------------------------------+--------------------+-------------------+----------------------------+------------------------------+------------------+------------------+-----------------------+-------------------------+------------------+-------------------+------------------+-------------------------------------+------------------+--------------------------------------+-------------------------------------------+--------------------------------+--------------------------------+----------------------------------+---------------------------------+---------------------------+---------------------------+---------------------------+-------------------------+------------------+---------------------------------+---------------------+-------------------+-------------------+\n",
      "\n"
     ]
    }
   ],
   "source": [
    "df.summary().show()"
   ]
  },
  {
   "cell_type": "code",
   "execution_count": 33,
   "metadata": {
    "pycharm": {
     "name": "#%%\n"
    }
   },
   "outputs": [],
   "source": [
    "def pandas_scatter(dataframe: DataFrame, **plot_kwargs):\n",
    "    pdf = dataframe.toPandas()\n",
    "    axs = pd.plotting.scatter_matrix(pdf, **plot_kwargs)\n",
    "    num = len(pdf.columns)\n",
    "\n",
    "    for i in range(num):\n",
    "        vertical = axs[i, 0]\n",
    "        vertical.yaxis.label.set_rotation(0)\n",
    "        vertical.yaxis.label.set_ha(\"right\")\n",
    "\n",
    "        horizontal = axs[num-1, i]\n",
    "        horizontal.xaxis.label.set_rotation(75)\n",
    "\n",
    "        vertical.set_yticks([])\n",
    "        horizontal.set_xticks([])"
   ]
  },
  {
   "cell_type": "markdown",
   "metadata": {
    "pycharm": {
     "name": "#%% md\n"
    }
   },
   "source": [
    "#### KDE: Density Functions & Cross correlation"
   ]
  },
  {
   "cell_type": "code",
   "execution_count": 34,
   "metadata": {
    "pycharm": {
     "name": "#%%\n"
    }
   },
   "outputs": [
    {
     "data": {
      "image/png": "[encoded data removed]",
      "text/plain": [
       "<Figure size 720x720 with 25 Axes>"
      ]
     },
     "metadata": {
      "needs_background": "light"
     },
     "output_type": "display_data"
    }
   ],
   "source": [
    "pandas_scatter(df.select(*numeric), alpha=.2, figsize=(10, 10), diagonal='kde')"
   ]
  },
  {
   "cell_type": "markdown",
   "metadata": {},
   "source": [
    "---\n",
    "- Age: It probably follow a bimodal distribution; it skews due to the legal working age\n",
    "- Instance weight: it probably follows a gamma distribution; we need to examine the outliers.\n",
    "- Persons/employer: it probably follows a uniform distribution; however, it can also be treated as ordinal variable\n",
    "- Weeks/year: We need to check the outliers if they are reasonable."
   ]
  },
  {
   "cell_type": "code",
   "execution_count": 35,
   "metadata": {},
   "outputs": [
    {
     "name": "stdout",
     "output_type": "stream",
     "text": [
      "Total Vals >7.5k:  0.1%\n"
     ]
    },
    {
     "data": {
      "image/png": "[encoded data removed]",
      "text/plain": [
       "<Figure size 432x288 with 1 Axes>"
      ]
     },
     "metadata": {
      "needs_background": "light"
     },
     "output_type": "display_data"
    },
    {
     "data": {
      "image/png": "[encoded data removed]",
      "text/plain": [
       "<Figure size 432x288 with 1 Axes>"
      ]
     },
     "metadata": {
      "needs_background": "light"
     },
     "output_type": "display_data"
    }
   ],
   "source": [
    "my_col = \"instance_weight\"\n",
    "\n",
    "df.select(my_col).toPandas().hist()\n",
    "\n",
    "temp = df.select(col(my_col).alias(\"Instance Weight <7.5k\")).filter(col(my_col) < 7500)\n",
    "temp.toPandas().hist()\n",
    "print(\"Total Vals >7.5k: \", \"{:.1f}%\".format(100*(df.count()-temp.count())/df.count()))\n",
    "\n",
    "plt.show()"
   ]
  },
  {
   "cell_type": "markdown",
   "metadata": {},
   "source": [
    "`Instance Weight` seems to follow approx a chi square distribution and the rest are outlier or errors"
   ]
  },
  {
   "cell_type": "code",
   "execution_count": 36,
   "metadata": {},
   "outputs": [
    {
     "data": {
      "image/png": "[encoded data removed]",
      "text/plain": [
       "<Figure size 432x288 with 1 Axes>"
      ]
     },
     "metadata": {
      "needs_background": "light"
     },
     "output_type": "display_data"
    }
   ],
   "source": [
    "my_col = \"weeks_worked_in_year\"\n",
    "\n",
    "df.select(my_col).toPandas().hist()\n",
    "plt.show()"
   ]
  },
  {
   "cell_type": "markdown",
   "metadata": {},
   "source": [
    "`weeks_worked_in_year` values are reasonably either ~0 or ~52. We can transform this variable to categorical to be more meaningful."
   ]
  },
  {
   "cell_type": "code",
   "execution_count": 59,
   "metadata": {},
   "outputs": [
    {
     "data": {
      "image/png": "[encoded data removed]",
      "text/plain": [
       "<Figure size 432x288 with 1 Axes>"
      ]
     },
     "metadata": {
      "needs_background": "light"
     },
     "output_type": "display_data"
    },
    {
     "data": {
      "image/png": "[encoded data removed]",
      "text/plain": [
       "<Figure size 432x288 with 1 Axes>"
      ]
     },
     "metadata": {
      "needs_background": "light"
     },
     "output_type": "display_data"
    }
   ],
   "source": [
    "my_col = \"dividends_from_stocks\"\n",
    "temp = df.select(my_col, target).filter(col(target) == 1)\n",
    "\n",
    "for t, dd in zip([\"Dividends\", \"Dividends '> 50k Inc'\"], [df, temp]):\n",
    "    dd.select(col(my_col).alias(t)).filter(col(my_col) > 0).toPandas().hist()"
   ]
  },
  {
   "cell_type": "markdown",
   "metadata": {},
   "source": [
    "***As expected, dividends show to follow an exponential distribution***"
   ]
  },
  {
   "cell_type": "markdown",
   "metadata": {},
   "source": [
    "---\n",
    "#### Nominal Columns\n",
    "\n",
    "***Several Columns with similar information also seem to have similar null percentage. We need to check their correlation and determine the amount the information we get from these variables. While this can be achieved with chi-square or spearman's tests, we are going to use graphs to save time.***"
   ]
  },
  {
   "cell_type": "markdown",
   "metadata": {},
   "source": [
    "#### Migration Indices excluding Nulls"
   ]
  },
  {
   "cell_type": "code",
   "execution_count": 37,
   "metadata": {},
   "outputs": [
    {
     "data": {
      "image/png": "[encoded data removed]",
      "text/plain": [
       "<Figure size 432x288 with 1 Axes>"
      ]
     },
     "metadata": {
      "needs_background": "light"
     },
     "output_type": "display_data"
    },
    {
     "data": {
      "image/png": "[encoded data removed]",
      "text/plain": [
       "<Figure size 432x288 with 1 Axes>"
      ]
     },
     "metadata": {
      "needs_background": "light"
     },
     "output_type": "display_data"
    },
    {
     "data": {
      "image/png": "[encoded data removed]",
      "text/plain": [
       "<Figure size 432x288 with 1 Axes>"
      ]
     },
     "metadata": {
      "needs_background": "light"
     },
     "output_type": "display_data"
    }
   ],
   "source": [
    "my_col = ['migration_code-change_in_msa_idx', 'migration_code-change_in_reg_idx', 'migration_code-move_within_reg_idx']\n",
    "\n",
    "for i, c in enumerate(my_col):\n",
    "    df.select(c).filter(col(c) < len(idx_values(df, c))-1).toPandas().hist()"
   ]
  },
  {
   "cell_type": "markdown",
   "metadata": {},
   "source": [
    "***As expected there's really high correlation between migration.***"
   ]
  },
  {
   "cell_type": "code",
   "execution_count": 38,
   "metadata": {},
   "outputs": [
    {
     "data": {
      "image/png": "[encoded data removed]",
      "text/plain": [
       "<Figure size 432x288 with 1 Axes>"
      ]
     },
     "metadata": {
      "needs_background": "light"
     },
     "output_type": "display_data"
    },
    {
     "data": {
      "image/png": "[encoded data removed]",
      "text/plain": [
       "<Figure size 432x288 with 1 Axes>"
      ]
     },
     "metadata": {
      "needs_background": "light"
     },
     "output_type": "display_data"
    },
    {
     "data": {
      "image/png": "[encoded data removed]",
      "text/plain": [
       "<Figure size 432x288 with 1 Axes>"
      ]
     },
     "metadata": {
      "needs_background": "light"
     },
     "output_type": "display_data"
    },
    {
     "data": {
      "image/png": "[encoded data removed]",
      "text/plain": [
       "<Figure size 432x288 with 1 Axes>"
      ]
     },
     "metadata": {
      "needs_background": "light"
     },
     "output_type": "display_data"
    },
    {
     "data": {
      "image/png": "[encoded data removed]",
      "text/plain": [
       "<Figure size 432x288 with 1 Axes>"
      ]
     },
     "metadata": {
      "needs_background": "light"
     },
     "output_type": "display_data"
    },
    {
     "data": {
      "image/png": "[encoded data removed]",
      "text/plain": [
       "<Figure size 432x288 with 1 Axes>"
      ]
     },
     "metadata": {
      "needs_background": "light"
     },
     "output_type": "display_data"
    }
   ],
   "source": [
    "my_col = ['country_of_birth_father_idx', 'country_of_birth_mother_idx', 'country_of_birth_self_idx']\n",
    "\n",
    "\n",
    "for i, c in enumerate(my_col):\n",
    "    df.select(c).toPandas().hist()\n",
    "    df.select(col(c).alias(c.split(\"_\")[-2] + \" except US\")).filter(col(c) > 0).toPandas().hist()"
   ]
  },
  {
   "cell_type": "markdown",
   "metadata": {},
   "source": [
    "***Again there's really high correlation & US born workers naturally overwhelm the dataset;***"
   ]
  },
  {
   "cell_type": "markdown",
   "metadata": {},
   "source": [
    "#### Code"
   ]
  },
  {
   "cell_type": "code",
   "execution_count": 39,
   "metadata": {},
   "outputs": [
    {
     "data": {
      "image/png": "[encoded data removed]",
      "text/plain": [
       "<Figure size 432x288 with 1 Axes>"
      ]
     },
     "metadata": {
      "needs_background": "light"
     },
     "output_type": "display_data"
    },
    {
     "data": {
      "image/png": "[encoded data removed]",
      "text/plain": [
       "<Figure size 432x288 with 1 Axes>"
      ]
     },
     "metadata": {
      "needs_background": "light"
     },
     "output_type": "display_data"
    }
   ],
   "source": [
    "my_col = [\"major_industry_code_idx\", \"major_occupation_code_idx\"]\n",
    "\n",
    "for i, c in enumerate(my_col):\n",
    "    df.select(c).filter(col(c) < len(idx_values(df, c))-1).toPandas().hist()"
   ]
  },
  {
   "cell_type": "markdown",
   "metadata": {},
   "source": [
    "***These columns are correlated and (along with others) they could be subjects to variable reduction methodologies***"
   ]
  },
  {
   "cell_type": "markdown",
   "metadata": {},
   "source": [
    "#### Other interesting Attributes"
   ]
  },
  {
   "cell_type": "code",
   "execution_count": 42,
   "metadata": {},
   "outputs": [
    {
     "name": "stdout",
     "output_type": "stream",
     "text": [
      "+-------+-------------------+----------------------------+------------------------------+------------------+------------------+-----------------------+-------------------------+------------------+-------------------+------------------+-------------------------------------+------------------+--------------------------------------+-------------------------------------------+--------------------------------+--------------------------------+----------------------------------+---------------------------------+---------------------------+---------------------------+---------------------------+-------------------------+------------------+---------------------------------+---------------------+-------------------+-------------------+\n",
      "|summary|class_of_worker_idx|detailed_industry_recode_idx|detailed_occupation_recode_idx|     education_idx|  marital_stat_idx|major_industry_code_idx|major_occupation_code_idx|          race_idx|hispanic_origin_idx|           sex_idx|full_or_part_time_employment_stat_idx|tax_filer_stat_idx|detailed_household_and_family_stat_idx|detailed_household_summary_in_household_idx|migration_code-change_in_msa_idx|migration_code-change_in_reg_idx|migration_code-move_within_reg_idx|live_in_this_house_1_year_ago_idx|family_members_under_18_idx|country_of_birth_father_idx|country_of_birth_mother_idx|country_of_birth_self_idx|   citizenship_idx|own_business_or_self_employed_idx|veterans_benefits_idx|           year_idx|       over_50k_idx|\n",
      "+-------+-------------------+----------------------------+------------------------------+------------------+------------------+-----------------------+-------------------------+------------------+-------------------+------------------+-------------------------------------+------------------+--------------------------------------+-------------------------------------------+--------------------------------+--------------------------------+----------------------------------+---------------------------------+---------------------------+---------------------------+---------------------------+-------------------------+------------------+---------------------------------+---------------------+-------------------+-------------------+\n",
      "|  count|             196294|                      196294|                        196294|            196294|            196294|                 196294|                   196294|            196294|             196294|            196294|                               196294|            196294|                                196294|                                     196294|                          196294|                          196294|                            196294|                           196294|                     196294|                     196294|                     196294|                   196294|            196294|                           196294|               196294|             196294|             196294|\n",
      "|   mean| 4.3016342832689745|           5.701891040989536|             6.653473870826414| 3.054306295658553|0.8476418026022191|     14.444776712482296|          8.7895605571235| 0.263640253904857| 0.3958042528044668|0.4783335201279713|                   0.6528880149164009| 1.101322506036863|                    2.1938673622219733|                         1.2816693327355906|               4.186704636922168|              3.6899905244174556|                 4.204957869318472|                 1.09325807207556|          3.045518457008365|          2.924144395651421|          2.785469754551846|       1.6083120217632734|0.1855482082997952|              0.10976901993947853|  0.24606967100369853|0.49932753930328994|0.06307885111108846|\n",
      "| stddev|  3.779815783874626|           9.647166678627295|            10.124512022321571|3.5720902708584372|1.0226815025175304|       9.28828292084878|       5.5871713197718105|0.7084630198750181|  1.200709750010141|0.4995316154806813|                   1.0516147713415764|1.1711844181661504|                    3.0701041118822774|                         1.3774617372138096|               3.904246916182847|              3.4057495266780693|                3.9011895660645375|               0.9545483148214591|          1.628632715547377|          8.934438079528695|          8.657559981346065|        6.684148957799151|0.5976455051820087|              0.35384996573030025|  0.45358021584627845| 0.5000008213999255| 0.2431053490437035|\n",
      "|    min|                0.0|                         0.0|                           0.0|               0.0|               0.0|                    0.0|                      0.0|               0.0|                0.0|               0.0|                                  0.0|               0.0|                                   0.0|                                        0.0|                             0.0|                             0.0|                               0.0|                              0.0|                        0.0|                        0.0|                        0.0|                      0.0|               0.0|                              0.0|                  0.0|                0.0|                0.0|\n",
      "|    25%|                0.0|                         0.0|                           0.0|               1.0|               0.0|                    5.0|                      3.0|               0.0|                0.0|               0.0|                                  0.0|               0.0|                                   0.0|                                        0.0|                             0.0|                             0.0|                               0.0|                              0.0|                        2.0|                        0.0|                        0.0|                      0.0|               0.0|                              0.0|                  0.0|                0.0|                0.0|\n",
      "|    50%|                5.0|                         1.0|                           1.0|               2.0|               1.0|                   20.0|                     12.0|               0.0|                0.0|               0.0|                                  0.0|               1.0|                                   1.0|                                        1.0|                             8.0|                             7.0|                               8.0|                              2.0|                        4.0|                        0.0|                        0.0|                      0.0|               0.0|                              0.0|                  0.0|                0.0|                0.0|\n",
      "|    75%|                8.0|                         8.0|                          11.0|               4.0|               1.0|                   23.0|                     14.0|               0.0|                0.0|               1.0|                                  1.0|               2.0|                                   3.0|                                        2.0|                             8.0|                             7.0|                               8.0|                              2.0|                        4.0|                        0.0|                        0.0|                      0.0|               0.0|                              0.0|                  0.0|                1.0|                0.0|\n",
      "|    max|                8.0|                        51.0|                          46.0|              16.0|               6.0|                   23.0|                     14.0|               4.0|                9.0|               1.0|                                  7.0|               5.0|                                  37.0|                                        7.0|                             8.0|                             7.0|                               8.0|                              2.0|                        4.0|                       42.0|                       42.0|                     42.0|               4.0|                              2.0|                  2.0|                1.0|                1.0|\n",
      "+-------+-------------------+----------------------------+------------------------------+------------------+------------------+-----------------------+-------------------------+------------------+-------------------+------------------+-------------------------------------+------------------+--------------------------------------+-------------------------------------------+--------------------------------+--------------------------------+----------------------------------+---------------------------------+---------------------------+---------------------------+---------------------------+-------------------------+------------------+---------------------------------+---------------------+-------------------+-------------------+\n",
      "\n"
     ]
    }
   ],
   "source": [
    "df.select(*nominal).summary().show()"
   ]
  },
  {
   "cell_type": "code",
   "execution_count": 43,
   "metadata": {
    "pycharm": {
     "name": "#%%\n"
    },
    "scrolled": true
   },
   "outputs": [
    {
     "data": {
      "text/html": [
       "<div>\n",
       "<style scoped>\n",
       "    .dataframe tbody tr th:only-of-type {\n",
       "        vertical-align: middle;\n",
       "    }\n",
       "\n",
       "    .dataframe tbody tr th {\n",
       "        vertical-align: top;\n",
       "    }\n",
       "\n",
       "    .dataframe thead th {\n",
       "        text-align: right;\n",
       "    }\n",
       "</style>\n",
       "<table border=\"1\" class=\"dataframe\">\n",
       "  <thead>\n",
       "    <tr style=\"text-align: right;\">\n",
       "      <th></th>\n",
       "      <th>percent</th>\n",
       "      <th>attributes</th>\n",
       "    </tr>\n",
       "    <tr>\n",
       "      <th>class_of_worker_idx</th>\n",
       "      <th></th>\n",
       "      <th></th>\n",
       "    </tr>\n",
       "  </thead>\n",
       "  <tbody>\n",
       "    <tr>\n",
       "      <th>0.0</th>\n",
       "      <td>0.366904</td>\n",
       "      <td>Private</td>\n",
       "    </tr>\n",
       "    <tr>\n",
       "      <th>1.0</th>\n",
       "      <td>0.043007</td>\n",
       "      <td>Self-employed-not incorporated</td>\n",
       "    </tr>\n",
       "    <tr>\n",
       "      <th>2.0</th>\n",
       "      <td>0.039650</td>\n",
       "      <td>Local government</td>\n",
       "    </tr>\n",
       "    <tr>\n",
       "      <th>3.0</th>\n",
       "      <td>0.021534</td>\n",
       "      <td>State government</td>\n",
       "    </tr>\n",
       "    <tr>\n",
       "      <th>4.0</th>\n",
       "      <td>0.016628</td>\n",
       "      <td>Self-employed-incorporated</td>\n",
       "    </tr>\n",
       "    <tr>\n",
       "      <th>5.0</th>\n",
       "      <td>0.014901</td>\n",
       "      <td>Federal government</td>\n",
       "    </tr>\n",
       "    <tr>\n",
       "      <th>6.0</th>\n",
       "      <td>0.002231</td>\n",
       "      <td>Never worked</td>\n",
       "    </tr>\n",
       "    <tr>\n",
       "      <th>7.0</th>\n",
       "      <td>0.000841</td>\n",
       "      <td>Without pay</td>\n",
       "    </tr>\n",
       "    <tr>\n",
       "      <th>8.0</th>\n",
       "      <td>0.494304</td>\n",
       "      <td>__unknown</td>\n",
       "    </tr>\n",
       "  </tbody>\n",
       "</table>\n",
       "</div>"
      ],
      "text/plain": [
       "                      percent                      attributes\n",
       "class_of_worker_idx                                          \n",
       "0.0                  0.366904                         Private\n",
       "1.0                  0.043007  Self-employed-not incorporated\n",
       "2.0                  0.039650                Local government\n",
       "3.0                  0.021534                State government\n",
       "4.0                  0.016628      Self-employed-incorporated\n",
       "5.0                  0.014901              Federal government\n",
       "6.0                  0.002231                    Never worked\n",
       "7.0                  0.000841                     Without pay\n",
       "8.0                  0.494304                       __unknown"
      ]
     },
     "execution_count": 43,
     "metadata": {},
     "output_type": "execute_result"
    }
   ],
   "source": [
    "series = df.select('class_of_worker_idx').toPandas().value_counts(normalize=True).sort_index()\n",
    "series = pd.DataFrame(series, columns=['percent'])\n",
    "series.assign(attributes = idx_values(df, \"class_of_worker_idx\"))"
   ]
  },
  {
   "cell_type": "code",
   "execution_count": 44,
   "metadata": {},
   "outputs": [
    {
     "data": {
      "image/png": "[encoded data removed]",
      "text/plain": [
       "<Figure size 432x288 with 1 Axes>"
      ]
     },
     "metadata": {
      "needs_background": "light"
     },
     "output_type": "display_data"
    }
   ],
   "source": [
    "my_col = 'class_of_worker_idx'\n",
    "target = 'over_50k_idx'\n",
    "temp = df.select(my_col, target).filter(col(target) == 1)\n",
    "temp.select(col(my_col).alias(\"Class: '> 50k Income'\")).toPandas().hist()\n",
    "plt.show()"
   ]
  },
  {
   "cell_type": "markdown",
   "metadata": {},
   "source": [
    "***It's interesting that worker's class nulls are unevenly distributed between over and under 50k***"
   ]
  },
  {
   "cell_type": "code",
   "execution_count": 45,
   "metadata": {},
   "outputs": [
    {
     "data": {
      "image/png": "[encoded data removed]",
      "text/plain": [
       "<Figure size 432x288 with 1 Axes>"
      ]
     },
     "metadata": {
      "needs_background": "light"
     },
     "output_type": "display_data"
    },
    {
     "data": {
      "image/png": "[encoded data removed]",
      "text/plain": [
       "<Figure size 432x288 with 1 Axes>"
      ]
     },
     "metadata": {
      "needs_background": "light"
     },
     "output_type": "display_data"
    }
   ],
   "source": [
    "my_col = \"sex_idx\"\n",
    "temp = df.select(my_col, target).filter(col(target) == 1)\n",
    "\n",
    "for t, dd in zip([\"Sex\", \"Sex '> 50k Inc'\"], [df, temp]):\n",
    "    dd.select(col(my_col).alias(t)).toPandas().hist(bins=3)\n",
    "    plt.xticks([0.15, 0.85], idx_values(df, my_col))"
   ]
  },
  {
   "cell_type": "markdown",
   "metadata": {},
   "source": [
    "### Select Features\n",
    "\n",
    "***We have already dropped several features which included nulls over 90%. Furthermore, features like Country of Birth and Migration Codes are highly correlated and there is no reason to use more than one. Finally, there are other features which should be abandoned (even if their explanatory power is high), because they are semantically irrelevant with income.***"
   ]
  },
  {
   "cell_type": "markdown",
   "metadata": {},
   "source": [
    "#### PCA to Reduce similar Features before we start"
   ]
  },
  {
   "cell_type": "code",
   "execution_count": 134,
   "metadata": {},
   "outputs": [],
   "source": [
    "from pyspark.ml.feature import VectorAssembler, PCA\n",
    "from pyspark.ml.regression import GeneralizedLinearRegression\n",
    "\n",
    "\n",
    "def feature_creator(dataframe: DataFrame, columns: list, target: str, names: list = ['features', 'label']):\n",
    "    dataframe = dataframe.drop(names[0])\n",
    "    if names[0] in columns:\n",
    "        columns.remove(names[0])\n",
    "\n",
    "    assembler = VectorAssembler(inputCols=columns, outputCol=names[0])\n",
    "    dataframe = assembler.transform(dataframe)\n",
    "    \n",
    "    return dataframe.withColumnRenamed(target, names[1])\n",
    "\n",
    "\n",
    "\n",
    "def pca_select(dataframe: DataFrame, k: int = 2, names: list = ['features', 'pcaFeatures'], drop_columns: list = []):\n",
    "    pca = PCA(k=2, inputCol=names[0], outputCol=names[1])\n",
    "    pca = pca.fit(dataframe).transform(dataframe)\n",
    "    return pca.drop(*drop_columns) if drop_columns else pca\n",
    "\n",
    "\n",
    "def glr_selector(dataframe: DataFrame, features: int, sample_size: float = 1.0, sample_iter: int = 1):\n",
    "    pvals = np.zeros(shape=(1, features))\n",
    "    for _ in range(sample_iter):\n",
    "        sample = dataframe.sample(False, sample_size)\n",
    "        glr = GeneralizedLinearRegression(family=\"binomial\", link=\"logit\", maxIter=10, regParam=0.0)\n",
    "        model = glr.fit(sample)\n",
    "        pvals += np.array(model.summary.pValues[1:])\n",
    "            "
   ]
  },
  {
   "cell_type": "code",
   "execution_count": 135,
   "metadata": {},
   "outputs": [
    {
     "name": "stdout",
     "output_type": "stream",
     "text": [
      "+---+---------------------+---------------+-------------------------------+--------------------+-------------------+----------------------------+------------------------------+-------------+----------------+-----------------------+-------------------------+--------+-------------------+-------+-------------------------------------+------------------+--------------------------------------+-------------------------------------------+--------------------------------+--------------------------------+----------------------------------+---------------------------------+---------------------------+---------------------------+---------------------------+-------------------------+---------------+---------------------------------+---------------------+--------+-----+-------------+\n",
      "|age|dividends_from_stocks|instance_weight|num_persons_worked_for_employer|weeks_worked_in_year|class_of_worker_idx|detailed_industry_recode_idx|detailed_occupation_recode_idx|education_idx|marital_stat_idx|major_industry_code_idx|major_occupation_code_idx|race_idx|hispanic_origin_idx|sex_idx|full_or_part_time_employment_stat_idx|tax_filer_stat_idx|detailed_household_and_family_stat_idx|detailed_household_summary_in_household_idx|migration_code-change_in_msa_idx|migration_code-change_in_reg_idx|migration_code-move_within_reg_idx|live_in_this_house_1_year_ago_idx|family_members_under_18_idx|country_of_birth_father_idx|country_of_birth_mother_idx|country_of_birth_self_idx|citizenship_idx|own_business_or_self_employed_idx|veterans_benefits_idx|year_idx|label|     features|\n",
      "+---+---------------------+---------------+-------------------------------+--------------------+-------------------+----------------------------+------------------------------+-------------+----------------+-----------------------+-------------------------+--------+-------------------+-------+-------------------------------------+------------------+--------------------------------------+-------------------------------------------+--------------------------------+--------------------------------+----------------------------------+---------------------------------+---------------------------+---------------------------+---------------------------+-------------------------+---------------+---------------------------------+---------------------+--------+-----+-------------+\n",
      "| 59|                    0|        2073.21|                              6|                  52|                0.0|                         3.0|                           6.0|          0.0|             1.0|                    5.0|                      5.0|     0.0|                0.0|    1.0|                                  0.0|               1.0|                                   0.0|                                        0.0|                             0.0|                             0.0|                               0.0|                              0.0|                        4.0|                        0.0|                        0.0|                      0.0|            0.0|                              0.0|                  0.0|     0.0|  0.0|    (3,[],[])|\n",
      "| 74|                    0|        2863.45|                              0|                   0|                8.0|                         0.0|                           0.0|         13.0|             3.0|                   23.0|                     14.0|     2.0|                0.0|    0.0|                                  2.0|               0.0|                                   3.0|                                        0.0|                             8.0|                             7.0|                               8.0|                              2.0|                        4.0|                       11.0|                       12.0|                      9.0|            2.0|                              0.0|                  0.0|     1.0|  0.0|[8.0,7.0,8.0]|\n",
      "| 60|                    0|        4032.87|                              1|                  52|                0.0|                        28.0|                          34.0|          3.0|             2.0|                   19.0|                     12.0|     0.0|                2.0|    0.0|                                  1.0|               2.0|                                   6.0|                                        4.0|                             8.0|                             7.0|                               8.0|                              2.0|                        4.0|                        1.0|                        1.0|                      1.0|            2.0|                              0.0|                  0.0|     1.0|  0.0|[8.0,7.0,8.0]|\n",
      "| 45|                    0|        2032.39|                              6|                  52|                0.0|                        22.0|                          17.0|          2.0|             1.0|                    3.0|                      6.0|     0.0|                0.0|    0.0|                                  1.0|               1.0|                                   2.0|                                        2.0|                             8.0|                             7.0|                               8.0|                              2.0|                        4.0|                        0.0|                        0.0|                      0.0|            0.0|                              0.0|                  0.0|     1.0|  0.0|[8.0,7.0,8.0]|\n",
      "| 38|                   25|        1364.02|                              3|                  52|                0.0|                        23.0|                           1.0|          9.0|             1.0|                   17.0|                      2.0|     0.0|                0.0|    0.0|                                  1.0|               1.0|                                   2.0|                                        2.0|                             8.0|                             7.0|                               8.0|                              2.0|                        4.0|                        0.0|                        0.0|                      0.0|            0.0|                              0.0|                  0.0|     1.0|  0.0|[8.0,7.0,8.0]|\n",
      "+---+---------------------+---------------+-------------------------------+--------------------+-------------------+----------------------------+------------------------------+-------------+----------------+-----------------------+-------------------------+--------+-------------------+-------+-------------------------------------+------------------+--------------------------------------+-------------------------------------------+--------------------------------+--------------------------------+----------------------------------+---------------------------------+---------------------------+---------------------------+---------------------------+-------------------------+---------------+---------------------------------+---------------------+--------+-----+-------------+\n",
      "only showing top 5 rows\n",
      "\n"
     ]
    }
   ],
   "source": [
    "my_col = ['migration_code-change_in_msa_idx', 'migration_code-change_in_reg_idx', 'migration_code-move_within_reg_idx']\n",
    "\n",
    "data = feature_creator(df, my_col, target)\n",
    "# data = pca_select(data, k=2, drop_columns=my_col)\n",
    "\n",
    "data.show(5)"
   ]
  },
  {
   "cell_type": "code",
   "execution_count": 136,
   "metadata": {},
   "outputs": [],
   "source": [
    "data = feature_creator(data, data.columns, 'label')\n"
   ]
  },
  {
   "cell_type": "code",
   "execution_count": 96,
   "metadata": {},
   "outputs": [],
   "source": [
    "my_col = ['country_of_birth_father_idx', 'country_of_birth_mother_idx', 'country_of_birth_self_idx']\n"
   ]
  },
  {
   "cell_type": "code",
   "execution_count": 97,
   "metadata": {},
   "outputs": [],
   "source": [
    "my_col = [\"major_industry_code_idx\", \"major_occupation_code_idx\"]\n"
   ]
  },
  {
   "cell_type": "code",
   "execution_count": 98,
   "metadata": {},
   "outputs": [],
   "source": [
    "my_col = df.columns[:-1]\n",
    "remove = ['country_of_birth_father_idx', 'country_of_birth_mother_idx', 'migration_code-change_in_reg_idx',\n",
    " 'migration_code-move_within_reg_idx', 'year_idx']\n",
    "for i in remove:\n",
    "    my_col.remove(i)"
   ]
  },
  {
   "cell_type": "code",
   "execution_count": null,
   "metadata": {},
   "outputs": [],
   "source": [
    "from pyspark.ml.regression import GeneralizedLinearRegression\n",
    "\n",
    "data = feature_creator(df, df.columns, target)\n",
    "glr = GeneralizedLinearRegression(family=\"binomial\", link=\"logit\", maxIter=10, \n",
    "regParam=0.0)\n",
    "data = data.select('features', 'label')\n",
    "\n",
    "model = glr.fit(data)\n",
    "model.summary"
   ]
  },
  {
   "cell_type": "code",
   "execution_count": 181,
   "metadata": {},
   "outputs": [
    {
     "name": "stdout",
     "output_type": "stream",
     "text": [
      "+---+---------------------+---------------+-------------------------------+--------------------+-------------------+----------------------------+------------------------------+-------------+----------------+-----------------------+-------------------------+--------+-------------------+-------+-------------------------------------+------------------+--------------------------------------+-------------------------------------------+--------------------------------+--------------------------------+----------------------------------+---------------------------------+---------------------------+---------------------------+---------------------------+-------------------------+---------------+---------------------------------+---------------------+--------+-----+-------------+\n",
      "|age|dividends_from_stocks|instance_weight|num_persons_worked_for_employer|weeks_worked_in_year|class_of_worker_idx|detailed_industry_recode_idx|detailed_occupation_recode_idx|education_idx|marital_stat_idx|major_industry_code_idx|major_occupation_code_idx|race_idx|hispanic_origin_idx|sex_idx|full_or_part_time_employment_stat_idx|tax_filer_stat_idx|detailed_household_and_family_stat_idx|detailed_household_summary_in_household_idx|migration_code-change_in_msa_idx|migration_code-change_in_reg_idx|migration_code-move_within_reg_idx|live_in_this_house_1_year_ago_idx|family_members_under_18_idx|country_of_birth_father_idx|country_of_birth_mother_idx|country_of_birth_self_idx|citizenship_idx|own_business_or_self_employed_idx|veterans_benefits_idx|year_idx|label|     features|\n",
      "+---+---------------------+---------------+-------------------------------+--------------------+-------------------+----------------------------+------------------------------+-------------+----------------+-----------------------+-------------------------+--------+-------------------+-------+-------------------------------------+------------------+--------------------------------------+-------------------------------------------+--------------------------------+--------------------------------+----------------------------------+---------------------------------+---------------------------+---------------------------+---------------------------+-------------------------+---------------+---------------------------------+---------------------+--------+-----+-------------+\n",
      "| 59|                    0|        2073.21|                              6|                  52|                0.0|                         3.0|                           6.0|          0.0|             1.0|                    5.0|                      5.0|     0.0|                0.0|    1.0|                                  0.0|               1.0|                                   0.0|                                        0.0|                             0.0|                             0.0|                               0.0|                              0.0|                        4.0|                        0.0|                        0.0|                      0.0|            0.0|                              0.0|                  0.0|     0.0|  0.0|    (3,[],[])|\n",
      "| 74|                    0|        2863.45|                              0|                   0|                8.0|                         0.0|                           0.0|         13.0|             3.0|                   23.0|                     14.0|     2.0|                0.0|    0.0|                                  2.0|               0.0|                                   3.0|                                        0.0|                             8.0|                             7.0|                               8.0|                              2.0|                        4.0|                       11.0|                       12.0|                      9.0|            2.0|                              0.0|                  0.0|     1.0|  0.0|[8.0,7.0,8.0]|\n",
      "| 60|                    0|        4032.87|                              1|                  52|                0.0|                        28.0|                          34.0|          3.0|             2.0|                   19.0|                     12.0|     0.0|                2.0|    0.0|                                  1.0|               2.0|                                   6.0|                                        4.0|                             8.0|                             7.0|                               8.0|                              2.0|                        4.0|                        1.0|                        1.0|                      1.0|            2.0|                              0.0|                  0.0|     1.0|  0.0|[8.0,7.0,8.0]|\n",
      "| 45|                    0|        2032.39|                              6|                  52|                0.0|                        22.0|                          17.0|          2.0|             1.0|                    3.0|                      6.0|     0.0|                0.0|    0.0|                                  1.0|               1.0|                                   2.0|                                        2.0|                             8.0|                             7.0|                               8.0|                              2.0|                        4.0|                        0.0|                        0.0|                      0.0|            0.0|                              0.0|                  0.0|     1.0|  0.0|[8.0,7.0,8.0]|\n",
      "| 38|                   25|        1364.02|                              3|                  52|                0.0|                        23.0|                           1.0|          9.0|             1.0|                   17.0|                      2.0|     0.0|                0.0|    0.0|                                  1.0|               1.0|                                   2.0|                                        2.0|                             8.0|                             7.0|                               8.0|                              2.0|                        4.0|                        0.0|                        0.0|                      0.0|            0.0|                              0.0|                  0.0|     1.0|  0.0|[8.0,7.0,8.0]|\n",
      "+---+---------------------+---------------+-------------------------------+--------------------+-------------------+----------------------------+------------------------------+-------------+----------------+-----------------------+-------------------------+--------+-------------------+-------+-------------------------------------+------------------+--------------------------------------+-------------------------------------------+--------------------------------+--------------------------------+----------------------------------+---------------------------------+---------------------------+---------------------------+---------------------------+-------------------------+---------------+---------------------------------+---------------------+--------+-----+-------------+\n",
      "only showing top 5 rows\n",
      "\n"
     ]
    }
   ],
   "source": [
    "# from pyspark.sql import Row\n",
    "# from pyspark.ml.linalg import Vectors\n",
    "from pyspark.ml.feature import VectorAssembler\n",
    "\n",
    "\n",
    "assembler = VectorAssembler(\n",
    "    inputCols=my_col,\n",
    "    outputCol='features')\n",
    "\n",
    "trainingData = assembler.transform(df)\n",
    "trainingData = trainingData.withColumnRenamed(\"over_50k_idx\", \"label\")\n",
    "# trainingData = trainingData.select('features', 'label')\n",
    "trainingData.show(5)"
   ]
  },
  {
   "cell_type": "code",
   "execution_count": 184,
   "metadata": {},
   "outputs": [
    {
     "data": {
      "text/plain": [
       "['migration_code-change_in_msa_idx',\n",
       " 'migration_code-change_in_reg_idx',\n",
       " 'migration_code-move_within_reg_idx']"
      ]
     },
     "execution_count": 184,
     "metadata": {},
     "output_type": "execute_result"
    }
   ],
   "source": [
    "my_col"
   ]
  },
  {
   "cell_type": "code",
   "execution_count": 182,
   "metadata": {},
   "outputs": [],
   "source": [
    "from pyspark.ml.regression import GeneralizedLinearRegression\n",
    "\n",
    "glr = GeneralizedLinearRegression(family=\"binomial\", link=\"logit\", maxIter=10, \n",
    "regParam=0.0)\n",
    "\n",
    "model = glr.fit(trainingData)\n",
    "# print(\"Coefficient Standard Errors: \" + str(summary.coefficientStandardErrors))\n",
    "# print(\"T Values: \" + str(summary.tValues))\n",
    "# print(\"P Values: \" + str(summary.pValues))"
   ]
  },
  {
   "cell_type": "code",
   "execution_count": 183,
   "metadata": {},
   "outputs": [
    {
     "data": {
      "text/plain": [
       "[0.05848836751077435, 0.14341015342993257, 0.00418795806858463, 0.0]"
      ]
     },
     "execution_count": 183,
     "metadata": {},
     "output_type": "execute_result"
    }
   ],
   "source": [
    "summary = model.summary\n",
    "summary.pValues"
   ]
  },
  {
   "cell_type": "code",
   "execution_count": null,
   "metadata": {},
   "outputs": [],
   "source": [
    "from pyspark.ml.feature import PCA\n",
    "from pyspark.mllib.linalg import Vectors\n",
    "\n",
    "pca = PCA(k=2, inputCol=\"features\", outputCol=\"pcaFeatures\")\n",
    "model = pca.fit(trainingData)\n",
    "result = model.transform(trainingData).select(\"label\", \"pcaFeatures\")\n",
    "result.show(truncate=False)"
   ]
  },
  {
   "cell_type": "code",
   "execution_count": null,
   "metadata": {},
   "outputs": [],
   "source": [
    "try2 = result.withColumnRenamed(\"pcaFeatures\", \"features\")\n",
    "\n",
    "glr = GeneralizedLinearRegression(family=\"binomial\", link=\"logit\", maxIter=10, \n",
    "regParam=0.0)\n",
    "\n",
    "model = glr.fit(try2)\n",
    "\n",
    "model.summary"
   ]
  },
  {
   "cell_type": "raw",
   "metadata": {},
   "source": [
    "from pyspark.ml.classification import LogisticRegression\n",
    "\n",
    "# Load training data\n",
    "# training = spark.read.format(\"libsvm\").load(\"data/mllib/sample_libsvm_data.txt\")\n",
    "\n",
    "lr = LogisticRegression(maxIter=10, regParam=0.3, elasticNetParam=0.8)\n",
    "\n",
    "# Fit the model\n",
    "lrModel = lr.fit(training)\n",
    "\n",
    "# Print the coefficients and intercept for logistic regression\n",
    "print(\"Coefficients: \" + str(lrModel.coefficients))\n",
    "print(\"Intercept: \" + str(lrModel.intercept))\n",
    "\n",
    "# We can also use the multinomial family for binary classification\n",
    "mlr = LogisticRegression(maxIter=10, regParam=0.3, elasticNetParam=0.8, family=\"multinomial\")\n",
    "\n",
    "# Fit the model\n",
    "mlrModel = mlr.fit(training)\n",
    "\n",
    "# Print the coefficients and intercepts for logistic regression with multinomial family\n",
    "print(\"Multinomial coefficients: \" + str(mlrModel.coefficientMatrix))\n",
    "print(\"Multinomial intercepts: \" + str(mlrModel.interceptVector))"
   ]
  }
 ],
 "metadata": {
  "colab": {
   "collapsed_sections": [],
   "name": "pyspark_try.ipynb",
   "provenance": []
  },
  "kernelspec": {
   "display_name": "Python 3",
   "language": "python",
   "name": "python3"
  },
  "language_info": {
   "codemirror_mode": {
    "name": "ipython",
    "version": 3
   },
   "file_extension": ".py",
   "mimetype": "text/x-python",
   "name": "python",
   "nbconvert_exporter": "python",
   "pygments_lexer": "ipython3",
   "version": "3.8.5"
  }
 },
 "nbformat": 4,
 "nbformat_minor": 1
}
